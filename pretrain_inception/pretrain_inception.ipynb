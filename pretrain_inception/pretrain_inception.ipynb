{
 "cells": [
  {
   "cell_type": "markdown",
   "metadata": {
    "_uuid": "c8fc6c3e84f282d0e6f664caf9848297b6c62a16"
   },
   "source": [
    "### U-net with simple Resnet Blocks v2, can get 0.80+\n",
    "* Original version : \n",
    "  https://www.kaggle.com/shaojiaxin/u-net-with-simple-resnet-blocks\n",
    "        \n",
    "        \n",
    "#### update log\n",
    "1.   Cancel last dropout (seems better)\n",
    "2.  modify convolution_block, to be more consistant with the standard resent model. \n",
    "      * https://arxiv.org/abs/1603.05027\n",
    "3. Use faster  IOU metric score code,\n",
    "      * https://www.kaggle.com/donchuk/fast-implementation-of-scoring-metric\n",
    "4. Use  binary_crossentropy loss and then Lovász-hinge loss (very slow!)\n",
    "     * Lovász-hinge loss: https://github.com/bermanmaxim/LovaszSoftmax\n",
    "     \n",
    "Limit the max epochs number to make the kernel finish in the limit of 6 hours, better score can be achived at more epochs "
   ]
  },
  {
   "cell_type": "code",
   "execution_count": 1,
   "metadata": {
    "_cell_guid": "b1076dfc-b9ad-4769-8c92-a6c4dae69d19",
    "_uuid": "8f2839f25d086af736a60e9eeb907d3b93b6e0e5"
   },
   "outputs": [
    {
     "name": "stderr",
     "output_type": "stream",
     "text": [
      "Using TensorFlow backend.\n"
     ]
    }
   ],
   "source": [
    "import os, sys, inspect\n",
    "currentdir = os.path.dirname(os.path.abspath(inspect.getfile(inspect.currentframe())))\n",
    "parentdir = os.path.dirname(currentdir)\n",
    "sys.path.insert(0,parentdir)\n",
    "\n",
    "from func import img_process\n",
    "from func import custom_loss\n",
    "\n",
    "import random\n",
    "import pydot\n",
    "import pandas as pd\n",
    "import numpy as np\n",
    "import matplotlib.pyplot as plt\n",
    "plt.style.use('seaborn-white')\n",
    "import seaborn as sns\n",
    "sns.set_style(\"white\")\n",
    "\n",
    "%matplotlib inline\n",
    "\n",
    "# import cv2\n",
    "from sklearn.model_selection import train_test_split\n",
    "\n",
    "from tqdm import tqdm_notebook #, tnrange\n",
    "#from itertools import chain\n",
    "from skimage.io import imread, imshow #, concatenate_images\n",
    "from skimage.transform import resize\n",
    "from skimage.morphology import label\n",
    "\n",
    "from keras.models import Model, load_model, save_model\n",
    "from keras.layers import Input,Dropout,BatchNormalization,Activation,Add\n",
    "from keras.layers.core import Lambda\n",
    "from keras.layers.convolutional import Conv2D, Conv2DTranspose\n",
    "from keras.layers.pooling import MaxPooling2D\n",
    "from keras.layers.merge import concatenate\n",
    "from keras.callbacks import EarlyStopping, ModelCheckpoint, ReduceLROnPlateau\n",
    "from keras import backend as K\n",
    "from keras import optimizers\n",
    "from keras.applications.resnet50 import ResNet50\n",
    "from keras.utils.vis_utils import plot_model\n",
    "from keras.backend import tensorflow_backend, common\n",
    "from keras.backend.tensorflow_backend import set_session\n",
    "\n",
    "from IPython.display import SVG\n",
    "from keras.utils.vis_utils import model_to_dot\n",
    "\n",
    "import tensorflow as tf\n",
    "\n",
    "from keras.preprocessing.image import array_to_img, img_to_array, load_img#,save_img\n",
    "\n",
    "os.environ[\"CUDA_VISIBLE_DEVICES\"]=\"0\"\n",
    "\n",
    "import time\n",
    "t_start = time.time()\n",
    "\n",
    "%load_ext autoreload\n",
    "%autoreload 2"
   ]
  },
  {
   "cell_type": "code",
   "execution_count": 2,
   "metadata": {
    "_uuid": "2c36d16775556c3e358edefab5710dc1541ccfc4"
   },
   "outputs": [
    {
     "name": "stdout",
     "output_type": "stream",
     "text": [
      "Unet_resnet_v5.model\n",
      "Unet_resnet_v5.csv\n"
     ]
    }
   ],
   "source": [
    "version = 5\n",
    "basic_name = f'Unet_resnet_v{version}'\n",
    "save_model_name = basic_name + '.model'\n",
    "submission_file = basic_name + '.csv'\n",
    "\n",
    "print(save_model_name)\n",
    "print(submission_file)"
   ]
  },
  {
   "cell_type": "code",
   "execution_count": 3,
   "metadata": {},
   "outputs": [],
   "source": [
    "# keep split same\n",
    "if(os.path.isfile('val_df.csv') is False):\n",
    "    train_df, val_df, test_df = img_process.create_train_val_test_split_df()\n",
    "    train_df.to_csv('./train_df.csv')\n",
    "    val_df.to_csv('./val_df.csv')\n",
    "    test_df.to_csv('./test_df.csv')\n",
    "else:\n",
    "    train_df = pd.read_csv(\"./train_df.csv\")\n",
    "    val_df = pd.read_csv(\"./val_df.csv\")\n",
    "    test_df = pd.read_csv(\"./test_df.csv\")"
   ]
  },
  {
   "cell_type": "code",
   "execution_count": 4,
   "metadata": {},
   "outputs": [],
   "source": [
    "x_train = img_process.read_train_img_to_np_array(train_df)\n",
    "y_train = img_process.read_mask_img_to_np_array(train_df)\n",
    "x_valid = img_process.read_train_img_to_np_array(val_df)\n",
    "y_valid = img_process.read_mask_img_to_np_array(val_df)"
   ]
  },
  {
   "cell_type": "code",
   "execution_count": 5,
   "metadata": {
    "_uuid": "072ab621d38cc93d26998f391357cb6efc791600"
   },
   "outputs": [
    {
     "name": "stdout",
     "output_type": "stream",
     "text": [
      "(6400, 128, 128, 3)\n",
      "(6400, 128, 128, 1)\n",
      "(800, 128, 128, 3)\n",
      "(800, 128, 128, 1)\n"
     ]
    }
   ],
   "source": [
    "#Data augmentation\n",
    "x_train = np.append(x_train, [np.fliplr(x) for x in x_train], axis=0)\n",
    "y_train = np.append(y_train, [np.fliplr(x) for x in y_train], axis=0)\n",
    "print(x_train.shape)\n",
    "print(y_train.shape)\n",
    "print(x_valid.shape)\n",
    "print(y_valid.shape)"
   ]
  },
  {
   "cell_type": "code",
   "execution_count": 6,
   "metadata": {},
   "outputs": [],
   "source": [
    "# tensorflow session setting\n",
    "tf_config = tf.ConfigProto()\n",
    "tf_config.gpu_options.allow_growth = True\n",
    "set_session(tf.Session(config=tf_config))"
   ]
  },
  {
   "cell_type": "code",
   "execution_count": 7,
   "metadata": {},
   "outputs": [],
   "source": [
    "from segmentation_models import Unet\n",
    "\n",
    "# prepare model\n",
    "model1 = Unet(backbone_name='inceptionresnetv2', encoder_weights='imagenet')\n",
    "c = optimizers.adam(0.001)\n",
    "model1.compile(loss=\"binary_crossentropy\", optimizer=c, metrics=[custom_loss.my_iou_metric])\n",
    "\n",
    "# model1.summary()\n",
    "# SVG(model_to_dot(model1, show_shapes=True, show_layer_names=True).create(prog='dot', format='svg'))"
   ]
  },
  {
   "cell_type": "code",
   "execution_count": null,
   "metadata": {
    "_uuid": "41699081be465c14e193ffad4fd00bd56840f156",
    "scrolled": true
   },
   "outputs": [
    {
     "name": "stdout",
     "output_type": "stream",
     "text": [
      "Train on 6400 samples, validate on 800 samples\n",
      "Epoch 1/50\n",
      " - 150s - loss: 0.3555 - my_iou_metric: 0.5056 - val_loss: 0.2968 - val_my_iou_metric: 0.6389\n",
      "\n",
      "Epoch 00001: my_iou_metric improved from -inf to 0.50558, saving model to Unet_resnet_v5.model\n",
      "Epoch 2/50\n",
      " - 116s - loss: 0.2854 - my_iou_metric: 0.6291 - val_loss: 0.2697 - val_my_iou_metric: 0.6762\n",
      "\n",
      "Epoch 00002: my_iou_metric improved from 0.50558 to 0.62911, saving model to Unet_resnet_v5.model\n",
      "Epoch 3/50\n",
      " - 118s - loss: 0.2571 - my_iou_metric: 0.6499 - val_loss: 0.2399 - val_my_iou_metric: 0.6804\n",
      "\n",
      "Epoch 00003: my_iou_metric improved from 0.62911 to 0.64992, saving model to Unet_resnet_v5.model\n",
      "Epoch 4/50\n",
      " - 130s - loss: 0.2256 - my_iou_metric: 0.6709 - val_loss: 0.2646 - val_my_iou_metric: 0.6580\n",
      "\n",
      "Epoch 00004: my_iou_metric improved from 0.64992 to 0.67091, saving model to Unet_resnet_v5.model\n",
      "Epoch 5/50\n",
      " - 124s - loss: 0.2053 - my_iou_metric: 0.6901 - val_loss: 0.2546 - val_my_iou_metric: 0.6942\n",
      "\n",
      "Epoch 00005: my_iou_metric improved from 0.67091 to 0.69006, saving model to Unet_resnet_v5.model\n",
      "Epoch 6/50\n",
      " - 120s - loss: 0.2097 - my_iou_metric: 0.6652 - val_loss: 0.2201 - val_my_iou_metric: 0.6825\n",
      "\n",
      "Epoch 00006: my_iou_metric did not improve from 0.69006\n",
      "Epoch 7/50\n",
      " - 122s - loss: 0.1875 - my_iou_metric: 0.6776 - val_loss: 0.1993 - val_my_iou_metric: 0.7009\n",
      "\n",
      "Epoch 00007: my_iou_metric did not improve from 0.69006\n",
      "Epoch 8/50\n",
      " - 122s - loss: 0.1590 - my_iou_metric: 0.6995 - val_loss: 0.1772 - val_my_iou_metric: 0.7119\n",
      "\n",
      "Epoch 00008: my_iou_metric improved from 0.69006 to 0.69955, saving model to Unet_resnet_v5.model\n",
      "Epoch 9/50\n",
      " - 122s - loss: 0.1464 - my_iou_metric: 0.7094 - val_loss: 0.1811 - val_my_iou_metric: 0.7168\n",
      "\n",
      "Epoch 00009: my_iou_metric improved from 0.69955 to 0.70944, saving model to Unet_resnet_v5.model\n",
      "Epoch 10/50\n",
      " - 122s - loss: 0.1386 - my_iou_metric: 0.7139 - val_loss: 0.1504 - val_my_iou_metric: 0.7320\n",
      "\n",
      "Epoch 00010: my_iou_metric improved from 0.70944 to 0.71392, saving model to Unet_resnet_v5.model\n",
      "Epoch 11/50\n",
      " - 126s - loss: 0.1264 - my_iou_metric: 0.7377 - val_loss: 0.2978 - val_my_iou_metric: 0.6241\n",
      "\n",
      "Epoch 00011: my_iou_metric improved from 0.71392 to 0.73766, saving model to Unet_resnet_v5.model\n",
      "Epoch 12/50\n",
      " - 145s - loss: 0.1261 - my_iou_metric: 0.7333 - val_loss: 0.1485 - val_my_iou_metric: 0.7421\n",
      "\n",
      "Epoch 00012: my_iou_metric did not improve from 0.73766\n",
      "Epoch 13/50\n",
      " - 126s - loss: 0.1175 - my_iou_metric: 0.7471 - val_loss: 0.1517 - val_my_iou_metric: 0.7301\n",
      "\n",
      "Epoch 00013: my_iou_metric improved from 0.73766 to 0.74708, saving model to Unet_resnet_v5.model\n",
      "Epoch 14/50\n",
      " - 124s - loss: 0.1210 - my_iou_metric: 0.7375 - val_loss: 0.1437 - val_my_iou_metric: 0.7430\n",
      "\n",
      "Epoch 00014: my_iou_metric did not improve from 0.74708\n",
      "Epoch 15/50\n",
      " - 125s - loss: 0.1045 - my_iou_metric: 0.7541 - val_loss: 0.2472 - val_my_iou_metric: 0.6805\n",
      "\n",
      "Epoch 00015: my_iou_metric improved from 0.74708 to 0.75414, saving model to Unet_resnet_v5.model\n",
      "Epoch 16/50\n",
      " - 125s - loss: 0.0916 - my_iou_metric: 0.7674 - val_loss: 0.1633 - val_my_iou_metric: 0.7576\n",
      "\n",
      "Epoch 00016: my_iou_metric improved from 0.75414 to 0.76742, saving model to Unet_resnet_v5.model\n",
      "Epoch 17/50\n",
      " - 125s - loss: 0.0896 - my_iou_metric: 0.7698 - val_loss: 0.1324 - val_my_iou_metric: 0.7721\n",
      "\n",
      "Epoch 00017: my_iou_metric improved from 0.76742 to 0.76981, saving model to Unet_resnet_v5.model\n",
      "Epoch 18/50\n",
      " - 125s - loss: 0.0843 - my_iou_metric: 0.7798 - val_loss: 0.1571 - val_my_iou_metric: 0.7120\n",
      "\n",
      "Epoch 00018: my_iou_metric improved from 0.76981 to 0.77984, saving model to Unet_resnet_v5.model\n",
      "Epoch 19/50\n",
      " - 124s - loss: 0.0869 - my_iou_metric: 0.7795 - val_loss: 0.1439 - val_my_iou_metric: 0.7739\n",
      "\n",
      "Epoch 00019: my_iou_metric did not improve from 0.77984\n",
      "Epoch 20/50\n",
      " - 125s - loss: 0.0846 - my_iou_metric: 0.7830 - val_loss: 0.1961 - val_my_iou_metric: 0.6959\n",
      "\n",
      "Epoch 00020: my_iou_metric improved from 0.77984 to 0.78298, saving model to Unet_resnet_v5.model\n",
      "Epoch 21/50\n",
      " - 124s - loss: 0.0811 - my_iou_metric: 0.7815 - val_loss: 0.1693 - val_my_iou_metric: 0.7670\n",
      "\n",
      "Epoch 00021: my_iou_metric did not improve from 0.78298\n",
      "Epoch 22/50\n",
      " - 125s - loss: 0.0729 - my_iou_metric: 0.7951 - val_loss: 0.1516 - val_my_iou_metric: 0.7684\n",
      "\n",
      "Epoch 00022: my_iou_metric improved from 0.78298 to 0.79514, saving model to Unet_resnet_v5.model\n",
      "Epoch 23/50\n",
      " - 116s - loss: 0.0614 - my_iou_metric: 0.8055 - val_loss: 0.2193 - val_my_iou_metric: 0.7361\n",
      "\n",
      "Epoch 00023: my_iou_metric improved from 0.79514 to 0.80555, saving model to Unet_resnet_v5.model\n",
      "Epoch 24/50\n",
      " - 116s - loss: 0.0876 - my_iou_metric: 0.7774 - val_loss: 0.2112 - val_my_iou_metric: 0.7347\n",
      "\n",
      "Epoch 00024: my_iou_metric did not improve from 0.80555\n",
      "Epoch 25/50\n",
      " - 115s - loss: 0.0649 - my_iou_metric: 0.8026 - val_loss: 0.1629 - val_my_iou_metric: 0.7402\n",
      "\n",
      "Epoch 00025: my_iou_metric did not improve from 0.80555\n",
      "Epoch 26/50\n",
      " - 115s - loss: 0.0548 - my_iou_metric: 0.8152 - val_loss: 0.1750 - val_my_iou_metric: 0.7915\n",
      "\n",
      "Epoch 00026: my_iou_metric improved from 0.80555 to 0.81520, saving model to Unet_resnet_v5.model\n",
      "Epoch 27/50\n",
      " - 116s - loss: 0.0670 - my_iou_metric: 0.8011 - val_loss: 0.1600 - val_my_iou_metric: 0.7621\n",
      "\n",
      "Epoch 00027: my_iou_metric did not improve from 0.81520\n",
      "Epoch 28/50\n",
      " - 115s - loss: 0.0660 - my_iou_metric: 0.8011 - val_loss: 0.1432 - val_my_iou_metric: 0.7696\n",
      "\n",
      "Epoch 00028: my_iou_metric did not improve from 0.81520\n",
      "Epoch 29/50\n",
      " - 115s - loss: 0.0659 - my_iou_metric: 0.8027 - val_loss: 0.1577 - val_my_iou_metric: 0.7225\n",
      "\n",
      "Epoch 00029: my_iou_metric did not improve from 0.81520\n",
      "Epoch 30/50\n",
      " - 174s - loss: 0.0478 - my_iou_metric: 0.8314 - val_loss: 0.1343 - val_my_iou_metric: 0.7899\n",
      "\n",
      "Epoch 00030: my_iou_metric improved from 0.81520 to 0.83139, saving model to Unet_resnet_v5.model\n",
      "Epoch 31/50\n",
      " - 147s - loss: 0.0670 - my_iou_metric: 0.8035 - val_loss: 0.2185 - val_my_iou_metric: 0.7917\n",
      "\n",
      "Epoch 00031: my_iou_metric did not improve from 0.83139\n",
      "Epoch 32/50\n",
      " - 118s - loss: 0.0468 - my_iou_metric: 0.8338 - val_loss: 0.1736 - val_my_iou_metric: 0.7899\n",
      "\n",
      "Epoch 00032: my_iou_metric improved from 0.83139 to 0.83378, saving model to Unet_resnet_v5.model\n",
      "Epoch 33/50\n",
      " - 144s - loss: 0.0488 - my_iou_metric: 0.8232 - val_loss: 0.1610 - val_my_iou_metric: 0.7771\n",
      "\n",
      "Epoch 00033: my_iou_metric did not improve from 0.83378\n",
      "Epoch 34/50\n",
      " - 114s - loss: 0.0434 - my_iou_metric: 0.8407 - val_loss: 0.1490 - val_my_iou_metric: 0.7806\n",
      "\n",
      "Epoch 00034: my_iou_metric improved from 0.83378 to 0.84069, saving model to Unet_resnet_v5.model\n",
      "Epoch 35/50\n",
      " - 113s - loss: 0.0557 - my_iou_metric: 0.8149 - val_loss: 0.2291 - val_my_iou_metric: 0.6970\n",
      "\n",
      "Epoch 00035: my_iou_metric did not improve from 0.84069\n",
      "Epoch 36/50\n",
      " - 113s - loss: 0.0842 - my_iou_metric: 0.7822 - val_loss: 0.2247 - val_my_iou_metric: 0.6815\n",
      "\n",
      "Epoch 00036: my_iou_metric did not improve from 0.84069\n",
      "Epoch 37/50\n",
      " - 115s - loss: 0.0538 - my_iou_metric: 0.8182 - val_loss: 0.1590 - val_my_iou_metric: 0.7991\n",
      "\n",
      "Epoch 00037: my_iou_metric did not improve from 0.84069\n",
      "Epoch 38/50\n",
      " - 114s - loss: 0.0408 - my_iou_metric: 0.8397 - val_loss: 0.1952 - val_my_iou_metric: 0.7868\n",
      "\n",
      "Epoch 00038: my_iou_metric did not improve from 0.84069\n",
      "Epoch 39/50\n",
      " - 117s - loss: 0.0570 - my_iou_metric: 0.8161 - val_loss: 0.1429 - val_my_iou_metric: 0.7776\n",
      "\n",
      "Epoch 00039: my_iou_metric did not improve from 0.84069\n",
      "\n",
      "Epoch 00039: ReduceLROnPlateau reducing learning rate to 0.0005000000237487257.\n",
      "Epoch 40/50\n",
      " - 126s - loss: 0.0402 - my_iou_metric: 0.8428 - val_loss: 0.1297 - val_my_iou_metric: 0.7532\n",
      "\n",
      "Epoch 00040: my_iou_metric improved from 0.84069 to 0.84281, saving model to Unet_resnet_v5.model\n",
      "Epoch 41/50\n",
      " - 119s - loss: 0.0337 - my_iou_metric: 0.8576 - val_loss: 0.1305 - val_my_iou_metric: 0.7944\n",
      "\n",
      "Epoch 00041: my_iou_metric improved from 0.84281 to 0.85756, saving model to Unet_resnet_v5.model\n",
      "Epoch 42/50\n",
      " - 124s - loss: 0.0308 - my_iou_metric: 0.8642 - val_loss: 0.1347 - val_my_iou_metric: 0.7939\n",
      "\n",
      "Epoch 00042: my_iou_metric improved from 0.85756 to 0.86423, saving model to Unet_resnet_v5.model\n",
      "Epoch 43/50\n",
      " - 122s - loss: 0.0292 - my_iou_metric: 0.8697 - val_loss: 0.1560 - val_my_iou_metric: 0.7996\n",
      "\n",
      "Epoch 00043: my_iou_metric improved from 0.86423 to 0.86967, saving model to Unet_resnet_v5.model\n",
      "Epoch 44/50\n",
      " - 125s - loss: 0.0287 - my_iou_metric: 0.8712 - val_loss: 0.1661 - val_my_iou_metric: 0.8004\n"
     ]
    },
    {
     "name": "stdout",
     "output_type": "stream",
     "text": [
      "\n",
      "Epoch 00044: my_iou_metric improved from 0.86967 to 0.87125, saving model to Unet_resnet_v5.model\n",
      "Epoch 45/50\n",
      " - 122s - loss: 0.0321 - my_iou_metric: 0.8646 - val_loss: 0.1572 - val_my_iou_metric: 0.7602\n",
      "\n",
      "Epoch 00045: my_iou_metric did not improve from 0.87125\n",
      "Epoch 46/50\n"
     ]
    }
   ],
   "source": [
    "#early_stopping = EarlyStopping(monitor='my_iou_metric', mode = 'max',patience=10, verbose=1)\n",
    "model_checkpoint = ModelCheckpoint(save_model_name,monitor='my_iou_metric', \n",
    "                                   mode = 'max', save_best_only=True, verbose=1)\n",
    "reduce_lr = ReduceLROnPlateau(monitor='my_iou_metric', mode = 'max',factor=0.5, patience=5, min_lr=0.0001, verbose=1)\n",
    "\n",
    "epochs = 50\n",
    "batch_size = 16\n",
    "history = model1.fit(x_train, y_train,\n",
    "                    validation_data=[x_valid, y_valid], \n",
    "                    epochs=epochs,\n",
    "                    batch_size=batch_size,\n",
    "                    callbacks=[ model_checkpoint,reduce_lr], \n",
    "                    verbose=2)"
   ]
  },
  {
   "cell_type": "code",
   "execution_count": 13,
   "metadata": {
    "_uuid": "513a3f8490ae5cbc61651458750ba369f99f6f62",
    "scrolled": true
   },
   "outputs": [],
   "source": [
    "model1 = load_model(save_model_name,custom_objects={'my_iou_metric': custom_loss.my_iou_metric})\n",
    "# model1 = load_model(save_model_name,custom_objects={'my_iou_metric': my_iou_metric, 'lovasz_loss': lovasz_loss, 'my_iou_metric_2': my_iou_metric_2})\n",
    "# remove layter activation layer and use losvasz loss\n",
    "input_x = model1.layers[0].input\n",
    "\n",
    "output_layer = model1.layers[-1].input\n",
    "model = Model(input_x, output_layer)\n",
    "c = optimizers.adam(0.0005)\n",
    "\n",
    "# lovasz_loss need input range (-∞，+∞), so cancel the last \"sigmoid\" activation  \n",
    "# Then the default threshod for pixel prediction is 0 instead of 0.5, as in my_iou_metric_2.\n",
    "model.compile(loss=custom_loss.lovasz_loss, optimizer=c, metrics=[custom_loss.my_iou_metric_2])\n",
    "\n",
    "#model.summary()"
   ]
  },
  {
   "cell_type": "code",
   "execution_count": 14,
   "metadata": {
    "_uuid": "bc68a1d9f9ec3837a2988bd7fe05d1fffdbc381d",
    "scrolled": true
   },
   "outputs": [
    {
     "name": "stdout",
     "output_type": "stream",
     "text": [
      "Train on 6400 samples, validate on 800 samples\n",
      "Epoch 1/100\n",
      " - 264s - loss: 0.2585 - my_iou_metric_2: 0.8672 - val_loss: 0.4505 - val_my_iou_metric_2: 0.7970\n",
      "\n",
      "Epoch 00001: val_my_iou_metric_2 improved from -inf to 0.79700, saving model to Unet_resnet_v5.model\n",
      "Epoch 2/100\n",
      " - 203s - loss: 0.2326 - my_iou_metric_2: 0.8701 - val_loss: 0.4756 - val_my_iou_metric_2: 0.7905\n",
      "\n",
      "Epoch 00002: val_my_iou_metric_2 did not improve from 0.79700\n",
      "Epoch 3/100\n",
      " - 203s - loss: 0.2177 - my_iou_metric_2: 0.8722 - val_loss: 0.4933 - val_my_iou_metric_2: 0.7980\n",
      "\n",
      "Epoch 00003: val_my_iou_metric_2 improved from 0.79700 to 0.79800, saving model to Unet_resnet_v5.model\n",
      "Epoch 4/100\n",
      " - 203s - loss: 0.2158 - my_iou_metric_2: 0.8730 - val_loss: 0.5058 - val_my_iou_metric_2: 0.7975\n",
      "\n",
      "Epoch 00004: val_my_iou_metric_2 did not improve from 0.79800\n",
      "Epoch 5/100\n",
      " - 202s - loss: 0.2059 - my_iou_metric_2: 0.8730 - val_loss: 0.4990 - val_my_iou_metric_2: 0.7930\n",
      "\n",
      "Epoch 00005: val_my_iou_metric_2 did not improve from 0.79800\n",
      "Epoch 6/100\n",
      " - 202s - loss: 0.2005 - my_iou_metric_2: 0.8764 - val_loss: 0.7663 - val_my_iou_metric_2: 0.7984\n",
      "\n",
      "Epoch 00006: val_my_iou_metric_2 improved from 0.79800 to 0.79837, saving model to Unet_resnet_v5.model\n",
      "Epoch 7/100\n",
      " - 203s - loss: 0.2065 - my_iou_metric_2: 0.8721 - val_loss: 0.4644 - val_my_iou_metric_2: 0.7786\n",
      "\n",
      "Epoch 00007: val_my_iou_metric_2 did not improve from 0.79837\n",
      "Epoch 8/100\n",
      " - 203s - loss: 0.2038 - my_iou_metric_2: 0.8702 - val_loss: 0.5506 - val_my_iou_metric_2: 0.8015\n",
      "\n",
      "Epoch 00008: val_my_iou_metric_2 improved from 0.79837 to 0.80150, saving model to Unet_resnet_v5.model\n",
      "Epoch 9/100\n",
      " - 204s - loss: 0.1901 - my_iou_metric_2: 0.8770 - val_loss: 0.4169 - val_my_iou_metric_2: 0.7921\n",
      "\n",
      "Epoch 00009: val_my_iou_metric_2 did not improve from 0.80150\n",
      "Epoch 10/100\n",
      " - 203s - loss: 0.1865 - my_iou_metric_2: 0.8771 - val_loss: 0.3955 - val_my_iou_metric_2: 0.7986\n",
      "\n",
      "Epoch 00010: val_my_iou_metric_2 did not improve from 0.80150\n",
      "Epoch 11/100\n",
      " - 203s - loss: 0.1860 - my_iou_metric_2: 0.8755 - val_loss: 0.4240 - val_my_iou_metric_2: 0.7840\n",
      "\n",
      "Epoch 00011: val_my_iou_metric_2 did not improve from 0.80150\n",
      "Epoch 12/100\n",
      " - 203s - loss: 0.2033 - my_iou_metric_2: 0.8677 - val_loss: 0.4246 - val_my_iou_metric_2: 0.7874\n",
      "\n",
      "Epoch 00012: val_my_iou_metric_2 did not improve from 0.80150\n",
      "Epoch 13/100\n",
      " - 203s - loss: 0.2067 - my_iou_metric_2: 0.8632 - val_loss: 0.4526 - val_my_iou_metric_2: 0.7856\n",
      "\n",
      "Epoch 00013: val_my_iou_metric_2 did not improve from 0.80150\n",
      "\n",
      "Epoch 00013: ReduceLROnPlateau reducing learning rate to 0.0002500000118743628.\n",
      "Epoch 14/100\n",
      " - 203s - loss: 0.1901 - my_iou_metric_2: 0.8744 - val_loss: 0.3807 - val_my_iou_metric_2: 0.7966\n",
      "\n",
      "Epoch 00014: val_my_iou_metric_2 did not improve from 0.80150\n",
      "Epoch 15/100\n",
      " - 203s - loss: 0.1665 - my_iou_metric_2: 0.8817 - val_loss: 0.4131 - val_my_iou_metric_2: 0.8001\n",
      "\n",
      "Epoch 00015: val_my_iou_metric_2 did not improve from 0.80150\n",
      "Epoch 16/100\n",
      " - 203s - loss: 0.1599 - my_iou_metric_2: 0.8853 - val_loss: 0.4112 - val_my_iou_metric_2: 0.8009\n",
      "\n",
      "Epoch 00016: val_my_iou_metric_2 did not improve from 0.80150\n",
      "Epoch 17/100\n",
      " - 203s - loss: 0.1524 - my_iou_metric_2: 0.8882 - val_loss: 0.6123 - val_my_iou_metric_2: 0.8011\n",
      "\n",
      "Epoch 00017: val_my_iou_metric_2 did not improve from 0.80150\n",
      "Epoch 18/100\n",
      " - 202s - loss: 0.1492 - my_iou_metric_2: 0.8887 - val_loss: 0.5541 - val_my_iou_metric_2: 0.7967\n",
      "\n",
      "Epoch 00018: val_my_iou_metric_2 did not improve from 0.80150\n",
      "\n",
      "Epoch 00018: ReduceLROnPlateau reducing learning rate to 0.0001250000059371814.\n",
      "Epoch 19/100\n",
      " - 203s - loss: 0.1449 - my_iou_metric_2: 0.8907 - val_loss: 0.7000 - val_my_iou_metric_2: 0.7966\n",
      "\n",
      "Epoch 00019: val_my_iou_metric_2 did not improve from 0.80150\n",
      "Epoch 20/100\n",
      " - 202s - loss: 0.1429 - my_iou_metric_2: 0.8919 - val_loss: 0.7567 - val_my_iou_metric_2: 0.8016\n",
      "\n",
      "Epoch 00020: val_my_iou_metric_2 improved from 0.80150 to 0.80162, saving model to Unet_resnet_v5.model\n",
      "Epoch 21/100\n",
      " - 202s - loss: 0.1423 - my_iou_metric_2: 0.8899 - val_loss: 0.6716 - val_my_iou_metric_2: 0.8008\n",
      "\n",
      "Epoch 00021: val_my_iou_metric_2 did not improve from 0.80162\n",
      "Epoch 22/100\n",
      " - 202s - loss: 0.1396 - my_iou_metric_2: 0.8904 - val_loss: 0.5651 - val_my_iou_metric_2: 0.8017\n",
      "\n",
      "Epoch 00022: val_my_iou_metric_2 improved from 0.80162 to 0.80175, saving model to Unet_resnet_v5.model\n",
      "Epoch 23/100\n",
      " - 203s - loss: 0.1380 - my_iou_metric_2: 0.8932 - val_loss: 0.5376 - val_my_iou_metric_2: 0.8030\n",
      "\n",
      "Epoch 00023: val_my_iou_metric_2 improved from 0.80175 to 0.80300, saving model to Unet_resnet_v5.model\n",
      "Epoch 24/100\n",
      " - 190s - loss: 0.1377 - my_iou_metric_2: 0.8933 - val_loss: 0.5973 - val_my_iou_metric_2: 0.7987\n",
      "\n",
      "Epoch 00024: val_my_iou_metric_2 did not improve from 0.80300\n",
      "Epoch 25/100\n",
      " - 189s - loss: 0.1341 - my_iou_metric_2: 0.8944 - val_loss: 0.5385 - val_my_iou_metric_2: 0.7980\n",
      "\n",
      "Epoch 00025: val_my_iou_metric_2 did not improve from 0.80300\n",
      "Epoch 26/100\n",
      " - 190s - loss: 0.1359 - my_iou_metric_2: 0.8937 - val_loss: 0.6153 - val_my_iou_metric_2: 0.7994\n",
      "\n",
      "Epoch 00026: val_my_iou_metric_2 did not improve from 0.80300\n",
      "Epoch 27/100\n",
      " - 189s - loss: 0.1332 - my_iou_metric_2: 0.8950 - val_loss: 0.5655 - val_my_iou_metric_2: 0.7971\n",
      "\n",
      "Epoch 00027: val_my_iou_metric_2 did not improve from 0.80300\n",
      "Epoch 28/100\n",
      " - 189s - loss: 0.1333 - my_iou_metric_2: 0.8939 - val_loss: 0.7170 - val_my_iou_metric_2: 0.8007\n",
      "\n",
      "Epoch 00028: val_my_iou_metric_2 did not improve from 0.80300\n",
      "\n",
      "Epoch 00028: ReduceLROnPlateau reducing learning rate to 6.25000029685907e-05.\n",
      "Epoch 29/100\n",
      " - 190s - loss: 0.1289 - my_iou_metric_2: 0.8958 - val_loss: 0.6264 - val_my_iou_metric_2: 0.8030\n",
      "\n",
      "Epoch 00029: val_my_iou_metric_2 did not improve from 0.80300\n",
      "Epoch 30/100\n",
      " - 190s - loss: 0.1298 - my_iou_metric_2: 0.8950 - val_loss: 0.5480 - val_my_iou_metric_2: 0.7962\n",
      "\n",
      "Epoch 00030: val_my_iou_metric_2 did not improve from 0.80300\n",
      "Epoch 31/100\n",
      " - 189s - loss: 0.1268 - my_iou_metric_2: 0.8957 - val_loss: 0.5919 - val_my_iou_metric_2: 0.7978\n",
      "\n",
      "Epoch 00031: val_my_iou_metric_2 did not improve from 0.80300\n",
      "Epoch 32/100\n",
      " - 190s - loss: 0.1266 - my_iou_metric_2: 0.8975 - val_loss: 0.6413 - val_my_iou_metric_2: 0.7996\n",
      "\n",
      "Epoch 00032: val_my_iou_metric_2 did not improve from 0.80300\n",
      "Epoch 33/100\n",
      " - 189s - loss: 0.1262 - my_iou_metric_2: 0.8972 - val_loss: 0.5855 - val_my_iou_metric_2: 0.8010\n",
      "\n",
      "Epoch 00033: val_my_iou_metric_2 did not improve from 0.80300\n",
      "\n",
      "Epoch 00033: ReduceLROnPlateau reducing learning rate to 3.125000148429535e-05.\n",
      "Epoch 34/100\n",
      " - 189s - loss: 0.1228 - my_iou_metric_2: 0.8981 - val_loss: 0.6268 - val_my_iou_metric_2: 0.7996\n",
      "\n",
      "Epoch 00034: val_my_iou_metric_2 did not improve from 0.80300\n",
      "Epoch 35/100\n",
      " - 190s - loss: 0.1245 - my_iou_metric_2: 0.8977 - val_loss: 0.6339 - val_my_iou_metric_2: 0.7999\n",
      "\n",
      "Epoch 00035: val_my_iou_metric_2 did not improve from 0.80300\n",
      "Epoch 36/100\n",
      " - 190s - loss: 0.1234 - my_iou_metric_2: 0.8997 - val_loss: 0.6357 - val_my_iou_metric_2: 0.7994\n",
      "\n",
      "Epoch 00036: val_my_iou_metric_2 did not improve from 0.80300\n",
      "Epoch 37/100\n",
      " - 200s - loss: 0.1227 - my_iou_metric_2: 0.8974 - val_loss: 0.6381 - val_my_iou_metric_2: 0.7980\n",
      "\n",
      "Epoch 00037: val_my_iou_metric_2 did not improve from 0.80300\n",
      "Epoch 38/100\n",
      " - 202s - loss: 0.1227 - my_iou_metric_2: 0.8989 - val_loss: 0.6294 - val_my_iou_metric_2: 0.7980\n",
      "\n",
      "Epoch 00038: val_my_iou_metric_2 did not improve from 0.80300\n",
      "\n",
      "Epoch 00038: ReduceLROnPlateau reducing learning rate to 1.5625000742147677e-05.\n",
      "Epoch 39/100\n",
      " - 199s - loss: 0.1213 - my_iou_metric_2: 0.8992 - val_loss: 0.5971 - val_my_iou_metric_2: 0.7986\n",
      "\n",
      "Epoch 00039: val_my_iou_metric_2 did not improve from 0.80300\n",
      "Epoch 40/100\n",
      " - 201s - loss: 0.1209 - my_iou_metric_2: 0.8980 - val_loss: 0.5939 - val_my_iou_metric_2: 0.7980\n",
      "\n",
      "Epoch 00040: val_my_iou_metric_2 did not improve from 0.80300\n",
      "Epoch 41/100\n",
      " - 201s - loss: 0.1199 - my_iou_metric_2: 0.8984 - val_loss: 0.6006 - val_my_iou_metric_2: 0.7987\n",
      "\n",
      "Epoch 00041: val_my_iou_metric_2 did not improve from 0.80300\n",
      "Epoch 42/100\n",
      " - 202s - loss: 0.1208 - my_iou_metric_2: 0.8994 - val_loss: 0.6033 - val_my_iou_metric_2: 0.7989\n",
      "\n",
      "Epoch 00042: val_my_iou_metric_2 did not improve from 0.80300\n",
      "Epoch 43/100\n",
      " - 202s - loss: 0.1201 - my_iou_metric_2: 0.9005 - val_loss: 0.6193 - val_my_iou_metric_2: 0.7986\n",
      "\n",
      "Epoch 00043: val_my_iou_metric_2 did not improve from 0.80300\n",
      "\n",
      "Epoch 00043: ReduceLROnPlateau reducing learning rate to 1e-05.\n",
      "Epoch 00043: early stopping\n"
     ]
    }
   ],
   "source": [
    "early_stopping = EarlyStopping(monitor='val_my_iou_metric_2', mode = 'max',patience=20, verbose=1)\n",
    "model_checkpoint = ModelCheckpoint(save_model_name,monitor='val_my_iou_metric_2', \n",
    "                                   mode = 'max', save_best_only=True, verbose=1)\n",
    "reduce_lr = ReduceLROnPlateau(monitor='val_my_iou_metric_2', mode = 'max',factor=0.5, patience=5, min_lr=0.00001, verbose=1)\n",
    "epochs = 100\n",
    "batch_size = 16\n",
    "\n",
    "history = model.fit(x_train, y_train,\n",
    "                    validation_data=[x_valid, y_valid], \n",
    "                    epochs=epochs,\n",
    "                    batch_size=batch_size,\n",
    "                    callbacks=[ model_checkpoint,reduce_lr,early_stopping], \n",
    "                    verbose=2)"
   ]
  },
  {
   "cell_type": "code",
   "execution_count": 15,
   "metadata": {
    "_uuid": "347c6567c95430f28ec51b94f42603e37a4056db"
   },
   "outputs": [
    {
     "data": {
      "text/plain": [
       "<matplotlib.legend.Legend at 0x7f9004ce4fd0>"
      ]
     },
     "execution_count": 15,
     "metadata": {},
     "output_type": "execute_result"
    },
    {
     "data": {
      "image/png": "[encoded data removed]",
      "text/plain": [
       "<Figure size 1080x360 with 2 Axes>"
      ]
     },
     "metadata": {},
     "output_type": "display_data"
    }
   ],
   "source": [
    "fig, (ax_loss, ax_score) = plt.subplots(1, 2, figsize=(15,5))\n",
    "ax_loss.plot(history.epoch, history.history[\"loss\"], label=\"Train loss\")\n",
    "ax_loss.plot(history.epoch, history.history[\"val_loss\"], label=\"Validation loss\")\n",
    "ax_loss.legend()\n",
    "ax_score.plot(history.epoch, history.history[\"my_iou_metric_2\"], label=\"Train score\")\n",
    "ax_score.plot(history.epoch, history.history[\"val_my_iou_metric_2\"], label=\"Validation score\")\n",
    "ax_score.legend()"
   ]
  },
  {
   "cell_type": "code",
   "execution_count": 9,
   "metadata": {
    "_uuid": "a081f8f61a713457c8c8f3979a78f75541875456"
   },
   "outputs": [],
   "source": [
    "model = load_model(save_model_name,custom_objects={'my_iou_metric_2': my_iou_metric_2,\n",
    "                                                   'lovasz_loss': lovasz_loss})"
   ]
  },
  {
   "cell_type": "code",
   "execution_count": 10,
   "metadata": {
    "_uuid": "f68651e1ce6ad9a461c8f1a25a1250fd489adfed"
   },
   "outputs": [],
   "source": [
    "def predict_result(model,x_test,img_size_target): # predict both orginal and reflect x\n",
    "    x_test_reflect =  np.array([np.fliplr(x) for x in x_test])\n",
    "    preds_test = model.predict(x_test).reshape(-1, img_size_target, img_size_target)\n",
    "    preds_test2_refect = model.predict(x_test_reflect).reshape(-1, img_size_target, img_size_target)\n",
    "    preds_test += np.array([ np.fliplr(x) for x in preds_test2_refect] )\n",
    "    return preds_test/2"
   ]
  },
  {
   "cell_type": "code",
   "execution_count": 26,
   "metadata": {
    "_uuid": "b7a061700364ea17735f953d6bd3c835bc3dc630"
   },
   "outputs": [],
   "source": [
    "preds_valid = predict_result(model,x_valid,128)"
   ]
  },
  {
   "cell_type": "code",
   "execution_count": 27,
   "metadata": {
    "_uuid": "5a9b1a900a8a4d031978c3b5ef2e739b5661de73"
   },
   "outputs": [],
   "source": [
    "#Score the model and do a threshold optimization by the best IoU.\n",
    "\n",
    "# src: https://www.kaggle.com/aglotero/another-iou-metric\n",
    "def iou_metric(y_true_in, y_pred_in, print_table=False):\n",
    "    labels = y_true_in\n",
    "    y_pred = y_pred_in\n",
    "\n",
    "\n",
    "    true_objects = 2\n",
    "    pred_objects = 2\n",
    "\n",
    "    #  if all zeros, original code  generate wrong  bins [-0.5 0 0.5],\n",
    "    temp1 = np.histogram2d(labels.flatten(), y_pred.flatten(), bins=([0,0.5,1], [0,0.5, 1]))\n",
    "#     temp1 = np.histogram2d(labels.flatten(), y_pred.flatten(), bins=(true_objects, pred_objects))\n",
    "    #print(temp1)\n",
    "    intersection = temp1[0]\n",
    "    #print(\"temp2 = \",temp1[1])\n",
    "    #print(intersection.shape)\n",
    "   # print(intersection)\n",
    "    # Compute areas (needed for finding the union between all objects)\n",
    "    #print(np.histogram(labels, bins = true_objects))\n",
    "    area_true = np.histogram(labels,bins=[0,0.5,1])[0]\n",
    "    #print(\"area_true = \",area_true)\n",
    "    area_pred = np.histogram(y_pred, bins=[0,0.5,1])[0]\n",
    "    area_true = np.expand_dims(area_true, -1)\n",
    "    area_pred = np.expand_dims(area_pred, 0)\n",
    "\n",
    "    # Compute union\n",
    "    union = area_true + area_pred - intersection\n",
    "  \n",
    "    # Exclude background from the analysis\n",
    "    intersection = intersection[1:,1:]\n",
    "    intersection[intersection == 0] = 1e-9\n",
    "    \n",
    "    union = union[1:,1:]\n",
    "    union[union == 0] = 1e-9\n",
    "\n",
    "    # Compute the intersection over union\n",
    "    iou = intersection / union\n",
    "\n",
    "    # Precision helper function\n",
    "    def precision_at(threshold, iou):\n",
    "        matches = iou > threshold\n",
    "        true_positives = np.sum(matches, axis=1) == 1   # Correct objects\n",
    "        false_positives = np.sum(matches, axis=0) == 0  # Missed objects\n",
    "        false_negatives = np.sum(matches, axis=1) == 0  # Extra objects\n",
    "        tp, fp, fn = np.sum(true_positives), np.sum(false_positives), np.sum(false_negatives)\n",
    "        return tp, fp, fn\n",
    "\n",
    "    # Loop over IoU thresholds\n",
    "    prec = []\n",
    "    if print_table:\n",
    "        print(\"Thresh\\tTP\\tFP\\tFN\\tPrec.\")\n",
    "    for t in np.arange(0.5, 1.0, 0.05):\n",
    "        tp, fp, fn = precision_at(t, iou)\n",
    "        if (tp + fp + fn) > 0:\n",
    "            p = tp / (tp + fp + fn)\n",
    "        else:\n",
    "            p = 0\n",
    "        if print_table:\n",
    "            print(\"{:1.3f}\\t{}\\t{}\\t{}\\t{:1.3f}\".format(t, tp, fp, fn, p))\n",
    "        prec.append(p)\n",
    "    \n",
    "    if print_table:\n",
    "        print(\"AP\\t-\\t-\\t-\\t{:1.3f}\".format(np.mean(prec)))\n",
    "    return np.mean(prec)\n",
    "\n",
    "def iou_metric_batch(y_true_in, y_pred_in):\n",
    "    batch_size = y_true_in.shape[0]\n",
    "    metric = []\n",
    "    for batch in range(batch_size):\n",
    "        value = iou_metric(y_true_in[batch], y_pred_in[batch])\n",
    "        metric.append(value)\n",
    "    return np.mean(metric)\n",
    "\n"
   ]
  },
  {
   "cell_type": "code",
   "execution_count": 43,
   "metadata": {},
   "outputs": [],
   "source": [
    "y_valid_pad = y_valid[:,14:-13, 14:-13,:]\n",
    "preds_valid_pad = preds_valid[:,14:-13, 14:-13]"
   ]
  },
  {
   "cell_type": "code",
   "execution_count": 41,
   "metadata": {
    "_uuid": "91b1be75d7e8ff74db956c8c846c47ed7576ecb2"
   },
   "outputs": [
    {
     "data": {
      "application/vnd.jupyter.widget-view+json": {
       "model_id": "de460bcc84b84972bda991d56ef04cdf",
       "version_major": 2,
       "version_minor": 0
      },
      "text/plain": [
       "HBox(children=(IntProgress(value=0, max=31), HTML(value='')))"
      ]
     },
     "metadata": {},
     "output_type": "display_data"
    },
    {
     "name": "stdout",
     "output_type": "stream",
     "text": [
      "[ 0.81375   0.814875  0.817     0.817375  0.818625  0.819125  0.81975\n",
      "  0.821125  0.821125  0.823     0.822875  0.821875  0.821375  0.821375\n",
      "  0.821125  0.82225   0.820125  0.818625  0.819125  0.817625  0.817125\n",
      "  0.8165    0.81575   0.814875  0.814375  0.813375  0.81275   0.812625\n",
      "  0.811     0.80925   0.808   ]\n"
     ]
    }
   ],
   "source": [
    "## Scoring for last model, choose threshold by validation data \n",
    "thresholds_ori = np.linspace(0.3, 0.7, 31)\n",
    "# Reverse sigmoid function: Use code below because the  sigmoid activation was removed\n",
    "thresholds = np.log(thresholds_ori/(1-thresholds_ori)) \n",
    "\n",
    "# ious = np.array([get_iou_vector(y_valid, preds_valid > threshold) for threshold in tqdm_notebook(thresholds)])\n",
    "# print(ious)\n",
    "ious = np.array([iou_metric_batch(y_valid_pad, preds_valid_pad > threshold) for threshold in tqdm_notebook(thresholds)])\n",
    "print(ious)"
   ]
  },
  {
   "cell_type": "code",
   "execution_count": 42,
   "metadata": {
    "_uuid": "1beb285910aa6532d7a69a70afa6a9671e6d347d"
   },
   "outputs": [
    {
     "data": {
      "text/plain": [
       "<matplotlib.legend.Legend at 0x7f5f25da8b00>"
      ]
     },
     "execution_count": 42,
     "metadata": {},
     "output_type": "execute_result"
    },
    {
     "data": {
      "image/png": "[encoded data removed]",
      "text/plain": [
       "<Figure size 432x288 with 1 Axes>"
      ]
     },
     "metadata": {},
     "output_type": "display_data"
    }
   ],
   "source": [
    "# instead of using default 0 as threshold, use validation data to find the best threshold.\n",
    "threshold_best_index = np.argmax(ious) \n",
    "iou_best = ious[threshold_best_index]\n",
    "threshold_best = thresholds[threshold_best_index]\n",
    "\n",
    "plt.plot(thresholds, ious)\n",
    "plt.plot(threshold_best, iou_best, \"xr\", label=\"Best threshold\")\n",
    "plt.xlabel(\"Threshold\")\n",
    "plt.ylabel(\"IoU\")\n",
    "plt.title(\"Threshold vs IoU ({}, {})\".format(threshold_best, iou_best))\n",
    "plt.legend()"
   ]
  },
  {
   "cell_type": "code",
   "execution_count": 11,
   "metadata": {
    "_uuid": "2c4852ecf2c504a4ce30e975f5e36b534c2111e6"
   },
   "outputs": [],
   "source": [
    "\"\"\"\n",
    "used for converting the decoded image to rle mask\n",
    "Fast compared to previous one\n",
    "\"\"\"\n",
    "def rle_encode(im):\n",
    "    '''\n",
    "    im: numpy array, 1 - mask, 0 - background\n",
    "    Returns run length as string formated\n",
    "    '''\n",
    "    pixels = im.flatten(order = 'F')\n",
    "    pixels = np.concatenate([[0], pixels, [0]])\n",
    "    runs = np.where(pixels[1:] != pixels[:-1])[0] + 1\n",
    "    runs[1::2] -= runs[::2]\n",
    "    return ' '.join(str(x) for x in runs)"
   ]
  },
  {
   "cell_type": "code",
   "execution_count": 16,
   "metadata": {
    "_uuid": "21bb50645b1c67d907e42c262d92f975668fccac"
   },
   "outputs": [
    {
     "data": {
      "application/vnd.jupyter.widget-view+json": {
       "model_id": "5675d3196e3d417f83edf1ec1d1ab2c2",
       "version_major": 2,
       "version_minor": 0
      },
      "text/plain": [
       "HBox(children=(IntProgress(value=0, max=18000), HTML(value='')))"
      ]
     },
     "metadata": {},
     "output_type": "display_data"
    },
    {
     "name": "stdout",
     "output_type": "stream",
     "text": [
      "\n"
     ]
    }
   ],
   "source": [
    "x_test = np.array([uppad((np.array(load_img(\"../data/test/{}.png\".format(idx), grayscale = True))) / 255) for idx in tqdm_notebook(test_df.index)])\n",
    "x_test_stack = np.stack((x_test,)*3,-1)"
   ]
  },
  {
   "cell_type": "code",
   "execution_count": 17,
   "metadata": {},
   "outputs": [
    {
     "data": {
      "text/plain": [
       "(18000, 128, 128, 3)"
      ]
     },
     "execution_count": 17,
     "metadata": {},
     "output_type": "execute_result"
    }
   ],
   "source": [
    "x_test_stack.shape"
   ]
  },
  {
   "cell_type": "code",
   "execution_count": 18,
   "metadata": {
    "_uuid": "ce8185fa64aafbe42ebde98aba984b4f22b0050e"
   },
   "outputs": [],
   "source": [
    "preds_test = predict_result(model,x_test_stack,128)"
   ]
  },
  {
   "cell_type": "code",
   "execution_count": 21,
   "metadata": {},
   "outputs": [],
   "source": [
    "preds_test = preds_test[:,14:-13, 14:-13]"
   ]
  },
  {
   "cell_type": "code",
   "execution_count": 23,
   "metadata": {
    "_uuid": "7ccac81a492b9caaff4a25401165e145cf2c6f8e"
   },
   "outputs": [
    {
     "data": {
      "application/vnd.jupyter.widget-view+json": {
       "model_id": "1bb11e96d34845728bddd2952c30f833",
       "version_major": 2,
       "version_minor": 0
      },
      "text/plain": [
       "HBox(children=(IntProgress(value=0, max=18000), HTML(value='')))"
      ]
     },
     "metadata": {},
     "output_type": "display_data"
    },
    {
     "name": "stdout",
     "output_type": "stream",
     "text": [
      "Usedtime = 8.119457006454468 s\n"
     ]
    }
   ],
   "source": [
    "threshold_best = 0.32277339\n",
    "t1 = time.time()\n",
    "pred_dict = {idx: rle_encode(np.round(preds_test[i] > threshold_best)) for i, idx in enumerate(tqdm_notebook(test_df.index.values))}\n",
    "t2 = time.time()\n",
    "\n",
    "print(f\"Usedtime = {t2-t1} s\")"
   ]
  },
  {
   "cell_type": "code",
   "execution_count": 24,
   "metadata": {
    "_uuid": "770d7d596656f4f1ad17a6063ad662ac80e11b24"
   },
   "outputs": [],
   "source": [
    "sub = pd.DataFrame.from_dict(pred_dict,orient='index')\n",
    "sub.index.names = ['id']\n",
    "sub.columns = ['rle_mask']\n",
    "sub.to_csv(submission_file)"
   ]
  },
  {
   "cell_type": "code",
   "execution_count": null,
   "metadata": {
    "_uuid": "c89c406884ee54bee2c57aff51b116c157553ae9"
   },
   "outputs": [],
   "source": [
    "t_finish = time.time()\n",
    "print(f\"Kernel run time = {(t_finish-t_start)/3600} hours\")"
   ]
  },
  {
   "cell_type": "code",
   "execution_count": null,
   "metadata": {
    "_uuid": "a3009187c164635fbe163bd8ce406c2e309b1e5f"
   },
   "outputs": [],
   "source": []
  }
 ],
 "metadata": {
  "kernelspec": {
   "display_name": "Python 3",
   "language": "python",
   "name": "python3"
  },
  "language_info": {
   "codemirror_mode": {
    "name": "ipython",
    "version": 3
   },
   "file_extension": ".py",
   "mimetype": "text/x-python",
   "name": "python",
   "nbconvert_exporter": "python",
   "pygments_lexer": "ipython3",
   "version": "3.6.5"
  }
 },
 "nbformat": 4,
 "nbformat_minor": 1
}
