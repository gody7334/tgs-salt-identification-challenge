{
 "cells": [
  {
   "cell_type": "markdown",
   "metadata": {
    "_uuid": "c8fc6c3e84f282d0e6f664caf9848297b6c62a16"
   },
   "source": [
    "### U-net with simple Resnet Blocks v2, can get 0.80+\n",
    "* Original version : \n",
    "  https://www.kaggle.com/shaojiaxin/u-net-with-simple-resnet-blocks\n",
    "        \n",
    "        \n",
    "#### update log\n",
    "1.   Cancel last dropout (seems better)\n",
    "2.  modify convolution_block, to be more consistant with the standard resent model. \n",
    "      * https://arxiv.org/abs/1603.05027\n",
    "3. Use faster  IOU metric score code,\n",
    "      * https://www.kaggle.com/donchuk/fast-implementation-of-scoring-metric\n",
    "4. Use  binary_crossentropy loss and then Lovász-hinge loss (very slow!)\n",
    "     * Lovász-hinge loss: https://github.com/bermanmaxim/LovaszSoftmax\n",
    "     \n",
    "Limit the max epochs number to make the kernel finish in the limit of 6 hours, better score can be achived at more epochs "
   ]
  },
  {
   "cell_type": "code",
   "execution_count": 1,
   "metadata": {
    "_cell_guid": "b1076dfc-b9ad-4769-8c92-a6c4dae69d19",
    "_uuid": "8f2839f25d086af736a60e9eeb907d3b93b6e0e5"
   },
   "outputs": [
    {
     "name": "stderr",
     "output_type": "stream",
     "text": [
      "Using TensorFlow backend.\n"
     ]
    }
   ],
   "source": [
    "import os\n",
    "import sys\n",
    "import random\n",
    "\n",
    "import pandas as pd\n",
    "import numpy as np\n",
    "import matplotlib.pyplot as plt\n",
    "plt.style.use('seaborn-white')\n",
    "import seaborn as sns\n",
    "sns.set_style(\"white\")\n",
    "\n",
    "%matplotlib inline\n",
    "\n",
    "# import cv2\n",
    "from sklearn.model_selection import train_test_split\n",
    "\n",
    "from tqdm import tqdm_notebook #, tnrange\n",
    "#from itertools import chain\n",
    "from skimage.io import imread, imshow #, concatenate_images\n",
    "from skimage.transform import resize\n",
    "from skimage.morphology import label\n",
    "\n",
    "from keras.models import Model, load_model, save_model\n",
    "from keras.layers import Input,Dropout,BatchNormalization,Activation,Add\n",
    "from keras.layers.core import Lambda\n",
    "from keras.layers.convolutional import Conv2D, Conv2DTranspose\n",
    "from keras.layers.pooling import MaxPooling2D\n",
    "from keras.layers.merge import concatenate\n",
    "from keras.callbacks import EarlyStopping, ModelCheckpoint, ReduceLROnPlateau\n",
    "from keras import backend as K\n",
    "from keras import optimizers\n",
    "\n",
    "import tensorflow as tf\n",
    "\n",
    "from keras.preprocessing.image import array_to_img, img_to_array, load_img#,save_img\n",
    "\n",
    "import time\n",
    "t_start = time.time()"
   ]
  },
  {
   "cell_type": "code",
   "execution_count": 2,
   "metadata": {
    "_uuid": "2c36d16775556c3e358edefab5710dc1541ccfc4"
   },
   "outputs": [
    {
     "name": "stdout",
     "output_type": "stream",
     "text": [
      "Unet_resnet_v5.model\n",
      "Unet_resnet_v5.csv\n"
     ]
    }
   ],
   "source": [
    "version = 5\n",
    "basic_name = f'Unet_resnet_v{version}'\n",
    "save_model_name = basic_name + '.model'\n",
    "submission_file = basic_name + '.csv'\n",
    "\n",
    "print(save_model_name)\n",
    "print(submission_file)"
   ]
  },
  {
   "cell_type": "code",
   "execution_count": 3,
   "metadata": {
    "_uuid": "63c469280793719bf311d51e6ba2cdaea157d175"
   },
   "outputs": [],
   "source": [
    "img_size_ori = 101\n",
    "img_size_target = 101\n",
    "\n",
    "def upsample(img):# not used\n",
    "    if img_size_ori == img_size_target:\n",
    "        return img\n",
    "    return resize(img, (img_size_target, img_size_target), mode='constant', preserve_range=True)\n",
    "    \n",
    "def downsample(img):# not used\n",
    "    if img_size_ori == img_size_target:\n",
    "        return img\n",
    "    return resize(img, (img_size_ori, img_size_ori), mode='constant', preserve_range=True)"
   ]
  },
  {
   "cell_type": "code",
   "execution_count": 4,
   "metadata": {
    "_uuid": "1a64babef03b9a0dbc94387a1dad54971c3e028d"
   },
   "outputs": [
    {
     "data": {
      "text/plain": [
       "4000"
      ]
     },
     "execution_count": 4,
     "metadata": {},
     "output_type": "execute_result"
    }
   ],
   "source": [
    "# Loading of training/testing ids and depths\n",
    "train_df = pd.read_csv(\"../data/train.csv\", index_col=\"id\", usecols=[0])\n",
    "depths_df = pd.read_csv(\"../data/depths.csv\", index_col=\"id\")\n",
    "train_df = train_df.join(depths_df)\n",
    "test_df = depths_df[~depths_df.index.isin(train_df.index)]\n",
    "\n",
    "len(train_df)"
   ]
  },
  {
   "cell_type": "code",
   "execution_count": 5,
   "metadata": {
    "_uuid": "80c3768717007fb5f087d3e01619f1a9f9a3beac"
   },
   "outputs": [
    {
     "data": {
      "application/vnd.jupyter.widget-view+json": {
       "model_id": "1ef229f27b4b472f8734202fb85de198",
       "version_major": 2,
       "version_minor": 0
      },
      "text/plain": [
       "HBox(children=(IntProgress(value=0, max=4000), HTML(value='')))"
      ]
     },
     "metadata": {},
     "output_type": "display_data"
    },
    {
     "name": "stdout",
     "output_type": "stream",
     "text": [
      "\n"
     ]
    }
   ],
   "source": [
    "train_df[\"images\"] = [np.array(load_img(\"../data/train/{}.png\".format(idx), grayscale=True)) / 255 for idx in tqdm_notebook(train_df.index)]"
   ]
  },
  {
   "cell_type": "code",
   "execution_count": 6,
   "metadata": {
    "_uuid": "9f55103f7daad6f03ec874c643077fe686c31bee"
   },
   "outputs": [
    {
     "data": {
      "application/vnd.jupyter.widget-view+json": {
       "model_id": "f1f5f8dacfc048849f90e758bb6fc713",
       "version_major": 2,
       "version_minor": 0
      },
      "text/plain": [
       "HBox(children=(IntProgress(value=0, max=4000), HTML(value='')))"
      ]
     },
     "metadata": {},
     "output_type": "display_data"
    },
    {
     "name": "stdout",
     "output_type": "stream",
     "text": [
      "\n"
     ]
    }
   ],
   "source": [
    "train_df[\"masks\"] = [np.array(load_img(\"../data/masks/{}.png\".format(idx), grayscale=True)) / 255 for idx in tqdm_notebook(train_df.index)]"
   ]
  },
  {
   "cell_type": "code",
   "execution_count": 7,
   "metadata": {
    "_uuid": "010066dd50ef4fdfa7dabe2c946fd7491f9556fd"
   },
   "outputs": [],
   "source": [
    "train_df[\"coverage\"] = train_df.masks.map(np.sum) / pow(img_size_ori, 2)\n",
    "\n",
    "def cov_to_class(val):    \n",
    "    for i in range(0, 11):\n",
    "        if val * 10 <= i :\n",
    "            return i\n",
    "        \n",
    "train_df[\"coverage_class\"] = train_df.coverage.map(cov_to_class)\n"
   ]
  },
  {
   "cell_type": "code",
   "execution_count": 8,
   "metadata": {
    "_uuid": "2ad5ac1576277fc54d768933c36efd1f9ff01acd"
   },
   "outputs": [
    {
     "name": "stderr",
     "output_type": "stream",
     "text": [
      "/opt/conda/lib/python3.6/site-packages/matplotlib/axes/_axes.py:6462: UserWarning: The 'normed' kwarg is deprecated, and has been replaced by the 'density' kwarg.\n",
      "  warnings.warn(\"The 'normed' kwarg is deprecated, and has been \"\n",
      "/opt/conda/lib/python3.6/site-packages/matplotlib/axes/_axes.py:6462: UserWarning: The 'normed' kwarg is deprecated, and has been replaced by the 'density' kwarg.\n",
      "  warnings.warn(\"The 'normed' kwarg is deprecated, and has been \"\n"
     ]
    },
    {
     "data": {
      "text/plain": [
       "Text(0.5,0,'Coverage class')"
      ]
     },
     "execution_count": 8,
     "metadata": {},
     "output_type": "execute_result"
    },
    {
     "data": {
      "image/png": "[encoded data removed]",
      "text/plain": [
       "<Figure size 1080x360 with 2 Axes>"
      ]
     },
     "metadata": {},
     "output_type": "display_data"
    }
   ],
   "source": [
    "fig, axs = plt.subplots(1, 2, figsize=(15,5))\n",
    "sns.distplot(train_df.coverage, kde=False, ax=axs[0])\n",
    "sns.distplot(train_df.coverage_class, bins=10, kde=False, ax=axs[1])\n",
    "plt.suptitle(\"Salt coverage\")\n",
    "axs[0].set_xlabel(\"Coverage\")\n",
    "axs[1].set_xlabel(\"Coverage class\")"
   ]
  },
  {
   "cell_type": "code",
   "execution_count": 9,
   "metadata": {
    "_uuid": "9f34c4263989a3d95af1e5922c1b7d2126655610"
   },
   "outputs": [
    {
     "name": "stderr",
     "output_type": "stream",
     "text": [
      "/opt/conda/lib/python3.6/site-packages/matplotlib/axes/_axes.py:6462: UserWarning: The 'normed' kwarg is deprecated, and has been replaced by the 'density' kwarg.\n",
      "  warnings.warn(\"The 'normed' kwarg is deprecated, and has been \"\n",
      "/opt/conda/lib/python3.6/site-packages/matplotlib/axes/_axes.py:6462: UserWarning: The 'normed' kwarg is deprecated, and has been replaced by the 'density' kwarg.\n",
      "  warnings.warn(\"The 'normed' kwarg is deprecated, and has been \"\n"
     ]
    },
    {
     "data": {
      "text/plain": [
       "Text(0.5,1,'Depth distribution')"
      ]
     },
     "execution_count": 9,
     "metadata": {},
     "output_type": "execute_result"
    },
    {
     "data": {
      "image/png": "[encoded data removed]",
      "text/plain": [
       "<Figure size 432x288 with 1 Axes>"
      ]
     },
     "metadata": {},
     "output_type": "display_data"
    }
   ],
   "source": [
    "#Plotting the depth distributions¶\n",
    "\n",
    "sns.distplot(train_df.z, label=\"Train\")\n",
    "sns.distplot(test_df.z, label=\"Test\")\n",
    "plt.legend()\n",
    "plt.title(\"Depth distribution\")"
   ]
  },
  {
   "cell_type": "code",
   "execution_count": 10,
   "metadata": {
    "_uuid": "51981795f0dd6b8ca7abe4db367f48313b63811e"
   },
   "outputs": [],
   "source": [
    "# Create train/validation split stratified by salt coverage\n",
    "\n",
    "ids_train, ids_valid, x_train, x_valid, y_train, y_valid, cov_train, cov_test, depth_train, depth_test = train_test_split(\n",
    "    train_df.index.values,\n",
    "    np.array(train_df.images.map(upsample).tolist()).reshape(-1, img_size_target, img_size_target, 1), \n",
    "    np.array(train_df.masks.map(upsample).tolist()).reshape(-1, img_size_target, img_size_target, 1), \n",
    "    train_df.coverage.values,\n",
    "    train_df.z.values,\n",
    "    test_size=0.2, stratify=train_df.coverage_class, random_state= 1234)"
   ]
  },
  {
   "cell_type": "code",
   "execution_count": 11,
   "metadata": {
    "_uuid": "7fb577cdf27f365d4a912728c2a7654d0e60fac8"
   },
   "outputs": [],
   "source": [
    "def BatchActivate(x):\n",
    "    x = BatchNormalization()(x)\n",
    "    x = Activation('relu')(x)\n",
    "    return x\n",
    "\n",
    "def convolution_block(x, filters, size, strides=(1,1), padding='same', activation=True):\n",
    "    x = Conv2D(filters, size, strides=strides, padding=padding)(x)\n",
    "    if activation == True:\n",
    "        x = BatchActivate(x)\n",
    "    return x\n",
    "\n",
    "def residual_block(blockInput, num_filters=16, batch_activate = False):\n",
    "    x = BatchActivate(blockInput)\n",
    "    x = convolution_block(x, num_filters, (3,3) )\n",
    "    x = convolution_block(x, num_filters, (3,3), activation=False)\n",
    "    x = Add()([x, blockInput])\n",
    "    if batch_activate:\n",
    "        x = BatchActivate(x)\n",
    "    return x\n"
   ]
  },
  {
   "cell_type": "code",
   "execution_count": 12,
   "metadata": {
    "_uuid": "02967d71ee7f936254ab54acf2aa7c2e038a2b21"
   },
   "outputs": [],
   "source": [
    "# Build model\n",
    "def build_model(input_layer, start_neurons, DropoutRatio = 0.5):\n",
    "    # 101 -> 50\n",
    "    conv1 = Conv2D(start_neurons * 1, (3, 3), activation=None, padding=\"same\")(input_layer)\n",
    "    conv1 = residual_block(conv1,start_neurons * 1)\n",
    "    conv1 = residual_block(conv1,start_neurons * 1, True)\n",
    "    pool1 = MaxPooling2D((2, 2))(conv1)\n",
    "    pool1 = Dropout(DropoutRatio/2)(pool1)\n",
    "\n",
    "    # 50 -> 25\n",
    "    conv2 = Conv2D(start_neurons * 2, (3, 3), activation=None, padding=\"same\")(pool1)\n",
    "    conv2 = residual_block(conv2,start_neurons * 2)\n",
    "    conv2 = residual_block(conv2,start_neurons * 2, True)\n",
    "    pool2 = MaxPooling2D((2, 2))(conv2)\n",
    "    pool2 = Dropout(DropoutRatio)(pool2)\n",
    "\n",
    "    # 25 -> 12\n",
    "    conv3 = Conv2D(start_neurons * 4, (3, 3), activation=None, padding=\"same\")(pool2)\n",
    "    conv3 = residual_block(conv3,start_neurons * 4)\n",
    "    conv3 = residual_block(conv3,start_neurons * 4, True)\n",
    "    pool3 = MaxPooling2D((2, 2))(conv3)\n",
    "    pool3 = Dropout(DropoutRatio)(pool3)\n",
    "\n",
    "    # 12 -> 6\n",
    "    conv4 = Conv2D(start_neurons * 8, (3, 3), activation=None, padding=\"same\")(pool3)\n",
    "    conv4 = residual_block(conv4,start_neurons * 8)\n",
    "    conv4 = residual_block(conv4,start_neurons * 8, True)\n",
    "    pool4 = MaxPooling2D((2, 2))(conv4)\n",
    "    pool4 = Dropout(DropoutRatio)(pool4)\n",
    "\n",
    "    # Middle\n",
    "    convm = Conv2D(start_neurons * 16, (3, 3), activation=None, padding=\"same\")(pool4)\n",
    "    convm = residual_block(convm,start_neurons * 16)\n",
    "    convm = residual_block(convm,start_neurons * 16, True)\n",
    "    \n",
    "    # 6 -> 12\n",
    "    deconv4 = Conv2DTranspose(start_neurons * 8, (3, 3), strides=(2, 2), padding=\"same\")(convm)\n",
    "    uconv4 = concatenate([deconv4, conv4])\n",
    "    uconv4 = Dropout(DropoutRatio)(uconv4)\n",
    "    \n",
    "    uconv4 = Conv2D(start_neurons * 8, (3, 3), activation=None, padding=\"same\")(uconv4)\n",
    "    uconv4 = residual_block(uconv4,start_neurons * 8)\n",
    "    uconv4 = residual_block(uconv4,start_neurons * 8, True)\n",
    "    \n",
    "    # 12 -> 25\n",
    "    #deconv3 = Conv2DTranspose(start_neurons * 4, (3, 3), strides=(2, 2), padding=\"same\")(uconv4)\n",
    "    deconv3 = Conv2DTranspose(start_neurons * 4, (3, 3), strides=(2, 2), padding=\"valid\")(uconv4)\n",
    "    uconv3 = concatenate([deconv3, conv3])    \n",
    "    uconv3 = Dropout(DropoutRatio)(uconv3)\n",
    "    \n",
    "    uconv3 = Conv2D(start_neurons * 4, (3, 3), activation=None, padding=\"same\")(uconv3)\n",
    "    uconv3 = residual_block(uconv3,start_neurons * 4)\n",
    "    uconv3 = residual_block(uconv3,start_neurons * 4, True)\n",
    "\n",
    "    # 25 -> 50\n",
    "    deconv2 = Conv2DTranspose(start_neurons * 2, (3, 3), strides=(2, 2), padding=\"same\")(uconv3)\n",
    "    uconv2 = concatenate([deconv2, conv2])\n",
    "        \n",
    "    uconv2 = Dropout(DropoutRatio)(uconv2)\n",
    "    uconv2 = Conv2D(start_neurons * 2, (3, 3), activation=None, padding=\"same\")(uconv2)\n",
    "    uconv2 = residual_block(uconv2,start_neurons * 2)\n",
    "    uconv2 = residual_block(uconv2,start_neurons * 2, True)\n",
    "    \n",
    "    # 50 -> 101\n",
    "    #deconv1 = Conv2DTranspose(start_neurons * 1, (3, 3), strides=(2, 2), padding=\"same\")(uconv2)\n",
    "    deconv1 = Conv2DTranspose(start_neurons * 1, (3, 3), strides=(2, 2), padding=\"valid\")(uconv2)\n",
    "    uconv1 = concatenate([deconv1, conv1])\n",
    "    \n",
    "    uconv1 = Dropout(DropoutRatio)(uconv1)\n",
    "    uconv1 = Conv2D(start_neurons * 1, (3, 3), activation=None, padding=\"same\")(uconv1)\n",
    "    uconv1 = residual_block(uconv1,start_neurons * 1)\n",
    "    uconv1 = residual_block(uconv1,start_neurons * 1, True)\n",
    "    \n",
    "    #uconv1 = Dropout(DropoutRatio/2)(uconv1)\n",
    "    #output_layer = Conv2D(1, (1,1), padding=\"same\", activation=\"sigmoid\")(uconv1)\n",
    "    output_layer_noActi = Conv2D(1, (1,1), padding=\"same\", activation=None)(uconv1)\n",
    "    output_layer =  Activation('sigmoid')(output_layer_noActi)\n",
    "    \n",
    "    return output_layer"
   ]
  },
  {
   "cell_type": "code",
   "execution_count": 13,
   "metadata": {
    "_uuid": "2bd5e479d3aa211bcb5fe32ce9c4d71cd012eefa"
   },
   "outputs": [],
   "source": [
    "def get_iou_vector(A, B):\n",
    "    batch_size = A.shape[0]\n",
    "    metric = []\n",
    "    for batch in range(batch_size):\n",
    "        t, p = A[batch]>0, B[batch]>0\n",
    "#         if np.count_nonzero(t) == 0 and np.count_nonzero(p) > 0:\n",
    "#             metric.append(0)\n",
    "#             continue\n",
    "#         if np.count_nonzero(t) >= 1 and np.count_nonzero(p) == 0:\n",
    "#             metric.append(0)\n",
    "#             continue\n",
    "#         if np.count_nonzero(t) == 0 and np.count_nonzero(p) == 0:\n",
    "#             metric.append(1)\n",
    "#             continue\n",
    "        \n",
    "        intersection = np.logical_and(t, p)\n",
    "        union = np.logical_or(t, p)\n",
    "        iou = (np.sum(intersection > 0) + 1e-10 )/ (np.sum(union > 0) + 1e-10)\n",
    "        thresholds = np.arange(0.5, 1, 0.05)\n",
    "        s = []\n",
    "        for thresh in thresholds:\n",
    "            s.append(iou > thresh)\n",
    "        metric.append(np.mean(s))\n",
    "\n",
    "    return np.mean(metric)\n",
    "\n",
    "def my_iou_metric(label, pred):\n",
    "    return tf.py_func(get_iou_vector, [label, pred>0.5], tf.float64)\n",
    "\n",
    "def my_iou_metric_2(label, pred):\n",
    "    return tf.py_func(get_iou_vector, [label, pred >0], tf.float64)"
   ]
  },
  {
   "cell_type": "code",
   "execution_count": 14,
   "metadata": {
    "_uuid": "e25caa2102813289cbd74796b612fbbfaaff8154"
   },
   "outputs": [],
   "source": [
    "# code download from: https://github.com/bermanmaxim/LovaszSoftmax\n",
    "def lovasz_grad(gt_sorted):\n",
    "    \"\"\"\n",
    "    Computes gradient of the Lovasz extension w.r.t sorted errors\n",
    "    See Alg. 1 in paper\n",
    "    \"\"\"\n",
    "    gts = tf.reduce_sum(gt_sorted)\n",
    "    intersection = gts - tf.cumsum(gt_sorted)\n",
    "    union = gts + tf.cumsum(1. - gt_sorted)\n",
    "    jaccard = 1. - intersection / union\n",
    "    jaccard = tf.concat((jaccard[0:1], jaccard[1:] - jaccard[:-1]), 0)\n",
    "    return jaccard\n",
    "\n",
    "\n",
    "# --------------------------- BINARY LOSSES ---------------------------\n",
    "\n",
    "def lovasz_hinge(logits, labels, per_image=True, ignore=None):\n",
    "    \"\"\"\n",
    "    Binary Lovasz hinge loss\n",
    "      logits: [B, H, W] Variable, logits at each pixel (between -\\infty and +\\infty)\n",
    "      labels: [B, H, W] Tensor, binary ground truth masks (0 or 1)\n",
    "      per_image: compute the loss per image instead of per batch\n",
    "      ignore: void class id\n",
    "    \"\"\"\n",
    "    if per_image:\n",
    "        def treat_image(log_lab):\n",
    "            log, lab = log_lab\n",
    "            log, lab = tf.expand_dims(log, 0), tf.expand_dims(lab, 0)\n",
    "            log, lab = flatten_binary_scores(log, lab, ignore)\n",
    "            return lovasz_hinge_flat(log, lab)\n",
    "        losses = tf.map_fn(treat_image, (logits, labels), dtype=tf.float32)\n",
    "        loss = tf.reduce_mean(losses)\n",
    "    else:\n",
    "        loss = lovasz_hinge_flat(*flatten_binary_scores(logits, labels, ignore))\n",
    "    return loss\n",
    "\n",
    "\n",
    "def lovasz_hinge_flat(logits, labels):\n",
    "    \"\"\"\n",
    "    Binary Lovasz hinge loss\n",
    "      logits: [P] Variable, logits at each prediction (between -\\infty and +\\infty)\n",
    "      labels: [P] Tensor, binary ground truth labels (0 or 1)\n",
    "      ignore: label to ignore\n",
    "    \"\"\"\n",
    "\n",
    "    def compute_loss():\n",
    "        labelsf = tf.cast(labels, logits.dtype)\n",
    "        signs = 2. * labelsf - 1.\n",
    "        errors = 1. - logits * tf.stop_gradient(signs)\n",
    "        errors_sorted, perm = tf.nn.top_k(errors, k=tf.shape(errors)[0], name=\"descending_sort\")\n",
    "        gt_sorted = tf.gather(labelsf, perm)\n",
    "        grad = lovasz_grad(gt_sorted)\n",
    "        loss = tf.tensordot(tf.nn.relu(errors_sorted), tf.stop_gradient(grad), 1, name=\"loss_non_void\")\n",
    "        return loss\n",
    "\n",
    "    # deal with the void prediction case (only void pixels)\n",
    "    loss = tf.cond(tf.equal(tf.shape(logits)[0], 0),\n",
    "                   lambda: tf.reduce_sum(logits) * 0.,\n",
    "                   compute_loss,\n",
    "                   strict=True,\n",
    "                   name=\"loss\"\n",
    "                   )\n",
    "    return loss\n",
    "\n",
    "\n",
    "def flatten_binary_scores(scores, labels, ignore=None):\n",
    "    \"\"\"\n",
    "    Flattens predictions in the batch (binary case)\n",
    "    Remove labels equal to 'ignore'\n",
    "    \"\"\"\n",
    "    scores = tf.reshape(scores, (-1,))\n",
    "    labels = tf.reshape(labels, (-1,))\n",
    "    if ignore is None:\n",
    "        return scores, labels\n",
    "    valid = tf.not_equal(labels, ignore)\n",
    "    vscores = tf.boolean_mask(scores, valid, name='valid_scores')\n",
    "    vlabels = tf.boolean_mask(labels, valid, name='valid_labels')\n",
    "    return vscores, vlabels\n",
    "\n",
    "def lovasz_loss(y_true, y_pred):\n",
    "    y_true, y_pred = K.cast(K.squeeze(y_true, -1), 'int32'), K.cast(K.squeeze(y_pred, -1), 'float32')\n",
    "    #logits = K.log(y_pred / (1. - y_pred))\n",
    "    logits = y_pred #Jiaxin\n",
    "    loss = lovasz_hinge(logits, y_true, per_image = True, ignore = None)\n",
    "    return loss"
   ]
  },
  {
   "cell_type": "code",
   "execution_count": 15,
   "metadata": {
    "_uuid": "072ab621d38cc93d26998f391357cb6efc791600"
   },
   "outputs": [
    {
     "name": "stdout",
     "output_type": "stream",
     "text": [
      "(6400, 101, 101, 1)\n",
      "(800, 101, 101, 1)\n"
     ]
    }
   ],
   "source": [
    "#Data augmentation\n",
    "x_train = np.append(x_train, [np.fliplr(x) for x in x_train], axis=0)\n",
    "y_train = np.append(y_train, [np.fliplr(x) for x in y_train], axis=0)\n",
    "print(x_train.shape)\n",
    "print(y_valid.shape)"
   ]
  },
  {
   "cell_type": "code",
   "execution_count": 16,
   "metadata": {
    "_uuid": "30622932f68888e895a9b8cac91810a1bb3c5e75"
   },
   "outputs": [],
   "source": [
    "# model\n",
    "input_layer = Input((img_size_target, img_size_target, 1))\n",
    "output_layer = build_model(input_layer, 16,0.5)\n",
    "\n",
    "model1 = Model(input_layer, output_layer)\n",
    "\n",
    "c = optimizers.adam(lr = 0.01)\n",
    "model1.compile(loss=\"binary_crossentropy\", optimizer=c, metrics=[my_iou_metric])\n",
    "\n",
    "#model1.summary()"
   ]
  },
  {
   "cell_type": "code",
   "execution_count": 17,
   "metadata": {
    "_uuid": "41699081be465c14e193ffad4fd00bd56840f156",
    "scrolled": true
   },
   "outputs": [
    {
     "name": "stdout",
     "output_type": "stream",
     "text": [
      "Train on 6400 samples, validate on 800 samples\n",
      "Epoch 1/50\n",
      " - 42s - loss: 0.4429 - my_iou_metric: 0.3040 - val_loss: 0.9258 - val_my_iou_metric: 0.3613\n",
      "\n",
      "Epoch 00001: my_iou_metric improved from -inf to 0.30398, saving model to Unet_resnet_v5.model\n",
      "Epoch 2/50\n",
      " - 30s - loss: 0.3591 - my_iou_metric: 0.5110 - val_loss: 0.7222 - val_my_iou_metric: 0.2988\n",
      "\n",
      "Epoch 00002: my_iou_metric improved from 0.30398 to 0.51102, saving model to Unet_resnet_v5.model\n",
      "Epoch 3/50\n",
      " - 30s - loss: 0.3271 - my_iou_metric: 0.5367 - val_loss: 0.8826 - val_my_iou_metric: 0.3802\n",
      "\n",
      "Epoch 00003: my_iou_metric improved from 0.51102 to 0.53672, saving model to Unet_resnet_v5.model\n",
      "Epoch 4/50\n",
      " - 30s - loss: 0.2872 - my_iou_metric: 0.5560 - val_loss: 0.5807 - val_my_iou_metric: 0.2268\n",
      "\n",
      "Epoch 00004: my_iou_metric improved from 0.53672 to 0.55595, saving model to Unet_resnet_v5.model\n",
      "Epoch 5/50\n",
      " - 30s - loss: 0.2767 - my_iou_metric: 0.5727 - val_loss: 0.3660 - val_my_iou_metric: 0.4279\n",
      "\n",
      "Epoch 00005: my_iou_metric improved from 0.55595 to 0.57266, saving model to Unet_resnet_v5.model\n",
      "Epoch 6/50\n",
      " - 30s - loss: 0.2365 - my_iou_metric: 0.5875 - val_loss: 0.2752 - val_my_iou_metric: 0.5894\n",
      "\n",
      "Epoch 00006: my_iou_metric improved from 0.57266 to 0.58748, saving model to Unet_resnet_v5.model\n",
      "Epoch 7/50\n",
      " - 30s - loss: 0.2106 - my_iou_metric: 0.6095 - val_loss: 0.8491 - val_my_iou_metric: 0.3523\n",
      "\n",
      "Epoch 00007: my_iou_metric improved from 0.58748 to 0.60948, saving model to Unet_resnet_v5.model\n",
      "Epoch 8/50\n",
      " - 30s - loss: 0.1964 - my_iou_metric: 0.6309 - val_loss: 0.2326 - val_my_iou_metric: 0.6664\n",
      "\n",
      "Epoch 00008: my_iou_metric improved from 0.60948 to 0.63086, saving model to Unet_resnet_v5.model\n",
      "Epoch 9/50\n",
      " - 30s - loss: 0.1933 - my_iou_metric: 0.6343 - val_loss: 0.2454 - val_my_iou_metric: 0.6654\n",
      "\n",
      "Epoch 00009: my_iou_metric improved from 0.63086 to 0.63428, saving model to Unet_resnet_v5.model\n",
      "Epoch 10/50\n",
      " - 30s - loss: 0.1802 - my_iou_metric: 0.6504 - val_loss: 0.2273 - val_my_iou_metric: 0.6866\n",
      "\n",
      "Epoch 00010: my_iou_metric improved from 0.63428 to 0.65044, saving model to Unet_resnet_v5.model\n",
      "Epoch 11/50\n",
      " - 30s - loss: 0.1806 - my_iou_metric: 0.6563 - val_loss: 0.2271 - val_my_iou_metric: 0.6639\n",
      "\n",
      "Epoch 00011: my_iou_metric improved from 0.65044 to 0.65633, saving model to Unet_resnet_v5.model\n",
      "Epoch 12/50\n",
      " - 30s - loss: 0.1697 - my_iou_metric: 0.6654 - val_loss: 0.8532 - val_my_iou_metric: 0.3910\n",
      "\n",
      "Epoch 00012: my_iou_metric improved from 0.65633 to 0.66539, saving model to Unet_resnet_v5.model\n",
      "Epoch 13/50\n",
      " - 30s - loss: 0.1699 - my_iou_metric: 0.6745 - val_loss: 0.5800 - val_my_iou_metric: 0.3940\n",
      "\n",
      "Epoch 00013: my_iou_metric improved from 0.66539 to 0.67453, saving model to Unet_resnet_v5.model\n",
      "Epoch 14/50\n",
      " - 30s - loss: 0.1559 - my_iou_metric: 0.6903 - val_loss: 0.1639 - val_my_iou_metric: 0.6795\n",
      "\n",
      "Epoch 00014: my_iou_metric improved from 0.67453 to 0.69030, saving model to Unet_resnet_v5.model\n",
      "Epoch 15/50\n",
      " - 30s - loss: 0.1563 - my_iou_metric: 0.6838 - val_loss: 0.4179 - val_my_iou_metric: 0.5381\n",
      "\n",
      "Epoch 00015: my_iou_metric did not improve from 0.69030\n",
      "Epoch 16/50\n",
      " - 30s - loss: 0.1571 - my_iou_metric: 0.6906 - val_loss: 0.4684 - val_my_iou_metric: 0.4875\n",
      "\n",
      "Epoch 00016: my_iou_metric improved from 0.69030 to 0.69064, saving model to Unet_resnet_v5.model\n",
      "Epoch 17/50\n",
      " - 30s - loss: 0.1506 - my_iou_metric: 0.7030 - val_loss: 0.1892 - val_my_iou_metric: 0.6926\n",
      "\n",
      "Epoch 00017: my_iou_metric improved from 0.69064 to 0.70298, saving model to Unet_resnet_v5.model\n",
      "Epoch 18/50\n",
      " - 30s - loss: 0.1421 - my_iou_metric: 0.7096 - val_loss: 0.1675 - val_my_iou_metric: 0.7275\n",
      "\n",
      "Epoch 00018: my_iou_metric improved from 0.70298 to 0.70961, saving model to Unet_resnet_v5.model\n",
      "Epoch 19/50\n",
      " - 30s - loss: 0.1425 - my_iou_metric: 0.7027 - val_loss: 0.2058 - val_my_iou_metric: 0.6941\n",
      "\n",
      "Epoch 00019: my_iou_metric did not improve from 0.70961\n",
      "Epoch 20/50\n",
      " - 30s - loss: 0.1430 - my_iou_metric: 0.7116 - val_loss: 0.1509 - val_my_iou_metric: 0.7370\n",
      "\n",
      "Epoch 00020: my_iou_metric improved from 0.70961 to 0.71164, saving model to Unet_resnet_v5.model\n",
      "Epoch 21/50\n",
      " - 30s - loss: 0.1383 - my_iou_metric: 0.7127 - val_loss: 0.3031 - val_my_iou_metric: 0.6570\n",
      "\n",
      "Epoch 00021: my_iou_metric improved from 0.71164 to 0.71272, saving model to Unet_resnet_v5.model\n",
      "Epoch 22/50\n",
      " - 30s - loss: 0.1456 - my_iou_metric: 0.7084 - val_loss: 0.1904 - val_my_iou_metric: 0.6914\n",
      "\n",
      "Epoch 00022: my_iou_metric did not improve from 0.71272\n",
      "Epoch 23/50\n",
      " - 30s - loss: 0.1290 - my_iou_metric: 0.7282 - val_loss: 0.1651 - val_my_iou_metric: 0.7190\n",
      "\n",
      "Epoch 00023: my_iou_metric improved from 0.71272 to 0.72819, saving model to Unet_resnet_v5.model\n",
      "Epoch 24/50\n",
      " - 30s - loss: 0.1329 - my_iou_metric: 0.7190 - val_loss: 0.1490 - val_my_iou_metric: 0.7191\n",
      "\n",
      "Epoch 00024: my_iou_metric did not improve from 0.72819\n",
      "Epoch 25/50\n",
      " - 30s - loss: 0.1314 - my_iou_metric: 0.7262 - val_loss: 0.2369 - val_my_iou_metric: 0.6886\n",
      "\n",
      "Epoch 00025: my_iou_metric did not improve from 0.72819\n",
      "Epoch 26/50\n",
      " - 30s - loss: 0.1245 - my_iou_metric: 0.7300 - val_loss: 0.1635 - val_my_iou_metric: 0.7118\n",
      "\n",
      "Epoch 00026: my_iou_metric improved from 0.72819 to 0.73003, saving model to Unet_resnet_v5.model\n",
      "Epoch 27/50\n",
      " - 30s - loss: 0.1252 - my_iou_metric: 0.7314 - val_loss: 0.1589 - val_my_iou_metric: 0.7392\n",
      "\n",
      "Epoch 00027: my_iou_metric improved from 0.73003 to 0.73139, saving model to Unet_resnet_v5.model\n",
      "Epoch 28/50\n",
      " - 30s - loss: 0.1197 - my_iou_metric: 0.7437 - val_loss: 0.3557 - val_my_iou_metric: 0.5755\n",
      "\n",
      "Epoch 00028: my_iou_metric improved from 0.73139 to 0.74366, saving model to Unet_resnet_v5.model\n",
      "Epoch 29/50\n",
      " - 30s - loss: 0.1304 - my_iou_metric: 0.7296 - val_loss: 0.2367 - val_my_iou_metric: 0.6683\n",
      "\n",
      "Epoch 00029: my_iou_metric did not improve from 0.74366\n",
      "Epoch 30/50\n",
      " - 30s - loss: 0.1202 - my_iou_metric: 0.7437 - val_loss: 0.1677 - val_my_iou_metric: 0.7210\n",
      "\n",
      "Epoch 00030: my_iou_metric improved from 0.74366 to 0.74367, saving model to Unet_resnet_v5.model\n",
      "Epoch 31/50\n",
      " - 30s - loss: 0.1187 - my_iou_metric: 0.7442 - val_loss: 0.1661 - val_my_iou_metric: 0.7302\n",
      "\n",
      "Epoch 00031: my_iou_metric improved from 0.74367 to 0.74422, saving model to Unet_resnet_v5.model\n",
      "Epoch 32/50\n",
      " - 30s - loss: 0.1172 - my_iou_metric: 0.7429 - val_loss: 0.1375 - val_my_iou_metric: 0.7506\n",
      "\n",
      "Epoch 00032: my_iou_metric did not improve from 0.74422\n",
      "Epoch 33/50\n",
      " - 30s - loss: 0.1093 - my_iou_metric: 0.7482 - val_loss: 0.1812 - val_my_iou_metric: 0.7209\n",
      "\n",
      "Epoch 00033: my_iou_metric improved from 0.74422 to 0.74823, saving model to Unet_resnet_v5.model\n",
      "Epoch 34/50\n",
      " - 30s - loss: 0.1101 - my_iou_metric: 0.7504 - val_loss: 0.1941 - val_my_iou_metric: 0.7465\n",
      "\n",
      "Epoch 00034: my_iou_metric improved from 0.74823 to 0.75036, saving model to Unet_resnet_v5.model\n",
      "Epoch 35/50\n",
      " - 30s - loss: 0.1086 - my_iou_metric: 0.7480 - val_loss: 0.1513 - val_my_iou_metric: 0.7381\n",
      "\n",
      "Epoch 00035: my_iou_metric did not improve from 0.75036\n",
      "Epoch 36/50\n",
      " - 30s - loss: 0.1088 - my_iou_metric: 0.7470 - val_loss: 0.1579 - val_my_iou_metric: 0.7487\n",
      "\n",
      "Epoch 00036: my_iou_metric did not improve from 0.75036\n",
      "Epoch 37/50\n",
      " - 30s - loss: 0.1061 - my_iou_metric: 0.7525 - val_loss: 0.1767 - val_my_iou_metric: 0.7364\n",
      "\n",
      "Epoch 00037: my_iou_metric improved from 0.75036 to 0.75253, saving model to Unet_resnet_v5.model\n",
      "Epoch 38/50\n",
      " - 30s - loss: 0.1041 - my_iou_metric: 0.7641 - val_loss: 0.1882 - val_my_iou_metric: 0.7227\n",
      "\n",
      "Epoch 00038: my_iou_metric improved from 0.75253 to 0.76411, saving model to Unet_resnet_v5.model\n",
      "Epoch 39/50\n",
      " - 30s - loss: 0.1042 - my_iou_metric: 0.7575 - val_loss: 0.1422 - val_my_iou_metric: 0.7409\n",
      "\n",
      "Epoch 00039: my_iou_metric did not improve from 0.76411\n",
      "Epoch 40/50\n",
      " - 30s - loss: 0.1003 - my_iou_metric: 0.7630 - val_loss: 0.1711 - val_my_iou_metric: 0.7476\n",
      "\n",
      "Epoch 00040: my_iou_metric did not improve from 0.76411\n",
      "Epoch 41/50\n",
      " - 30s - loss: 0.1023 - my_iou_metric: 0.7604 - val_loss: 0.1474 - val_my_iou_metric: 0.7636\n",
      "\n",
      "Epoch 00041: my_iou_metric did not improve from 0.76411\n",
      "Epoch 42/50\n",
      " - 30s - loss: 0.0941 - my_iou_metric: 0.7628 - val_loss: 0.1690 - val_my_iou_metric: 0.7391\n",
      "\n",
      "Epoch 00042: my_iou_metric did not improve from 0.76411\n",
      "Epoch 43/50\n",
      " - 30s - loss: 0.0986 - my_iou_metric: 0.7655 - val_loss: 0.5019 - val_my_iou_metric: 0.5891\n",
      "\n",
      "Epoch 00043: my_iou_metric improved from 0.76411 to 0.76547, saving model to Unet_resnet_v5.model\n"
     ]
    },
    {
     "name": "stdout",
     "output_type": "stream",
     "text": [
      "Epoch 44/50\n",
      " - 30s - loss: 0.0943 - my_iou_metric: 0.7685 - val_loss: 0.1846 - val_my_iou_metric: 0.7314\n",
      "\n",
      "Epoch 00044: my_iou_metric improved from 0.76547 to 0.76848, saving model to Unet_resnet_v5.model\n",
      "Epoch 45/50\n",
      " - 30s - loss: 0.0959 - my_iou_metric: 0.7690 - val_loss: 0.1728 - val_my_iou_metric: 0.7441\n",
      "\n",
      "Epoch 00045: my_iou_metric improved from 0.76848 to 0.76905, saving model to Unet_resnet_v5.model\n",
      "Epoch 46/50\n",
      " - 30s - loss: 0.0929 - my_iou_metric: 0.7688 - val_loss: 0.1587 - val_my_iou_metric: 0.7539\n",
      "\n",
      "Epoch 00046: my_iou_metric did not improve from 0.76905\n",
      "Epoch 47/50\n",
      " - 30s - loss: 0.0918 - my_iou_metric: 0.7671 - val_loss: 0.1633 - val_my_iou_metric: 0.7480\n",
      "\n",
      "Epoch 00047: my_iou_metric did not improve from 0.76905\n",
      "Epoch 48/50\n",
      " - 30s - loss: 0.0942 - my_iou_metric: 0.7694 - val_loss: 0.1540 - val_my_iou_metric: 0.7452\n",
      "\n",
      "Epoch 00048: my_iou_metric improved from 0.76905 to 0.76939, saving model to Unet_resnet_v5.model\n",
      "Epoch 49/50\n",
      " - 30s - loss: 0.0909 - my_iou_metric: 0.7738 - val_loss: 0.1616 - val_my_iou_metric: 0.7176\n",
      "\n",
      "Epoch 00049: my_iou_metric improved from 0.76939 to 0.77378, saving model to Unet_resnet_v5.model\n",
      "Epoch 50/50\n",
      " - 30s - loss: 0.0867 - my_iou_metric: 0.7775 - val_loss: 0.1694 - val_my_iou_metric: 0.7531\n",
      "\n",
      "Epoch 00050: my_iou_metric improved from 0.77378 to 0.77747, saving model to Unet_resnet_v5.model\n"
     ]
    }
   ],
   "source": [
    "#early_stopping = EarlyStopping(monitor='my_iou_metric', mode = 'max',patience=10, verbose=1)\n",
    "model_checkpoint = ModelCheckpoint(save_model_name,monitor='my_iou_metric', \n",
    "                                   mode = 'max', save_best_only=True, verbose=1)\n",
    "reduce_lr = ReduceLROnPlateau(monitor='my_iou_metric', mode = 'max',factor=0.5, patience=5, min_lr=0.0001, verbose=1)\n",
    "\n",
    "epochs = 50\n",
    "batch_size = 32\n",
    "history = model1.fit(x_train, y_train,\n",
    "                    validation_data=[x_valid, y_valid], \n",
    "                    epochs=epochs,\n",
    "                    batch_size=batch_size,\n",
    "                    callbacks=[ model_checkpoint,reduce_lr], \n",
    "                    verbose=2)"
   ]
  },
  {
   "cell_type": "code",
   "execution_count": 18,
   "metadata": {
    "_uuid": "513a3f8490ae5cbc61651458750ba369f99f6f62",
    "scrolled": true
   },
   "outputs": [],
   "source": [
    "model1 = load_model(save_model_name,custom_objects={'my_iou_metric': my_iou_metric})\n",
    "# remove layter activation layer and use losvasz loss\n",
    "input_x = model1.layers[0].input\n",
    "\n",
    "output_layer = model1.layers[-1].input\n",
    "model = Model(input_x, output_layer)\n",
    "c = optimizers.adam(lr = 0.01)\n",
    "\n",
    "# lovasz_loss need input range (-∞，+∞), so cancel the last \"sigmoid\" activation  \n",
    "# Then the default threshod for pixel prediction is 0 instead of 0.5, as in my_iou_metric_2.\n",
    "model.compile(loss=lovasz_loss, optimizer=c, metrics=[my_iou_metric_2])\n",
    "\n",
    "#model.summary()"
   ]
  },
  {
   "cell_type": "code",
   "execution_count": 19,
   "metadata": {
    "_uuid": "bc68a1d9f9ec3837a2988bd7fe05d1fffdbc381d",
    "scrolled": true
   },
   "outputs": [
    {
     "name": "stdout",
     "output_type": "stream",
     "text": [
      "Train on 6400 samples, validate on 800 samples\n",
      "Epoch 1/50\n",
      " - 90s - loss: 0.4080 - my_iou_metric_2: 0.7914 - val_loss: 0.5959 - val_my_iou_metric_2: 0.6871\n",
      "\n",
      "Epoch 00001: val_my_iou_metric_2 improved from -inf to 0.68713, saving model to Unet_resnet_v5.model\n",
      "Epoch 2/50\n",
      " - 76s - loss: 0.3544 - my_iou_metric_2: 0.8000 - val_loss: 0.5110 - val_my_iou_metric_2: 0.7335\n",
      "\n",
      "Epoch 00002: val_my_iou_metric_2 improved from 0.68713 to 0.73350, saving model to Unet_resnet_v5.model\n",
      "Epoch 3/50\n",
      " - 76s - loss: 0.3508 - my_iou_metric_2: 0.7993 - val_loss: 0.4344 - val_my_iou_metric_2: 0.7704\n",
      "\n",
      "Epoch 00003: val_my_iou_metric_2 improved from 0.73350 to 0.77037, saving model to Unet_resnet_v5.model\n",
      "Epoch 4/50\n",
      " - 76s - loss: 0.3481 - my_iou_metric_2: 0.7972 - val_loss: 0.3963 - val_my_iou_metric_2: 0.7795\n",
      "\n",
      "Epoch 00004: val_my_iou_metric_2 improved from 0.77037 to 0.77950, saving model to Unet_resnet_v5.model\n",
      "Epoch 5/50\n",
      " - 76s - loss: 0.3409 - my_iou_metric_2: 0.8009 - val_loss: 0.6142 - val_my_iou_metric_2: 0.6834\n",
      "\n",
      "Epoch 00005: val_my_iou_metric_2 did not improve from 0.77950\n",
      "Epoch 6/50\n",
      " - 76s - loss: 0.3508 - my_iou_metric_2: 0.7973 - val_loss: 0.4475 - val_my_iou_metric_2: 0.7583\n",
      "\n",
      "Epoch 00006: val_my_iou_metric_2 did not improve from 0.77950\n",
      "Epoch 7/50\n",
      " - 76s - loss: 0.3418 - my_iou_metric_2: 0.7998 - val_loss: 0.4799 - val_my_iou_metric_2: 0.7503\n",
      "\n",
      "Epoch 00007: val_my_iou_metric_2 did not improve from 0.77950\n",
      "Epoch 8/50\n",
      " - 76s - loss: 0.3490 - my_iou_metric_2: 0.7953 - val_loss: 0.4871 - val_my_iou_metric_2: 0.7333\n",
      "\n",
      "Epoch 00008: val_my_iou_metric_2 did not improve from 0.77950\n",
      "Epoch 9/50\n",
      " - 76s - loss: 0.3637 - my_iou_metric_2: 0.7879 - val_loss: 0.4479 - val_my_iou_metric_2: 0.7585\n",
      "\n",
      "Epoch 00009: val_my_iou_metric_2 did not improve from 0.77950\n",
      "\n",
      "Epoch 00009: ReduceLROnPlateau reducing learning rate to 0.004999999888241291.\n",
      "Epoch 10/50\n",
      " - 76s - loss: 0.3176 - my_iou_metric_2: 0.8101 - val_loss: 0.3625 - val_my_iou_metric_2: 0.7964\n",
      "\n",
      "Epoch 00010: val_my_iou_metric_2 improved from 0.77950 to 0.79638, saving model to Unet_resnet_v5.model\n",
      "Epoch 11/50\n",
      " - 76s - loss: 0.3132 - my_iou_metric_2: 0.8136 - val_loss: 0.3876 - val_my_iou_metric_2: 0.7841\n",
      "\n",
      "Epoch 00011: val_my_iou_metric_2 did not improve from 0.79638\n",
      "Epoch 12/50\n",
      " - 76s - loss: 0.2983 - my_iou_metric_2: 0.8198 - val_loss: 0.3602 - val_my_iou_metric_2: 0.7945\n",
      "\n",
      "Epoch 00012: val_my_iou_metric_2 did not improve from 0.79638\n",
      "Epoch 13/50\n",
      " - 76s - loss: 0.3090 - my_iou_metric_2: 0.8126 - val_loss: 0.3829 - val_my_iou_metric_2: 0.7836\n",
      "\n",
      "Epoch 00013: val_my_iou_metric_2 did not improve from 0.79638\n",
      "Epoch 14/50\n",
      " - 76s - loss: 0.3017 - my_iou_metric_2: 0.8172 - val_loss: 0.3714 - val_my_iou_metric_2: 0.7925\n",
      "\n",
      "Epoch 00014: val_my_iou_metric_2 did not improve from 0.79638\n",
      "Epoch 15/50\n",
      " - 76s - loss: 0.3059 - my_iou_metric_2: 0.8155 - val_loss: 0.6233 - val_my_iou_metric_2: 0.6714\n",
      "\n",
      "Epoch 00015: val_my_iou_metric_2 did not improve from 0.79638\n",
      "\n",
      "Epoch 00015: ReduceLROnPlateau reducing learning rate to 0.0024999999441206455.\n",
      "Epoch 16/50\n",
      " - 76s - loss: 0.2929 - my_iou_metric_2: 0.8210 - val_loss: 0.3533 - val_my_iou_metric_2: 0.7997\n",
      "\n",
      "Epoch 00016: val_my_iou_metric_2 improved from 0.79638 to 0.79975, saving model to Unet_resnet_v5.model\n",
      "Epoch 17/50\n",
      " - 76s - loss: 0.2832 - my_iou_metric_2: 0.8265 - val_loss: 0.3513 - val_my_iou_metric_2: 0.7969\n",
      "\n",
      "Epoch 00017: val_my_iou_metric_2 did not improve from 0.79975\n",
      "Epoch 18/50\n",
      " - 76s - loss: 0.2747 - my_iou_metric_2: 0.8305 - val_loss: 0.3474 - val_my_iou_metric_2: 0.7979\n",
      "\n",
      "Epoch 00018: val_my_iou_metric_2 did not improve from 0.79975\n",
      "Epoch 19/50\n",
      " - 76s - loss: 0.2769 - my_iou_metric_2: 0.8285 - val_loss: 0.3530 - val_my_iou_metric_2: 0.7991\n",
      "\n",
      "Epoch 00019: val_my_iou_metric_2 did not improve from 0.79975\n",
      "Epoch 20/50\n",
      " - 76s - loss: 0.2741 - my_iou_metric_2: 0.8308 - val_loss: 0.3483 - val_my_iou_metric_2: 0.7993\n",
      "\n",
      "Epoch 00020: val_my_iou_metric_2 did not improve from 0.79975\n",
      "Epoch 21/50\n",
      " - 76s - loss: 0.2757 - my_iou_metric_2: 0.8308 - val_loss: 0.3651 - val_my_iou_metric_2: 0.7889\n",
      "\n",
      "Epoch 00021: val_my_iou_metric_2 did not improve from 0.79975\n",
      "\n",
      "Epoch 00021: ReduceLROnPlateau reducing learning rate to 0.0012499999720603228.\n",
      "Epoch 22/50\n",
      " - 76s - loss: 0.2655 - my_iou_metric_2: 0.8364 - val_loss: 0.3488 - val_my_iou_metric_2: 0.7989\n",
      "\n",
      "Epoch 00022: val_my_iou_metric_2 did not improve from 0.79975\n",
      "Epoch 23/50\n",
      " - 76s - loss: 0.2610 - my_iou_metric_2: 0.8377 - val_loss: 0.3494 - val_my_iou_metric_2: 0.7981\n",
      "\n",
      "Epoch 00023: val_my_iou_metric_2 did not improve from 0.79975\n",
      "Epoch 24/50\n",
      " - 76s - loss: 0.2593 - my_iou_metric_2: 0.8397 - val_loss: 0.3531 - val_my_iou_metric_2: 0.7963\n",
      "\n",
      "Epoch 00024: val_my_iou_metric_2 did not improve from 0.79975\n",
      "Epoch 25/50\n",
      " - 76s - loss: 0.2578 - my_iou_metric_2: 0.8376 - val_loss: 0.3563 - val_my_iou_metric_2: 0.7965\n",
      "\n",
      "Epoch 00025: val_my_iou_metric_2 did not improve from 0.79975\n",
      "Epoch 26/50\n",
      " - 76s - loss: 0.2557 - my_iou_metric_2: 0.8386 - val_loss: 0.3324 - val_my_iou_metric_2: 0.8059\n",
      "\n",
      "Epoch 00026: val_my_iou_metric_2 improved from 0.79975 to 0.80588, saving model to Unet_resnet_v5.model\n",
      "Epoch 27/50\n",
      " - 76s - loss: 0.2528 - my_iou_metric_2: 0.8408 - val_loss: 0.3449 - val_my_iou_metric_2: 0.8022\n",
      "\n",
      "Epoch 00027: val_my_iou_metric_2 did not improve from 0.80588\n",
      "Epoch 28/50\n",
      " - 76s - loss: 0.2549 - my_iou_metric_2: 0.8402 - val_loss: 0.3395 - val_my_iou_metric_2: 0.8034\n",
      "\n",
      "Epoch 00028: val_my_iou_metric_2 did not improve from 0.80588\n",
      "Epoch 29/50\n",
      " - 76s - loss: 0.2612 - my_iou_metric_2: 0.8362 - val_loss: 0.3609 - val_my_iou_metric_2: 0.7976\n",
      "\n",
      "Epoch 00029: val_my_iou_metric_2 did not improve from 0.80588\n",
      "Epoch 30/50\n",
      " - 76s - loss: 0.2547 - my_iou_metric_2: 0.8402 - val_loss: 0.3425 - val_my_iou_metric_2: 0.8029\n",
      "\n",
      "Epoch 00030: val_my_iou_metric_2 did not improve from 0.80588\n",
      "Epoch 31/50\n",
      " - 76s - loss: 0.2547 - my_iou_metric_2: 0.8408 - val_loss: 0.3656 - val_my_iou_metric_2: 0.7886\n",
      "\n",
      "Epoch 00031: val_my_iou_metric_2 did not improve from 0.80588\n",
      "\n",
      "Epoch 00031: ReduceLROnPlateau reducing learning rate to 0.0006249999860301614.\n",
      "Epoch 32/50\n",
      " - 76s - loss: 0.2484 - my_iou_metric_2: 0.8442 - val_loss: 0.3487 - val_my_iou_metric_2: 0.8016\n",
      "\n",
      "Epoch 00032: val_my_iou_metric_2 did not improve from 0.80588\n",
      "Epoch 33/50\n",
      " - 76s - loss: 0.2483 - my_iou_metric_2: 0.8437 - val_loss: 0.3411 - val_my_iou_metric_2: 0.8036\n",
      "\n",
      "Epoch 00033: val_my_iou_metric_2 did not improve from 0.80588\n",
      "Epoch 34/50\n",
      " - 76s - loss: 0.2475 - my_iou_metric_2: 0.8431 - val_loss: 0.3424 - val_my_iou_metric_2: 0.8025\n",
      "\n",
      "Epoch 00034: val_my_iou_metric_2 did not improve from 0.80588\n",
      "Epoch 35/50\n",
      " - 76s - loss: 0.2489 - my_iou_metric_2: 0.8430 - val_loss: 0.3411 - val_my_iou_metric_2: 0.8025\n",
      "\n",
      "Epoch 00035: val_my_iou_metric_2 did not improve from 0.80588\n",
      "Epoch 36/50\n",
      " - 76s - loss: 0.2465 - my_iou_metric_2: 0.8450 - val_loss: 0.3394 - val_my_iou_metric_2: 0.8027\n",
      "\n",
      "Epoch 00036: val_my_iou_metric_2 did not improve from 0.80588\n",
      "\n",
      "Epoch 00036: ReduceLROnPlateau reducing learning rate to 0.0003124999930150807.\n",
      "Epoch 37/50\n",
      " - 76s - loss: 0.2428 - my_iou_metric_2: 0.8460 - val_loss: 0.3392 - val_my_iou_metric_2: 0.8022\n",
      "\n",
      "Epoch 00037: val_my_iou_metric_2 did not improve from 0.80588\n",
      "Epoch 38/50\n",
      " - 76s - loss: 0.2412 - my_iou_metric_2: 0.8472 - val_loss: 0.3399 - val_my_iou_metric_2: 0.8030\n",
      "\n",
      "Epoch 00038: val_my_iou_metric_2 did not improve from 0.80588\n",
      "Epoch 39/50\n",
      " - 76s - loss: 0.2436 - my_iou_metric_2: 0.8459 - val_loss: 0.3387 - val_my_iou_metric_2: 0.8023\n",
      "\n",
      "Epoch 00039: val_my_iou_metric_2 did not improve from 0.80588\n",
      "Epoch 40/50\n",
      " - 76s - loss: 0.2434 - my_iou_metric_2: 0.8455 - val_loss: 0.3346 - val_my_iou_metric_2: 0.8059\n",
      "\n",
      "Epoch 00040: val_my_iou_metric_2 did not improve from 0.80588\n",
      "Epoch 41/50\n",
      " - 76s - loss: 0.2430 - my_iou_metric_2: 0.8461 - val_loss: 0.3392 - val_my_iou_metric_2: 0.8043\n",
      "\n",
      "Epoch 00041: val_my_iou_metric_2 did not improve from 0.80588\n",
      "\n",
      "Epoch 00041: ReduceLROnPlateau reducing learning rate to 0.00015624999650754035.\n",
      "Epoch 42/50\n",
      " - 76s - loss: 0.2438 - my_iou_metric_2: 0.8464 - val_loss: 0.3349 - val_my_iou_metric_2: 0.8060\n",
      "\n",
      "Epoch 00042: val_my_iou_metric_2 improved from 0.80588 to 0.80600, saving model to Unet_resnet_v5.model\n",
      "Epoch 43/50\n",
      " - 76s - loss: 0.2401 - my_iou_metric_2: 0.8472 - val_loss: 0.3359 - val_my_iou_metric_2: 0.8036\n",
      "\n",
      "Epoch 00043: val_my_iou_metric_2 did not improve from 0.80600\n",
      "Epoch 44/50\n"
     ]
    },
    {
     "name": "stdout",
     "output_type": "stream",
     "text": [
      " - 76s - loss: 0.2448 - my_iou_metric_2: 0.8452 - val_loss: 0.3315 - val_my_iou_metric_2: 0.8063\n",
      "\n",
      "Epoch 00044: val_my_iou_metric_2 improved from 0.80600 to 0.80625, saving model to Unet_resnet_v5.model\n",
      "Epoch 45/50\n",
      " - 76s - loss: 0.2406 - my_iou_metric_2: 0.8468 - val_loss: 0.3368 - val_my_iou_metric_2: 0.8036\n",
      "\n",
      "Epoch 00045: val_my_iou_metric_2 did not improve from 0.80625\n",
      "Epoch 46/50\n",
      " - 76s - loss: 0.2413 - my_iou_metric_2: 0.8471 - val_loss: 0.3359 - val_my_iou_metric_2: 0.8050\n",
      "\n",
      "Epoch 00046: val_my_iou_metric_2 did not improve from 0.80625\n",
      "Epoch 47/50\n",
      " - 76s - loss: 0.2364 - my_iou_metric_2: 0.8498 - val_loss: 0.3356 - val_my_iou_metric_2: 0.8051\n",
      "\n",
      "Epoch 00047: val_my_iou_metric_2 did not improve from 0.80625\n",
      "Epoch 48/50\n",
      " - 76s - loss: 0.2386 - my_iou_metric_2: 0.8485 - val_loss: 0.3355 - val_my_iou_metric_2: 0.8061\n",
      "\n",
      "Epoch 00048: val_my_iou_metric_2 did not improve from 0.80625\n",
      "Epoch 49/50\n",
      " - 76s - loss: 0.2390 - my_iou_metric_2: 0.8481 - val_loss: 0.3340 - val_my_iou_metric_2: 0.8065\n",
      "\n",
      "Epoch 00049: val_my_iou_metric_2 improved from 0.80625 to 0.80650, saving model to Unet_resnet_v5.model\n",
      "Epoch 50/50\n",
      " - 76s - loss: 0.2397 - my_iou_metric_2: 0.8483 - val_loss: 0.3296 - val_my_iou_metric_2: 0.8105\n",
      "\n",
      "Epoch 00050: val_my_iou_metric_2 improved from 0.80650 to 0.81050, saving model to Unet_resnet_v5.model\n"
     ]
    }
   ],
   "source": [
    "early_stopping = EarlyStopping(monitor='val_my_iou_metric_2', mode = 'max',patience=20, verbose=1)\n",
    "model_checkpoint = ModelCheckpoint(save_model_name,monitor='val_my_iou_metric_2', \n",
    "                                   mode = 'max', save_best_only=True, verbose=1)\n",
    "reduce_lr = ReduceLROnPlateau(monitor='val_my_iou_metric_2', mode = 'max',factor=0.5, patience=5, min_lr=0.0001, verbose=1)\n",
    "epochs = 50\n",
    "batch_size = 32\n",
    "\n",
    "history = model.fit(x_train, y_train,\n",
    "                    validation_data=[x_valid, y_valid], \n",
    "                    epochs=epochs,\n",
    "                    batch_size=batch_size,\n",
    "                    callbacks=[ model_checkpoint,reduce_lr,early_stopping], \n",
    "                    verbose=2)"
   ]
  },
  {
   "cell_type": "code",
   "execution_count": 20,
   "metadata": {
    "_uuid": "347c6567c95430f28ec51b94f42603e37a4056db"
   },
   "outputs": [
    {
     "data": {
      "text/plain": [
       "<matplotlib.legend.Legend at 0x7f4df87aa2b0>"
      ]
     },
     "execution_count": 20,
     "metadata": {},
     "output_type": "execute_result"
    },
    {
     "data": {
      "image/png": "[encoded data removed]",
      "text/plain": [
       "<Figure size 1080x360 with 2 Axes>"
      ]
     },
     "metadata": {},
     "output_type": "display_data"
    }
   ],
   "source": [
    "fig, (ax_loss, ax_score) = plt.subplots(1, 2, figsize=(15,5))\n",
    "ax_loss.plot(history.epoch, history.history[\"loss\"], label=\"Train loss\")\n",
    "ax_loss.plot(history.epoch, history.history[\"val_loss\"], label=\"Validation loss\")\n",
    "ax_loss.legend()\n",
    "ax_score.plot(history.epoch, history.history[\"my_iou_metric_2\"], label=\"Train score\")\n",
    "ax_score.plot(history.epoch, history.history[\"val_my_iou_metric_2\"], label=\"Validation score\")\n",
    "ax_score.legend()"
   ]
  },
  {
   "cell_type": "code",
   "execution_count": 21,
   "metadata": {
    "_uuid": "a081f8f61a713457c8c8f3979a78f75541875456"
   },
   "outputs": [],
   "source": [
    "model = load_model(save_model_name,custom_objects={'my_iou_metric_2': my_iou_metric_2,\n",
    "                                                   'lovasz_loss': lovasz_loss})\n",
    "\n"
   ]
  },
  {
   "cell_type": "code",
   "execution_count": 22,
   "metadata": {
    "_uuid": "f68651e1ce6ad9a461c8f1a25a1250fd489adfed"
   },
   "outputs": [],
   "source": [
    "def predict_result(model,x_test,img_size_target): # predict both orginal and reflect x\n",
    "    x_test_reflect =  np.array([np.fliplr(x) for x in x_test])\n",
    "    preds_test = model.predict(x_test).reshape(-1, img_size_target, img_size_target)\n",
    "    preds_test2_refect = model.predict(x_test_reflect).reshape(-1, img_size_target, img_size_target)\n",
    "    preds_test += np.array([ np.fliplr(x) for x in preds_test2_refect] )\n",
    "    return preds_test/2"
   ]
  },
  {
   "cell_type": "code",
   "execution_count": 23,
   "metadata": {
    "_uuid": "b7a061700364ea17735f953d6bd3c835bc3dc630"
   },
   "outputs": [],
   "source": [
    "preds_valid = predict_result(model,x_valid,img_size_target)"
   ]
  },
  {
   "cell_type": "code",
   "execution_count": 24,
   "metadata": {
    "_uuid": "5a9b1a900a8a4d031978c3b5ef2e739b5661de73"
   },
   "outputs": [],
   "source": [
    "#Score the model and do a threshold optimization by the best IoU.\n",
    "\n",
    "# src: https://www.kaggle.com/aglotero/another-iou-metric\n",
    "def iou_metric(y_true_in, y_pred_in, print_table=False):\n",
    "    labels = y_true_in\n",
    "    y_pred = y_pred_in\n",
    "\n",
    "\n",
    "    true_objects = 2\n",
    "    pred_objects = 2\n",
    "\n",
    "    #  if all zeros, original code  generate wrong  bins [-0.5 0 0.5],\n",
    "    temp1 = np.histogram2d(labels.flatten(), y_pred.flatten(), bins=([0,0.5,1], [0,0.5, 1]))\n",
    "#     temp1 = np.histogram2d(labels.flatten(), y_pred.flatten(), bins=(true_objects, pred_objects))\n",
    "    #print(temp1)\n",
    "    intersection = temp1[0]\n",
    "    #print(\"temp2 = \",temp1[1])\n",
    "    #print(intersection.shape)\n",
    "   # print(intersection)\n",
    "    # Compute areas (needed for finding the union between all objects)\n",
    "    #print(np.histogram(labels, bins = true_objects))\n",
    "    area_true = np.histogram(labels,bins=[0,0.5,1])[0]\n",
    "    #print(\"area_true = \",area_true)\n",
    "    area_pred = np.histogram(y_pred, bins=[0,0.5,1])[0]\n",
    "    area_true = np.expand_dims(area_true, -1)\n",
    "    area_pred = np.expand_dims(area_pred, 0)\n",
    "\n",
    "    # Compute union\n",
    "    union = area_true + area_pred - intersection\n",
    "  \n",
    "    # Exclude background from the analysis\n",
    "    intersection = intersection[1:,1:]\n",
    "    intersection[intersection == 0] = 1e-9\n",
    "    \n",
    "    union = union[1:,1:]\n",
    "    union[union == 0] = 1e-9\n",
    "\n",
    "    # Compute the intersection over union\n",
    "    iou = intersection / union\n",
    "\n",
    "    # Precision helper function\n",
    "    def precision_at(threshold, iou):\n",
    "        matches = iou > threshold\n",
    "        true_positives = np.sum(matches, axis=1) == 1   # Correct objects\n",
    "        false_positives = np.sum(matches, axis=0) == 0  # Missed objects\n",
    "        false_negatives = np.sum(matches, axis=1) == 0  # Extra objects\n",
    "        tp, fp, fn = np.sum(true_positives), np.sum(false_positives), np.sum(false_negatives)\n",
    "        return tp, fp, fn\n",
    "\n",
    "    # Loop over IoU thresholds\n",
    "    prec = []\n",
    "    if print_table:\n",
    "        print(\"Thresh\\tTP\\tFP\\tFN\\tPrec.\")\n",
    "    for t in np.arange(0.5, 1.0, 0.05):\n",
    "        tp, fp, fn = precision_at(t, iou)\n",
    "        if (tp + fp + fn) > 0:\n",
    "            p = tp / (tp + fp + fn)\n",
    "        else:\n",
    "            p = 0\n",
    "        if print_table:\n",
    "            print(\"{:1.3f}\\t{}\\t{}\\t{}\\t{:1.3f}\".format(t, tp, fp, fn, p))\n",
    "        prec.append(p)\n",
    "    \n",
    "    if print_table:\n",
    "        print(\"AP\\t-\\t-\\t-\\t{:1.3f}\".format(np.mean(prec)))\n",
    "    return np.mean(prec)\n",
    "\n",
    "def iou_metric_batch(y_true_in, y_pred_in):\n",
    "    batch_size = y_true_in.shape[0]\n",
    "    metric = []\n",
    "    for batch in range(batch_size):\n",
    "        value = iou_metric(y_true_in[batch], y_pred_in[batch])\n",
    "        metric.append(value)\n",
    "    return np.mean(metric)\n",
    "\n"
   ]
  },
  {
   "cell_type": "code",
   "execution_count": 25,
   "metadata": {
    "_uuid": "91b1be75d7e8ff74db956c8c846c47ed7576ecb2"
   },
   "outputs": [
    {
     "data": {
      "application/vnd.jupyter.widget-view+json": {
       "model_id": "3e8cd632bf734944bd7512ccb02dab24",
       "version_major": 2,
       "version_minor": 0
      },
      "text/plain": [
       "HBox(children=(IntProgress(value=0, max=31), HTML(value='')))"
      ]
     },
     "metadata": {},
     "output_type": "display_data"
    },
    {
     "name": "stdout",
     "output_type": "stream",
     "text": [
      "\n",
      "[ 0.7985    0.8015    0.801625  0.803125  0.80525   0.805375  0.805125\n",
      "  0.805125  0.805875  0.806875  0.806625  0.806375  0.806375  0.80625\n",
      "  0.806125  0.8065    0.806125  0.805125  0.804875  0.804625  0.804125\n",
      "  0.804875  0.804375  0.8045    0.805625  0.8065    0.806375  0.8055\n",
      "  0.804625  0.803875  0.802375]\n"
     ]
    }
   ],
   "source": [
    "## Scoring for last model, choose threshold by validation data \n",
    "thresholds_ori = np.linspace(0.3, 0.7, 31)\n",
    "# Reverse sigmoid function: Use code below because the  sigmoid activation was removed\n",
    "thresholds = np.log(thresholds_ori/(1-thresholds_ori)) \n",
    "\n",
    "# ious = np.array([get_iou_vector(y_valid, preds_valid > threshold) for threshold in tqdm_notebook(thresholds)])\n",
    "# print(ious)\n",
    "ious = np.array([iou_metric_batch(y_valid, preds_valid > threshold) for threshold in tqdm_notebook(thresholds)])\n",
    "print(ious)"
   ]
  },
  {
   "cell_type": "code",
   "execution_count": 26,
   "metadata": {
    "_uuid": "1beb285910aa6532d7a69a70afa6a9671e6d347d"
   },
   "outputs": [
    {
     "data": {
      "text/plain": [
       "<matplotlib.legend.Legend at 0x7f4e04e7b208>"
      ]
     },
     "execution_count": 26,
     "metadata": {},
     "output_type": "execute_result"
    },
    {
     "data": {
      "image/png": "[encoded data removed]",
      "text/plain": [
       "<Figure size 432x288 with 1 Axes>"
      ]
     },
     "metadata": {},
     "output_type": "display_data"
    }
   ],
   "source": [
    "# instead of using default 0 as threshold, use validation data to find the best threshold.\n",
    "threshold_best_index = np.argmax(ious) \n",
    "iou_best = ious[threshold_best_index]\n",
    "threshold_best = thresholds[threshold_best_index]\n",
    "\n",
    "plt.plot(thresholds, ious)\n",
    "plt.plot(threshold_best, iou_best, \"xr\", label=\"Best threshold\")\n",
    "plt.xlabel(\"Threshold\")\n",
    "plt.ylabel(\"IoU\")\n",
    "plt.title(\"Threshold vs IoU ({}, {})\".format(threshold_best, iou_best))\n",
    "plt.legend()"
   ]
  },
  {
   "cell_type": "code",
   "execution_count": 27,
   "metadata": {
    "_uuid": "2c4852ecf2c504a4ce30e975f5e36b534c2111e6"
   },
   "outputs": [],
   "source": [
    "\"\"\"\n",
    "used for converting the decoded image to rle mask\n",
    "Fast compared to previous one\n",
    "\"\"\"\n",
    "def rle_encode(im):\n",
    "    '''\n",
    "    im: numpy array, 1 - mask, 0 - background\n",
    "    Returns run length as string formated\n",
    "    '''\n",
    "    pixels = im.flatten(order = 'F')\n",
    "    pixels = np.concatenate([[0], pixels, [0]])\n",
    "    runs = np.where(pixels[1:] != pixels[:-1])[0] + 1\n",
    "    runs[1::2] -= runs[::2]\n",
    "    return ' '.join(str(x) for x in runs)"
   ]
  },
  {
   "cell_type": "code",
   "execution_count": 28,
   "metadata": {
    "_uuid": "21bb50645b1c67d907e42c262d92f975668fccac"
   },
   "outputs": [
    {
     "data": {
      "application/vnd.jupyter.widget-view+json": {
       "model_id": "12f3a716a3d0423ab8f977a6533cf120",
       "version_major": 2,
       "version_minor": 0
      },
      "text/plain": [
       "HBox(children=(IntProgress(value=0, max=18000), HTML(value='')))"
      ]
     },
     "metadata": {},
     "output_type": "display_data"
    },
    {
     "name": "stdout",
     "output_type": "stream",
     "text": [
      "\n"
     ]
    }
   ],
   "source": [
    "x_test = np.array([(np.array(load_img(\"../data/test/{}.png\".format(idx), grayscale = True))) / 255 for idx in tqdm_notebook(test_df.index)]).reshape(-1, img_size_target, img_size_target, 1)\n",
    "\n"
   ]
  },
  {
   "cell_type": "code",
   "execution_count": 29,
   "metadata": {
    "_uuid": "ce8185fa64aafbe42ebde98aba984b4f22b0050e"
   },
   "outputs": [],
   "source": [
    "preds_test = predict_result(model,x_test,img_size_target)"
   ]
  },
  {
   "cell_type": "code",
   "execution_count": 30,
   "metadata": {
    "_uuid": "7ccac81a492b9caaff4a25401165e145cf2c6f8e"
   },
   "outputs": [
    {
     "data": {
      "application/vnd.jupyter.widget-view+json": {
       "model_id": "9fd6d8ebba8d431fb992a93fec7bfd25",
       "version_major": 2,
       "version_minor": 0
      },
      "text/plain": [
       "HBox(children=(IntProgress(value=0, max=18000), HTML(value='')))"
      ]
     },
     "metadata": {},
     "output_type": "display_data"
    },
    {
     "name": "stdout",
     "output_type": "stream",
     "text": [
      "\n",
      "Usedtime = 7.605204820632935 s\n"
     ]
    }
   ],
   "source": [
    "\n",
    "t1 = time.time()\n",
    "pred_dict = {idx: rle_encode(np.round(downsample(preds_test[i]) > threshold_best)) for i, idx in enumerate(tqdm_notebook(test_df.index.values))}\n",
    "t2 = time.time()\n",
    "\n",
    "print(f\"Usedtime = {t2-t1} s\")"
   ]
  },
  {
   "cell_type": "code",
   "execution_count": 31,
   "metadata": {
    "_uuid": "770d7d596656f4f1ad17a6063ad662ac80e11b24"
   },
   "outputs": [],
   "source": [
    "sub = pd.DataFrame.from_dict(pred_dict,orient='index')\n",
    "sub.index.names = ['id']\n",
    "sub.columns = ['rle_mask']\n",
    "sub.to_csv(submission_file)"
   ]
  },
  {
   "cell_type": "code",
   "execution_count": 32,
   "metadata": {
    "_uuid": "c89c406884ee54bee2c57aff51b116c157553ae9"
   },
   "outputs": [
    {
     "name": "stdout",
     "output_type": "stream",
     "text": [
      "Kernel run time = 1.713845756318834 hours\n"
     ]
    }
   ],
   "source": [
    "t_finish = time.time()\n",
    "print(f\"Kernel run time = {(t_finish-t_start)/3600} hours\")"
   ]
  },
  {
   "cell_type": "code",
   "execution_count": null,
   "metadata": {
    "_uuid": "a3009187c164635fbe163bd8ce406c2e309b1e5f"
   },
   "outputs": [],
   "source": []
  }
 ],
 "metadata": {
  "kernelspec": {
   "display_name": "Python 3",
   "language": "python",
   "name": "python3"
  },
  "language_info": {
   "codemirror_mode": {
    "name": "ipython",
    "version": 3
   },
   "file_extension": ".py",
   "mimetype": "text/x-python",
   "name": "python",
   "nbconvert_exporter": "python",
   "pygments_lexer": "ipython3",
   "version": "3.6.5"
  }
 },
 "nbformat": 4,
 "nbformat_minor": 1
}
