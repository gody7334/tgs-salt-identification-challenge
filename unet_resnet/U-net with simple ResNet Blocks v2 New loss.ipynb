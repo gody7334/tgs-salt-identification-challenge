{
 "cells": [
  {
   "cell_type": "markdown",
   "metadata": {
    "_uuid": "c8fc6c3e84f282d0e6f664caf9848297b6c62a16"
   },
   "source": [
    "### U-net with simple Resnet Blocks v2, can get 0.80+\n",
    "* Original version : \n",
    "  https://www.kaggle.com/shaojiaxin/u-net-with-simple-resnet-blocks\n",
    "        \n",
    "        \n",
    "#### update log\n",
    "1.   Cancel last dropout (seems better)\n",
    "2.  modify convolution_block, to be more consistant with the standard resent model. \n",
    "      * https://arxiv.org/abs/1603.05027\n",
    "3. Use faster  IOU metric score code,\n",
    "      * https://www.kaggle.com/donchuk/fast-implementation-of-scoring-metric\n",
    "4. Use  binary_crossentropy loss and then Lovász-hinge loss (very slow!)\n",
    "     * Lovász-hinge loss: https://github.com/bermanmaxim/LovaszSoftmax\n",
    "     \n",
    "Limit the max epochs number to make the kernel finish in the limit of 6 hours, better score can be achived at more epochs "
   ]
  },
  {
   "cell_type": "code",
   "execution_count": 1,
   "metadata": {
    "_cell_guid": "b1076dfc-b9ad-4769-8c92-a6c4dae69d19",
    "_uuid": "8f2839f25d086af736a60e9eeb907d3b93b6e0e5"
   },
   "outputs": [
    {
     "name": "stderr",
     "output_type": "stream",
     "text": [
      "Using TensorFlow backend.\n"
     ]
    }
   ],
   "source": [
    "import os\n",
    "import sys\n",
    "import random\n",
    "\n",
    "import pandas as pd\n",
    "import numpy as np\n",
    "import matplotlib.pyplot as plt\n",
    "plt.style.use('seaborn-white')\n",
    "import seaborn as sns\n",
    "sns.set_style(\"white\")\n",
    "\n",
    "%matplotlib inline\n",
    "\n",
    "# import cv2\n",
    "from sklearn.model_selection import train_test_split\n",
    "\n",
    "from tqdm import tqdm_notebook #, tnrange\n",
    "#from itertools import chain\n",
    "from skimage.io import imread, imshow #, concatenate_images\n",
    "from skimage.transform import resize\n",
    "from skimage.morphology import label\n",
    "\n",
    "from keras.models import Model, load_model, save_model\n",
    "from keras.layers import Input,Dropout,BatchNormalization,Activation,Add\n",
    "from keras.layers.core import Lambda\n",
    "from keras.layers.convolutional import Conv2D, Conv2DTranspose\n",
    "from keras.layers.pooling import MaxPooling2D\n",
    "from keras.layers.merge import concatenate\n",
    "from keras.callbacks import EarlyStopping, ModelCheckpoint, ReduceLROnPlateau\n",
    "from keras import backend as K\n",
    "from keras import optimizers\n",
    "\n",
    "import tensorflow as tf\n",
    "\n",
    "from keras.preprocessing.image import array_to_img, img_to_array, load_img#,save_img\n",
    "\n",
    "import time\n",
    "t_start = time.time()"
   ]
  },
  {
   "cell_type": "code",
   "execution_count": 2,
   "metadata": {
    "_uuid": "2c36d16775556c3e358edefab5710dc1541ccfc4"
   },
   "outputs": [
    {
     "name": "stdout",
     "output_type": "stream",
     "text": [
      "Unet_resnet_v5.model\n",
      "Unet_resnet_v5.csv\n"
     ]
    }
   ],
   "source": [
    "version = 5\n",
    "basic_name = f'Unet_resnet_v{version}'\n",
    "save_model_name = basic_name + '.model'\n",
    "submission_file = basic_name + '.csv'\n",
    "\n",
    "print(save_model_name)\n",
    "print(submission_file)"
   ]
  },
  {
   "cell_type": "code",
   "execution_count": 3,
   "metadata": {
    "_uuid": "63c469280793719bf311d51e6ba2cdaea157d175"
   },
   "outputs": [],
   "source": [
    "img_size_ori = 101\n",
    "img_size_target = 101\n",
    "\n",
    "def upsample(img):# not used\n",
    "    if img_size_ori == img_size_target:\n",
    "        return img\n",
    "    return resize(img, (img_size_target, img_size_target), mode='constant', preserve_range=True)\n",
    "    \n",
    "def downsample(img):# not used\n",
    "    if img_size_ori == img_size_target:\n",
    "        return img\n",
    "    return resize(img, (img_size_ori, img_size_ori), mode='constant', preserve_range=True)"
   ]
  },
  {
   "cell_type": "code",
   "execution_count": 4,
   "metadata": {
    "_uuid": "1a64babef03b9a0dbc94387a1dad54971c3e028d"
   },
   "outputs": [
    {
     "data": {
      "text/plain": [
       "4000"
      ]
     },
     "execution_count": 4,
     "metadata": {},
     "output_type": "execute_result"
    }
   ],
   "source": [
    "# Loading of training/testing ids and depths\n",
    "train_df = pd.read_csv(\"../data/train.csv\", index_col=\"id\", usecols=[0])\n",
    "depths_df = pd.read_csv(\"../data/depths.csv\", index_col=\"id\")\n",
    "train_df = train_df.join(depths_df)\n",
    "test_df = depths_df[~depths_df.index.isin(train_df.index)]\n",
    "\n",
    "len(train_df)"
   ]
  },
  {
   "cell_type": "code",
   "execution_count": 5,
   "metadata": {
    "_uuid": "80c3768717007fb5f087d3e01619f1a9f9a3beac"
   },
   "outputs": [
    {
     "data": {
      "application/vnd.jupyter.widget-view+json": {
       "model_id": "c7c3646563484bbfa3d5c5fc21266bed",
       "version_major": 2,
       "version_minor": 0
      },
      "text/plain": [
       "HBox(children=(IntProgress(value=0, max=4000), HTML(value='')))"
      ]
     },
     "metadata": {},
     "output_type": "display_data"
    },
    {
     "name": "stdout",
     "output_type": "stream",
     "text": [
      "\n"
     ]
    }
   ],
   "source": [
    "train_df[\"images\"] = [np.array(load_img(\"../data/train/{}.png\".format(idx), grayscale=True)) / 255 for idx in tqdm_notebook(train_df.index)]"
   ]
  },
  {
   "cell_type": "code",
   "execution_count": 6,
   "metadata": {
    "_uuid": "9f55103f7daad6f03ec874c643077fe686c31bee"
   },
   "outputs": [
    {
     "data": {
      "application/vnd.jupyter.widget-view+json": {
       "model_id": "fd60794b282f4956ac291cb5ff2abb02",
       "version_major": 2,
       "version_minor": 0
      },
      "text/plain": [
       "HBox(children=(IntProgress(value=0, max=4000), HTML(value='')))"
      ]
     },
     "metadata": {},
     "output_type": "display_data"
    },
    {
     "name": "stdout",
     "output_type": "stream",
     "text": [
      "\n"
     ]
    }
   ],
   "source": [
    "train_df[\"masks\"] = [np.array(load_img(\"../data/masks/{}.png\".format(idx), grayscale=True)) / 255 for idx in tqdm_notebook(train_df.index)]"
   ]
  },
  {
   "cell_type": "code",
   "execution_count": 7,
   "metadata": {
    "_uuid": "010066dd50ef4fdfa7dabe2c946fd7491f9556fd"
   },
   "outputs": [],
   "source": [
    "train_df[\"coverage\"] = train_df.masks.map(np.sum) / pow(img_size_ori, 2)\n",
    "\n",
    "def cov_to_class(val):    \n",
    "    for i in range(0, 11):\n",
    "        if val * 10 <= i :\n",
    "            return i\n",
    "        \n",
    "train_df[\"coverage_class\"] = train_df.coverage.map(cov_to_class)\n"
   ]
  },
  {
   "cell_type": "code",
   "execution_count": 8,
   "metadata": {
    "_uuid": "2ad5ac1576277fc54d768933c36efd1f9ff01acd"
   },
   "outputs": [
    {
     "name": "stderr",
     "output_type": "stream",
     "text": [
      "/opt/conda/lib/python3.6/site-packages/matplotlib/axes/_axes.py:6462: UserWarning: The 'normed' kwarg is deprecated, and has been replaced by the 'density' kwarg.\n",
      "  warnings.warn(\"The 'normed' kwarg is deprecated, and has been \"\n",
      "/opt/conda/lib/python3.6/site-packages/matplotlib/axes/_axes.py:6462: UserWarning: The 'normed' kwarg is deprecated, and has been replaced by the 'density' kwarg.\n",
      "  warnings.warn(\"The 'normed' kwarg is deprecated, and has been \"\n"
     ]
    },
    {
     "data": {
      "text/plain": [
       "Text(0.5,0,'Coverage class')"
      ]
     },
     "execution_count": 8,
     "metadata": {},
     "output_type": "execute_result"
    },
    {
     "data": {
      "image/png": "[encoded data removed]",
      "text/plain": [
       "<Figure size 1080x360 with 2 Axes>"
      ]
     },
     "metadata": {},
     "output_type": "display_data"
    }
   ],
   "source": [
    "fig, axs = plt.subplots(1, 2, figsize=(15,5))\n",
    "sns.distplot(train_df.coverage, kde=False, ax=axs[0])\n",
    "sns.distplot(train_df.coverage_class, bins=10, kde=False, ax=axs[1])\n",
    "plt.suptitle(\"Salt coverage\")\n",
    "axs[0].set_xlabel(\"Coverage\")\n",
    "axs[1].set_xlabel(\"Coverage class\")"
   ]
  },
  {
   "cell_type": "code",
   "execution_count": 9,
   "metadata": {
    "_uuid": "9f34c4263989a3d95af1e5922c1b7d2126655610"
   },
   "outputs": [
    {
     "name": "stderr",
     "output_type": "stream",
     "text": [
      "/opt/conda/lib/python3.6/site-packages/matplotlib/axes/_axes.py:6462: UserWarning: The 'normed' kwarg is deprecated, and has been replaced by the 'density' kwarg.\n",
      "  warnings.warn(\"The 'normed' kwarg is deprecated, and has been \"\n",
      "/opt/conda/lib/python3.6/site-packages/matplotlib/axes/_axes.py:6462: UserWarning: The 'normed' kwarg is deprecated, and has been replaced by the 'density' kwarg.\n",
      "  warnings.warn(\"The 'normed' kwarg is deprecated, and has been \"\n"
     ]
    },
    {
     "data": {
      "text/plain": [
       "Text(0.5,1,'Depth distribution')"
      ]
     },
     "execution_count": 9,
     "metadata": {},
     "output_type": "execute_result"
    },
    {
     "data": {
      "image/png": "[encoded data removed]",
      "text/plain": [
       "<Figure size 432x288 with 1 Axes>"
      ]
     },
     "metadata": {},
     "output_type": "display_data"
    }
   ],
   "source": [
    "#Plotting the depth distributions¶\n",
    "\n",
    "sns.distplot(train_df.z, label=\"Train\")\n",
    "sns.distplot(test_df.z, label=\"Test\")\n",
    "plt.legend()\n",
    "plt.title(\"Depth distribution\")"
   ]
  },
  {
   "cell_type": "code",
   "execution_count": 10,
   "metadata": {
    "_uuid": "51981795f0dd6b8ca7abe4db367f48313b63811e"
   },
   "outputs": [],
   "source": [
    "# Create train/validation split stratified by salt coverage\n",
    "\n",
    "ids_train, ids_valid, x_train, x_valid, y_train, y_valid, cov_train, cov_test, depth_train, depth_test = train_test_split(\n",
    "    train_df.index.values,\n",
    "    np.array(train_df.images.map(upsample).tolist()).reshape(-1, img_size_target, img_size_target, 1), \n",
    "    np.array(train_df.masks.map(upsample).tolist()).reshape(-1, img_size_target, img_size_target, 1), \n",
    "    train_df.coverage.values,\n",
    "    train_df.z.values,\n",
    "    test_size=0.2, stratify=train_df.coverage_class, random_state= 1234)"
   ]
  },
  {
   "cell_type": "code",
   "execution_count": 11,
   "metadata": {
    "_uuid": "7fb577cdf27f365d4a912728c2a7654d0e60fac8"
   },
   "outputs": [],
   "source": [
    "def BatchActivate(x):\n",
    "    x = BatchNormalization()(x)\n",
    "    x = Activation('relu')(x)\n",
    "    return x\n",
    "\n",
    "def convolution_block(x, filters, size, strides=(1,1), padding='same', activation=True):\n",
    "    x = Conv2D(filters, size, strides=strides, padding=padding)(x)\n",
    "    if activation == True:\n",
    "        x = BatchActivate(x)\n",
    "    return x\n",
    "\n",
    "def residual_block(blockInput, num_filters=16, batch_activate = False):\n",
    "    x = BatchActivate(blockInput)\n",
    "    x = convolution_block(x, num_filters, (3,3) )\n",
    "    x = convolution_block(x, num_filters, (3,3), activation=False)\n",
    "    x = Add()([x, blockInput])\n",
    "    if batch_activate:\n",
    "        x = BatchActivate(x)\n",
    "    return x\n"
   ]
  },
  {
   "cell_type": "code",
   "execution_count": 12,
   "metadata": {
    "_uuid": "02967d71ee7f936254ab54acf2aa7c2e038a2b21"
   },
   "outputs": [],
   "source": [
    "# Build model\n",
    "def build_model(input_layer, start_neurons, DropoutRatio = 0.5):\n",
    "    # 101 -> 50\n",
    "    conv1 = Conv2D(start_neurons * 1, (3, 3), activation=None, padding=\"same\")(input_layer)\n",
    "    conv1 = residual_block(conv1,start_neurons * 1)\n",
    "    conv1 = residual_block(conv1,start_neurons * 1, True)\n",
    "    pool1 = MaxPooling2D((2, 2))(conv1)\n",
    "    pool1 = Dropout(DropoutRatio/2)(pool1)\n",
    "\n",
    "    # 50 -> 25\n",
    "    conv2 = Conv2D(start_neurons * 2, (3, 3), activation=None, padding=\"same\")(pool1)\n",
    "    conv2 = residual_block(conv2,start_neurons * 2)\n",
    "    conv2 = residual_block(conv2,start_neurons * 2, True)\n",
    "    pool2 = MaxPooling2D((2, 2))(conv2)\n",
    "    pool2 = Dropout(DropoutRatio)(pool2)\n",
    "\n",
    "    # 25 -> 12\n",
    "    conv3 = Conv2D(start_neurons * 4, (3, 3), activation=None, padding=\"same\")(pool2)\n",
    "    conv3 = residual_block(conv3,start_neurons * 4)\n",
    "    conv3 = residual_block(conv3,start_neurons * 4, True)\n",
    "    pool3 = MaxPooling2D((2, 2))(conv3)\n",
    "    pool3 = Dropout(DropoutRatio)(pool3)\n",
    "\n",
    "    # 12 -> 6\n",
    "    conv4 = Conv2D(start_neurons * 8, (3, 3), activation=None, padding=\"same\")(pool3)\n",
    "    conv4 = residual_block(conv4,start_neurons * 8)\n",
    "    conv4 = residual_block(conv4,start_neurons * 8, True)\n",
    "    pool4 = MaxPooling2D((2, 2))(conv4)\n",
    "    pool4 = Dropout(DropoutRatio)(pool4)\n",
    "\n",
    "    # Middle\n",
    "    convm = Conv2D(start_neurons * 16, (3, 3), activation=None, padding=\"same\")(pool4)\n",
    "    convm = residual_block(convm,start_neurons * 16)\n",
    "    convm = residual_block(convm,start_neurons * 16, True)\n",
    "    \n",
    "    # 6 -> 12\n",
    "    deconv4 = Conv2DTranspose(start_neurons * 8, (3, 3), strides=(2, 2), padding=\"same\")(convm)\n",
    "    uconv4 = concatenate([deconv4, conv4])\n",
    "    uconv4 = Dropout(DropoutRatio)(uconv4)\n",
    "    \n",
    "    uconv4 = Conv2D(start_neurons * 8, (3, 3), activation=None, padding=\"same\")(uconv4)\n",
    "    uconv4 = residual_block(uconv4,start_neurons * 8)\n",
    "    uconv4 = residual_block(uconv4,start_neurons * 8, True)\n",
    "    \n",
    "    # 12 -> 25\n",
    "    #deconv3 = Conv2DTranspose(start_neurons * 4, (3, 3), strides=(2, 2), padding=\"same\")(uconv4)\n",
    "    deconv3 = Conv2DTranspose(start_neurons * 4, (3, 3), strides=(2, 2), padding=\"valid\")(uconv4)\n",
    "    uconv3 = concatenate([deconv3, conv3])    \n",
    "    uconv3 = Dropout(DropoutRatio)(uconv3)\n",
    "    \n",
    "    uconv3 = Conv2D(start_neurons * 4, (3, 3), activation=None, padding=\"same\")(uconv3)\n",
    "    uconv3 = residual_block(uconv3,start_neurons * 4)\n",
    "    uconv3 = residual_block(uconv3,start_neurons * 4, True)\n",
    "\n",
    "    # 25 -> 50\n",
    "    deconv2 = Conv2DTranspose(start_neurons * 2, (3, 3), strides=(2, 2), padding=\"same\")(uconv3)\n",
    "    uconv2 = concatenate([deconv2, conv2])\n",
    "    uconv2 = Dropout(DropoutRatio)(uconv2)\n",
    "        \n",
    "    uconv2 = Conv2D(start_neurons * 2, (3, 3), activation=None, padding=\"same\")(uconv2)\n",
    "    uconv2 = residual_block(uconv2,start_neurons * 2)\n",
    "    uconv2 = residual_block(uconv2,start_neurons * 2, True)\n",
    "    \n",
    "    # 50 -> 101\n",
    "    #deconv1 = Conv2DTranspose(start_neurons * 1, (3, 3), strides=(2, 2), padding=\"same\")(uconv2)\n",
    "    deconv1 = Conv2DTranspose(start_neurons * 1, (3, 3), strides=(2, 2), padding=\"valid\")(uconv2)\n",
    "    uconv1 = concatenate([deconv1, conv1])\n",
    "    uconv1 = Dropout(DropoutRatio)(uconv1)\n",
    "    \n",
    "    uconv1 = Conv2D(start_neurons * 1, (3, 3), activation=None, padding=\"same\")(uconv1)\n",
    "    uconv1 = residual_block(uconv1,start_neurons * 1)\n",
    "    uconv1 = residual_block(uconv1,start_neurons * 1, True)\n",
    "    \n",
    "    #uconv1 = Dropout(DropoutRatio/2)(uconv1)\n",
    "    #output_layer = Conv2D(1, (1,1), padding=\"same\", activation=\"sigmoid\")(uconv1)\n",
    "    output_layer_noActi = Conv2D(1, (1,1), padding=\"same\", activation=None)(uconv1)\n",
    "    output_layer =  Activation('sigmoid')(output_layer_noActi)\n",
    "    \n",
    "    return output_layer"
   ]
  },
  {
   "cell_type": "code",
   "execution_count": 13,
   "metadata": {
    "_uuid": "2bd5e479d3aa211bcb5fe32ce9c4d71cd012eefa"
   },
   "outputs": [],
   "source": [
    "def get_iou_vector(A, B):\n",
    "    batch_size = A.shape[0]\n",
    "    metric = []\n",
    "    for batch in range(batch_size):\n",
    "        t, p = A[batch]>0, B[batch]>0\n",
    "#         if np.count_nonzero(t) == 0 and np.count_nonzero(p) > 0:\n",
    "#             metric.append(0)\n",
    "#             continue\n",
    "#         if np.count_nonzero(t) >= 1 and np.count_nonzero(p) == 0:\n",
    "#             metric.append(0)\n",
    "#             continue\n",
    "#         if np.count_nonzero(t) == 0 and np.count_nonzero(p) == 0:\n",
    "#             metric.append(1)\n",
    "#             continue\n",
    "        \n",
    "        intersection = np.logical_and(t, p)\n",
    "        union = np.logical_or(t, p)\n",
    "        iou = (np.sum(intersection > 0) + 1e-10 )/ (np.sum(union > 0) + 1e-10)\n",
    "        thresholds = np.arange(0.5, 1, 0.05)\n",
    "        s = []\n",
    "        for thresh in thresholds:\n",
    "            s.append(iou > thresh)\n",
    "        metric.append(np.mean(s))\n",
    "\n",
    "    return np.mean(metric)\n",
    "\n",
    "def my_iou_metric(label, pred):\n",
    "    return tf.py_func(get_iou_vector, [label, pred>0.5], tf.float64)\n",
    "\n",
    "def my_iou_metric_2(label, pred):\n",
    "    return tf.py_func(get_iou_vector, [label, pred >0], tf.float64)"
   ]
  },
  {
   "cell_type": "code",
   "execution_count": 14,
   "metadata": {
    "_uuid": "e25caa2102813289cbd74796b612fbbfaaff8154"
   },
   "outputs": [],
   "source": [
    "# code download from: https://github.com/bermanmaxim/LovaszSoftmax\n",
    "def lovasz_grad(gt_sorted):\n",
    "    \"\"\"\n",
    "    Computes gradient of the Lovasz extension w.r.t sorted errors\n",
    "    See Alg. 1 in paper\n",
    "    \"\"\"\n",
    "    gts = tf.reduce_sum(gt_sorted)\n",
    "    intersection = gts - tf.cumsum(gt_sorted)\n",
    "    union = gts + tf.cumsum(1. - gt_sorted)\n",
    "    jaccard = 1. - intersection / union\n",
    "    jaccard = tf.concat((jaccard[0:1], jaccard[1:] - jaccard[:-1]), 0)\n",
    "    return jaccard\n",
    "\n",
    "\n",
    "# --------------------------- BINARY LOSSES ---------------------------\n",
    "\n",
    "def lovasz_hinge(logits, labels, per_image=True, ignore=None):\n",
    "    \"\"\"\n",
    "    Binary Lovasz hinge loss\n",
    "      logits: [B, H, W] Variable, logits at each pixel (between -\\infty and +\\infty)\n",
    "      labels: [B, H, W] Tensor, binary ground truth masks (0 or 1)\n",
    "      per_image: compute the loss per image instead of per batch\n",
    "      ignore: void class id\n",
    "    \"\"\"\n",
    "    if per_image:\n",
    "        def treat_image(log_lab):\n",
    "            log, lab = log_lab\n",
    "            log, lab = tf.expand_dims(log, 0), tf.expand_dims(lab, 0)\n",
    "            log, lab = flatten_binary_scores(log, lab, ignore)\n",
    "            return lovasz_hinge_flat(log, lab)\n",
    "        losses = tf.map_fn(treat_image, (logits, labels), dtype=tf.float32)\n",
    "        loss = tf.reduce_mean(losses)\n",
    "    else:\n",
    "        loss = lovasz_hinge_flat(*flatten_binary_scores(logits, labels, ignore))\n",
    "    return loss\n",
    "\n",
    "\n",
    "def lovasz_hinge_flat(logits, labels):\n",
    "    \"\"\"\n",
    "    Binary Lovasz hinge loss\n",
    "      logits: [P] Variable, logits at each prediction (between -\\infty and +\\infty)\n",
    "      labels: [P] Tensor, binary ground truth labels (0 or 1)\n",
    "      ignore: label to ignore\n",
    "    \"\"\"\n",
    "\n",
    "    def compute_loss():\n",
    "        labelsf = tf.cast(labels, logits.dtype)\n",
    "        signs = 2. * labelsf - 1.\n",
    "        errors = 1. - logits * tf.stop_gradient(signs)\n",
    "        errors_sorted, perm = tf.nn.top_k(errors, k=tf.shape(errors)[0], name=\"descending_sort\")\n",
    "        gt_sorted = tf.gather(labelsf, perm)\n",
    "        grad = lovasz_grad(gt_sorted)\n",
    "        loss = tf.tensordot(tf.nn.relu(errors_sorted), tf.stop_gradient(grad), 1, name=\"loss_non_void\")\n",
    "        return loss\n",
    "\n",
    "    # deal with the void prediction case (only void pixels)\n",
    "    loss = tf.cond(tf.equal(tf.shape(logits)[0], 0),\n",
    "                   lambda: tf.reduce_sum(logits) * 0.,\n",
    "                   compute_loss,\n",
    "                   strict=True,\n",
    "                   name=\"loss\"\n",
    "                   )\n",
    "    return loss\n",
    "\n",
    "\n",
    "def flatten_binary_scores(scores, labels, ignore=None):\n",
    "    \"\"\"\n",
    "    Flattens predictions in the batch (binary case)\n",
    "    Remove labels equal to 'ignore'\n",
    "    \"\"\"\n",
    "    scores = tf.reshape(scores, (-1,))\n",
    "    labels = tf.reshape(labels, (-1,))\n",
    "    if ignore is None:\n",
    "        return scores, labels\n",
    "    valid = tf.not_equal(labels, ignore)\n",
    "    vscores = tf.boolean_mask(scores, valid, name='valid_scores')\n",
    "    vlabels = tf.boolean_mask(labels, valid, name='valid_labels')\n",
    "    return vscores, vlabels\n",
    "\n",
    "def lovasz_loss(y_true, y_pred):\n",
    "    y_true, y_pred = K.cast(K.squeeze(y_true, -1), 'int32'), K.cast(K.squeeze(y_pred, -1), 'float32')\n",
    "    #logits = K.log(y_pred / (1. - y_pred))\n",
    "    logits = y_pred #Jiaxin\n",
    "    loss = lovasz_hinge(logits, y_true, per_image = True, ignore = None)\n",
    "    return loss"
   ]
  },
  {
   "cell_type": "code",
   "execution_count": 15,
   "metadata": {
    "_uuid": "072ab621d38cc93d26998f391357cb6efc791600"
   },
   "outputs": [
    {
     "name": "stdout",
     "output_type": "stream",
     "text": [
      "(6400, 101, 101, 1)\n",
      "(800, 101, 101, 1)\n"
     ]
    }
   ],
   "source": [
    "#Data augmentation\n",
    "x_train = np.append(x_train, [np.fliplr(x) for x in x_train], axis=0)\n",
    "y_train = np.append(y_train, [np.fliplr(x) for x in y_train], axis=0)\n",
    "print(x_train.shape)\n",
    "print(y_valid.shape)"
   ]
  },
  {
   "cell_type": "code",
   "execution_count": 35,
   "metadata": {
    "_uuid": "30622932f68888e895a9b8cac91810a1bb3c5e75"
   },
   "outputs": [],
   "source": [
    "# model\n",
    "input_layer = Input((img_size_target, img_size_target, 1))\n",
    "output_layer = build_model(input_layer, 16,0.5)\n",
    "\n",
    "model1 = Model(input_layer, output_layer)\n",
    "\n",
    "c = optimizers.adam(lr = 0.01)\n",
    "model1.compile(loss=\"binary_crossentropy\", optimizer=c, metrics=[my_iou_metric])\n",
    "\n",
    "#model1.summary()"
   ]
  },
  {
   "cell_type": "code",
   "execution_count": 36,
   "metadata": {
    "_uuid": "41699081be465c14e193ffad4fd00bd56840f156",
    "scrolled": true
   },
   "outputs": [
    {
     "name": "stdout",
     "output_type": "stream",
     "text": [
      "Train on 12800 samples, validate on 800 samples\n",
      "Epoch 1/10\n",
      " - 74s - loss: 0.3516 - my_iou_metric: 0.4526 - val_loss: 0.7365 - val_my_iou_metric: 0.2100\n",
      "\n",
      "Epoch 00001: my_iou_metric improved from -inf to 0.45265, saving model to Unet_resnet_v5.model\n",
      "Epoch 2/10\n",
      " - 59s - loss: 0.2692 - my_iou_metric: 0.5628 - val_loss: 0.2850 - val_my_iou_metric: 0.5669\n",
      "\n",
      "Epoch 00002: my_iou_metric improved from 0.45265 to 0.56281, saving model to Unet_resnet_v5.model\n",
      "Epoch 3/10\n",
      " - 59s - loss: 0.2444 - my_iou_metric: 0.5775 - val_loss: 0.3369 - val_my_iou_metric: 0.4194\n",
      "\n",
      "Epoch 00003: my_iou_metric improved from 0.56281 to 0.57745, saving model to Unet_resnet_v5.model\n",
      "Epoch 4/10\n",
      " - 59s - loss: 0.2346 - my_iou_metric: 0.5730 - val_loss: 0.2391 - val_my_iou_metric: 0.5962\n",
      "\n",
      "Epoch 00004: my_iou_metric did not improve from 0.57745\n",
      "Epoch 5/10\n",
      " - 59s - loss: 0.2119 - my_iou_metric: 0.5878 - val_loss: 0.2100 - val_my_iou_metric: 0.6398\n",
      "\n",
      "Epoch 00005: my_iou_metric improved from 0.57745 to 0.58782, saving model to Unet_resnet_v5.model\n",
      "Epoch 6/10\n",
      " - 60s - loss: 0.2012 - my_iou_metric: 0.6081 - val_loss: 0.2191 - val_my_iou_metric: 0.6422\n",
      "\n",
      "Epoch 00006: my_iou_metric improved from 0.58782 to 0.60809, saving model to Unet_resnet_v5.model\n",
      "Epoch 7/10\n",
      " - 60s - loss: 0.1926 - my_iou_metric: 0.6221 - val_loss: 0.2944 - val_my_iou_metric: 0.4543\n",
      "\n",
      "Epoch 00007: my_iou_metric improved from 0.60809 to 0.62208, saving model to Unet_resnet_v5.model\n",
      "Epoch 8/10\n",
      " - 64s - loss: 0.1852 - my_iou_metric: 0.6309 - val_loss: 0.2376 - val_my_iou_metric: 0.5910\n",
      "\n",
      "Epoch 00008: my_iou_metric improved from 0.62208 to 0.63090, saving model to Unet_resnet_v5.model\n",
      "Epoch 9/10\n",
      " - 59s - loss: 0.1875 - my_iou_metric: 0.6329 - val_loss: 0.2372 - val_my_iou_metric: 0.5946\n",
      "\n",
      "Epoch 00009: my_iou_metric improved from 0.63090 to 0.63285, saving model to Unet_resnet_v5.model\n",
      "Epoch 10/10\n",
      " - 59s - loss: 0.1732 - my_iou_metric: 0.6527 - val_loss: 0.2151 - val_my_iou_metric: 0.5522\n",
      "\n",
      "Epoch 00010: my_iou_metric improved from 0.63285 to 0.65270, saving model to Unet_resnet_v5.model\n"
     ]
    }
   ],
   "source": [
    "#early_stopping = EarlyStopping(monitor='my_iou_metric', mode = 'max',patience=10, verbose=1)\n",
    "model_checkpoint = ModelCheckpoint(save_model_name,monitor='my_iou_metric', \n",
    "                                   mode = 'max', save_best_only=True, verbose=1)\n",
    "reduce_lr = ReduceLROnPlateau(monitor='my_iou_metric', mode = 'max',factor=0.5, patience=5, min_lr=0.0001, verbose=1)\n",
    "\n",
    "epochs = 10\n",
    "batch_size = 32\n",
    "history = model1.fit(x_train, y_train,\n",
    "                    validation_data=[x_valid, y_valid], \n",
    "                    epochs=epochs,\n",
    "                    batch_size=batch_size,\n",
    "                    callbacks=[ model_checkpoint,reduce_lr], \n",
    "                    verbose=2)"
   ]
  },
  {
   "cell_type": "code",
   "execution_count": 19,
   "metadata": {
    "_uuid": "513a3f8490ae5cbc61651458750ba369f99f6f62",
    "scrolled": true
   },
   "outputs": [
    {
     "ename": "ValueError",
     "evalue": "Can not squeeze dim[3], expected a dimension of 1, got 16 for 'loss_2/activation_91_loss/Squeeze_1' (op: 'Squeeze') with input shapes: [?,101,101,16].",
     "output_type": "error",
     "traceback": [
      "\u001b[0;31m---------------------------------------------------------------------------\u001b[0m",
      "\u001b[0;31mInvalidArgumentError\u001b[0m                      Traceback (most recent call last)",
      "\u001b[0;32m/opt/conda/lib/python3.6/site-packages/tensorflow/python/framework/ops.py\u001b[0m in \u001b[0;36m_create_c_op\u001b[0;34m(graph, node_def, inputs, control_inputs)\u001b[0m\n\u001b[1;32m   1566\u001b[0m   \u001b[0;32mtry\u001b[0m\u001b[0;34m:\u001b[0m\u001b[0;34m\u001b[0m\u001b[0m\n\u001b[0;32m-> 1567\u001b[0;31m     \u001b[0mc_op\u001b[0m \u001b[0;34m=\u001b[0m \u001b[0mc_api\u001b[0m\u001b[0;34m.\u001b[0m\u001b[0mTF_FinishOperation\u001b[0m\u001b[0;34m(\u001b[0m\u001b[0mop_desc\u001b[0m\u001b[0;34m)\u001b[0m\u001b[0;34m\u001b[0m\u001b[0m\n\u001b[0m\u001b[1;32m   1568\u001b[0m   \u001b[0;32mexcept\u001b[0m \u001b[0merrors\u001b[0m\u001b[0;34m.\u001b[0m\u001b[0mInvalidArgumentError\u001b[0m \u001b[0;32mas\u001b[0m \u001b[0me\u001b[0m\u001b[0;34m:\u001b[0m\u001b[0;34m\u001b[0m\u001b[0m\n",
      "\u001b[0;31mInvalidArgumentError\u001b[0m: Can not squeeze dim[3], expected a dimension of 1, got 16 for 'loss_2/activation_91_loss/Squeeze_1' (op: 'Squeeze') with input shapes: [?,101,101,16].",
      "\nDuring handling of the above exception, another exception occurred:\n",
      "\u001b[0;31mValueError\u001b[0m                                Traceback (most recent call last)",
      "\u001b[0;32m<ipython-input-19-1a0810dbec39>\u001b[0m in \u001b[0;36m<module>\u001b[0;34m()\u001b[0m\n\u001b[1;32m      9\u001b[0m \u001b[0;31m# lovasz_loss need input range (-∞，+∞), so cancel the last \"sigmoid\" activation\u001b[0m\u001b[0;34m\u001b[0m\u001b[0;34m\u001b[0m\u001b[0m\n\u001b[1;32m     10\u001b[0m \u001b[0;31m# Then the default threshod for pixel prediction is 0 instead of 0.5, as in my_iou_metric_2.\u001b[0m\u001b[0;34m\u001b[0m\u001b[0;34m\u001b[0m\u001b[0m\n\u001b[0;32m---> 11\u001b[0;31m \u001b[0mmodel\u001b[0m\u001b[0;34m.\u001b[0m\u001b[0mcompile\u001b[0m\u001b[0;34m(\u001b[0m\u001b[0mloss\u001b[0m\u001b[0;34m=\u001b[0m\u001b[0mlovasz_loss\u001b[0m\u001b[0;34m,\u001b[0m \u001b[0moptimizer\u001b[0m\u001b[0;34m=\u001b[0m\u001b[0mc\u001b[0m\u001b[0;34m,\u001b[0m \u001b[0mmetrics\u001b[0m\u001b[0;34m=\u001b[0m\u001b[0;34m[\u001b[0m\u001b[0mmy_iou_metric_2\u001b[0m\u001b[0;34m]\u001b[0m\u001b[0;34m)\u001b[0m\u001b[0;34m\u001b[0m\u001b[0m\n\u001b[0m\u001b[1;32m     12\u001b[0m \u001b[0;34m\u001b[0m\u001b[0m\n\u001b[1;32m     13\u001b[0m \u001b[0;31m#model.summary()\u001b[0m\u001b[0;34m\u001b[0m\u001b[0;34m\u001b[0m\u001b[0m\n",
      "\u001b[0;32m/opt/conda/lib/python3.6/site-packages/keras/engine/training.py\u001b[0m in \u001b[0;36mcompile\u001b[0;34m(self, optimizer, loss, metrics, loss_weights, sample_weight_mode, weighted_metrics, target_tensors, **kwargs)\u001b[0m\n\u001b[1;32m    330\u001b[0m                 \u001b[0;32mwith\u001b[0m \u001b[0mK\u001b[0m\u001b[0;34m.\u001b[0m\u001b[0mname_scope\u001b[0m\u001b[0;34m(\u001b[0m\u001b[0mself\u001b[0m\u001b[0;34m.\u001b[0m\u001b[0moutput_names\u001b[0m\u001b[0;34m[\u001b[0m\u001b[0mi\u001b[0m\u001b[0;34m]\u001b[0m \u001b[0;34m+\u001b[0m \u001b[0;34m'_loss'\u001b[0m\u001b[0;34m)\u001b[0m\u001b[0;34m:\u001b[0m\u001b[0;34m\u001b[0m\u001b[0m\n\u001b[1;32m    331\u001b[0m                     output_loss = weighted_loss(y_true, y_pred,\n\u001b[0;32m--> 332\u001b[0;31m                                                 sample_weight, mask)\n\u001b[0m\u001b[1;32m    333\u001b[0m                 \u001b[0;32mif\u001b[0m \u001b[0mlen\u001b[0m\u001b[0;34m(\u001b[0m\u001b[0mself\u001b[0m\u001b[0;34m.\u001b[0m\u001b[0moutputs\u001b[0m\u001b[0;34m)\u001b[0m \u001b[0;34m>\u001b[0m \u001b[0;36m1\u001b[0m\u001b[0;34m:\u001b[0m\u001b[0;34m\u001b[0m\u001b[0m\n\u001b[1;32m    334\u001b[0m                     \u001b[0mself\u001b[0m\u001b[0;34m.\u001b[0m\u001b[0mmetrics_tensors\u001b[0m\u001b[0;34m.\u001b[0m\u001b[0mappend\u001b[0m\u001b[0;34m(\u001b[0m\u001b[0moutput_loss\u001b[0m\u001b[0;34m)\u001b[0m\u001b[0;34m\u001b[0m\u001b[0m\n",
      "\u001b[0;32m/opt/conda/lib/python3.6/site-packages/keras/engine/training_utils.py\u001b[0m in \u001b[0;36mweighted\u001b[0;34m(y_true, y_pred, weights, mask)\u001b[0m\n\u001b[1;32m    401\u001b[0m         \"\"\"\n\u001b[1;32m    402\u001b[0m         \u001b[0;31m# score_array has ndim >= 2\u001b[0m\u001b[0;34m\u001b[0m\u001b[0;34m\u001b[0m\u001b[0m\n\u001b[0;32m--> 403\u001b[0;31m         \u001b[0mscore_array\u001b[0m \u001b[0;34m=\u001b[0m \u001b[0mfn\u001b[0m\u001b[0;34m(\u001b[0m\u001b[0my_true\u001b[0m\u001b[0;34m,\u001b[0m \u001b[0my_pred\u001b[0m\u001b[0;34m)\u001b[0m\u001b[0;34m\u001b[0m\u001b[0m\n\u001b[0m\u001b[1;32m    404\u001b[0m         \u001b[0;32mif\u001b[0m \u001b[0mmask\u001b[0m \u001b[0;32mis\u001b[0m \u001b[0;32mnot\u001b[0m \u001b[0;32mNone\u001b[0m\u001b[0;34m:\u001b[0m\u001b[0;34m\u001b[0m\u001b[0m\n\u001b[1;32m    405\u001b[0m             \u001b[0;31m# Cast the mask to floatX to avoid float64 upcasting in Theano\u001b[0m\u001b[0;34m\u001b[0m\u001b[0;34m\u001b[0m\u001b[0m\n",
      "\u001b[0;32m<ipython-input-14-5c9b8d8002f8>\u001b[0m in \u001b[0;36mlovasz_loss\u001b[0;34m(y_true, y_pred)\u001b[0m\n\u001b[1;32m     79\u001b[0m \u001b[0;34m\u001b[0m\u001b[0m\n\u001b[1;32m     80\u001b[0m \u001b[0;32mdef\u001b[0m \u001b[0mlovasz_loss\u001b[0m\u001b[0;34m(\u001b[0m\u001b[0my_true\u001b[0m\u001b[0;34m,\u001b[0m \u001b[0my_pred\u001b[0m\u001b[0;34m)\u001b[0m\u001b[0;34m:\u001b[0m\u001b[0;34m\u001b[0m\u001b[0m\n\u001b[0;32m---> 81\u001b[0;31m     \u001b[0my_true\u001b[0m\u001b[0;34m,\u001b[0m \u001b[0my_pred\u001b[0m \u001b[0;34m=\u001b[0m \u001b[0mK\u001b[0m\u001b[0;34m.\u001b[0m\u001b[0mcast\u001b[0m\u001b[0;34m(\u001b[0m\u001b[0mK\u001b[0m\u001b[0;34m.\u001b[0m\u001b[0msqueeze\u001b[0m\u001b[0;34m(\u001b[0m\u001b[0my_true\u001b[0m\u001b[0;34m,\u001b[0m \u001b[0;34m-\u001b[0m\u001b[0;36m1\u001b[0m\u001b[0;34m)\u001b[0m\u001b[0;34m,\u001b[0m \u001b[0;34m'int32'\u001b[0m\u001b[0;34m)\u001b[0m\u001b[0;34m,\u001b[0m \u001b[0mK\u001b[0m\u001b[0;34m.\u001b[0m\u001b[0mcast\u001b[0m\u001b[0;34m(\u001b[0m\u001b[0mK\u001b[0m\u001b[0;34m.\u001b[0m\u001b[0msqueeze\u001b[0m\u001b[0;34m(\u001b[0m\u001b[0my_pred\u001b[0m\u001b[0;34m,\u001b[0m \u001b[0;34m-\u001b[0m\u001b[0;36m1\u001b[0m\u001b[0;34m)\u001b[0m\u001b[0;34m,\u001b[0m \u001b[0;34m'float32'\u001b[0m\u001b[0;34m)\u001b[0m\u001b[0;34m\u001b[0m\u001b[0m\n\u001b[0m\u001b[1;32m     82\u001b[0m     \u001b[0;31m#logits = K.log(y_pred / (1. - y_pred))\u001b[0m\u001b[0;34m\u001b[0m\u001b[0;34m\u001b[0m\u001b[0m\n\u001b[1;32m     83\u001b[0m     \u001b[0mlogits\u001b[0m \u001b[0;34m=\u001b[0m \u001b[0my_pred\u001b[0m \u001b[0;31m#Jiaxin\u001b[0m\u001b[0;34m\u001b[0m\u001b[0m\n",
      "\u001b[0;32m/opt/conda/lib/python3.6/site-packages/keras/backend/tensorflow_backend.py\u001b[0m in \u001b[0;36msqueeze\u001b[0;34m(x, axis)\u001b[0m\n\u001b[1;32m   2190\u001b[0m         \u001b[0mA\u001b[0m \u001b[0mtensor\u001b[0m \u001b[0;32mwith\u001b[0m \u001b[0mthe\u001b[0m \u001b[0msame\u001b[0m \u001b[0mdata\u001b[0m \u001b[0;32mas\u001b[0m\u001b[0;31m \u001b[0m\u001b[0;31m`\u001b[0m\u001b[0mx\u001b[0m\u001b[0;31m`\u001b[0m \u001b[0mbut\u001b[0m \u001b[0mreduced\u001b[0m \u001b[0mdimensions\u001b[0m\u001b[0;34m.\u001b[0m\u001b[0;34m\u001b[0m\u001b[0m\n\u001b[1;32m   2191\u001b[0m     \"\"\"\n\u001b[0;32m-> 2192\u001b[0;31m     \u001b[0;32mreturn\u001b[0m \u001b[0mtf\u001b[0m\u001b[0;34m.\u001b[0m\u001b[0msqueeze\u001b[0m\u001b[0;34m(\u001b[0m\u001b[0mx\u001b[0m\u001b[0;34m,\u001b[0m \u001b[0;34m[\u001b[0m\u001b[0maxis\u001b[0m\u001b[0;34m]\u001b[0m\u001b[0;34m)\u001b[0m\u001b[0;34m\u001b[0m\u001b[0m\n\u001b[0m\u001b[1;32m   2193\u001b[0m \u001b[0;34m\u001b[0m\u001b[0m\n\u001b[1;32m   2194\u001b[0m \u001b[0;34m\u001b[0m\u001b[0m\n",
      "\u001b[0;32m/opt/conda/lib/python3.6/site-packages/tensorflow/python/ops/array_ops.py\u001b[0m in \u001b[0;36msqueeze\u001b[0;34m(input, axis, name, squeeze_dims)\u001b[0m\n\u001b[1;32m   2628\u001b[0m   \u001b[0;32mif\u001b[0m \u001b[0mnp\u001b[0m\u001b[0;34m.\u001b[0m\u001b[0misscalar\u001b[0m\u001b[0;34m(\u001b[0m\u001b[0maxis\u001b[0m\u001b[0;34m)\u001b[0m\u001b[0;34m:\u001b[0m\u001b[0;34m\u001b[0m\u001b[0m\n\u001b[1;32m   2629\u001b[0m     \u001b[0maxis\u001b[0m \u001b[0;34m=\u001b[0m \u001b[0;34m[\u001b[0m\u001b[0maxis\u001b[0m\u001b[0;34m]\u001b[0m\u001b[0;34m\u001b[0m\u001b[0m\n\u001b[0;32m-> 2630\u001b[0;31m   \u001b[0;32mreturn\u001b[0m \u001b[0mgen_array_ops\u001b[0m\u001b[0;34m.\u001b[0m\u001b[0msqueeze\u001b[0m\u001b[0;34m(\u001b[0m\u001b[0minput\u001b[0m\u001b[0;34m,\u001b[0m \u001b[0maxis\u001b[0m\u001b[0;34m,\u001b[0m \u001b[0mname\u001b[0m\u001b[0;34m)\u001b[0m\u001b[0;34m\u001b[0m\u001b[0m\n\u001b[0m\u001b[1;32m   2631\u001b[0m \u001b[0;34m\u001b[0m\u001b[0m\n\u001b[1;32m   2632\u001b[0m \u001b[0;34m\u001b[0m\u001b[0m\n",
      "\u001b[0;32m/opt/conda/lib/python3.6/site-packages/tensorflow/python/ops/gen_array_ops.py\u001b[0m in \u001b[0;36msqueeze\u001b[0;34m(input, axis, name)\u001b[0m\n\u001b[1;32m   7860\u001b[0m     \u001b[0maxis\u001b[0m \u001b[0;34m=\u001b[0m \u001b[0;34m[\u001b[0m\u001b[0m_execute\u001b[0m\u001b[0;34m.\u001b[0m\u001b[0mmake_int\u001b[0m\u001b[0;34m(\u001b[0m\u001b[0m_i\u001b[0m\u001b[0;34m,\u001b[0m \u001b[0;34m\"axis\"\u001b[0m\u001b[0;34m)\u001b[0m \u001b[0;32mfor\u001b[0m \u001b[0m_i\u001b[0m \u001b[0;32min\u001b[0m \u001b[0maxis\u001b[0m\u001b[0;34m]\u001b[0m\u001b[0;34m\u001b[0m\u001b[0m\n\u001b[1;32m   7861\u001b[0m     _, _, _op = _op_def_lib._apply_op_helper(\n\u001b[0;32m-> 7862\u001b[0;31m         \"Squeeze\", input=input, squeeze_dims=axis, name=name)\n\u001b[0m\u001b[1;32m   7863\u001b[0m     \u001b[0m_result\u001b[0m \u001b[0;34m=\u001b[0m \u001b[0m_op\u001b[0m\u001b[0;34m.\u001b[0m\u001b[0moutputs\u001b[0m\u001b[0;34m[\u001b[0m\u001b[0;34m:\u001b[0m\u001b[0;34m]\u001b[0m\u001b[0;34m\u001b[0m\u001b[0m\n\u001b[1;32m   7864\u001b[0m     \u001b[0m_inputs_flat\u001b[0m \u001b[0;34m=\u001b[0m \u001b[0m_op\u001b[0m\u001b[0;34m.\u001b[0m\u001b[0minputs\u001b[0m\u001b[0;34m\u001b[0m\u001b[0m\n",
      "\u001b[0;32m/opt/conda/lib/python3.6/site-packages/tensorflow/python/framework/op_def_library.py\u001b[0m in \u001b[0;36m_apply_op_helper\u001b[0;34m(self, op_type_name, name, **keywords)\u001b[0m\n\u001b[1;32m    785\u001b[0m         op = g.create_op(op_type_name, inputs, output_types, name=scope,\n\u001b[1;32m    786\u001b[0m                          \u001b[0minput_types\u001b[0m\u001b[0;34m=\u001b[0m\u001b[0minput_types\u001b[0m\u001b[0;34m,\u001b[0m \u001b[0mattrs\u001b[0m\u001b[0;34m=\u001b[0m\u001b[0mattr_protos\u001b[0m\u001b[0;34m,\u001b[0m\u001b[0;34m\u001b[0m\u001b[0m\n\u001b[0;32m--> 787\u001b[0;31m                          op_def=op_def)\n\u001b[0m\u001b[1;32m    788\u001b[0m       \u001b[0;32mreturn\u001b[0m \u001b[0moutput_structure\u001b[0m\u001b[0;34m,\u001b[0m \u001b[0mop_def\u001b[0m\u001b[0;34m.\u001b[0m\u001b[0mis_stateful\u001b[0m\u001b[0;34m,\u001b[0m \u001b[0mop\u001b[0m\u001b[0;34m\u001b[0m\u001b[0m\n\u001b[1;32m    789\u001b[0m \u001b[0;34m\u001b[0m\u001b[0m\n",
      "\u001b[0;32m/opt/conda/lib/python3.6/site-packages/tensorflow/python/framework/ops.py\u001b[0m in \u001b[0;36mcreate_op\u001b[0;34m(self, op_type, inputs, dtypes, input_types, name, attrs, op_def, compute_shapes, compute_device)\u001b[0m\n\u001b[1;32m   3390\u001b[0m           \u001b[0minput_types\u001b[0m\u001b[0;34m=\u001b[0m\u001b[0minput_types\u001b[0m\u001b[0;34m,\u001b[0m\u001b[0;34m\u001b[0m\u001b[0m\n\u001b[1;32m   3391\u001b[0m           \u001b[0moriginal_op\u001b[0m\u001b[0;34m=\u001b[0m\u001b[0mself\u001b[0m\u001b[0;34m.\u001b[0m\u001b[0m_default_original_op\u001b[0m\u001b[0;34m,\u001b[0m\u001b[0;34m\u001b[0m\u001b[0m\n\u001b[0;32m-> 3392\u001b[0;31m           op_def=op_def)\n\u001b[0m\u001b[1;32m   3393\u001b[0m \u001b[0;34m\u001b[0m\u001b[0m\n\u001b[1;32m   3394\u001b[0m       \u001b[0;31m# Note: shapes are lazily computed with the C API enabled.\u001b[0m\u001b[0;34m\u001b[0m\u001b[0;34m\u001b[0m\u001b[0m\n",
      "\u001b[0;32m/opt/conda/lib/python3.6/site-packages/tensorflow/python/framework/ops.py\u001b[0m in \u001b[0;36m__init__\u001b[0;34m(self, node_def, g, inputs, output_types, control_inputs, input_types, original_op, op_def)\u001b[0m\n\u001b[1;32m   1732\u001b[0m           op_def, inputs, node_def.attr)\n\u001b[1;32m   1733\u001b[0m       self._c_op = _create_c_op(self._graph, node_def, grouped_inputs,\n\u001b[0;32m-> 1734\u001b[0;31m                                 control_input_ops)\n\u001b[0m\u001b[1;32m   1735\u001b[0m     \u001b[0;32melse\u001b[0m\u001b[0;34m:\u001b[0m\u001b[0;34m\u001b[0m\u001b[0m\n\u001b[1;32m   1736\u001b[0m       \u001b[0mself\u001b[0m\u001b[0;34m.\u001b[0m\u001b[0m_c_op\u001b[0m \u001b[0;34m=\u001b[0m \u001b[0;32mNone\u001b[0m\u001b[0;34m\u001b[0m\u001b[0m\n",
      "\u001b[0;32m/opt/conda/lib/python3.6/site-packages/tensorflow/python/framework/ops.py\u001b[0m in \u001b[0;36m_create_c_op\u001b[0;34m(graph, node_def, inputs, control_inputs)\u001b[0m\n\u001b[1;32m   1568\u001b[0m   \u001b[0;32mexcept\u001b[0m \u001b[0merrors\u001b[0m\u001b[0;34m.\u001b[0m\u001b[0mInvalidArgumentError\u001b[0m \u001b[0;32mas\u001b[0m \u001b[0me\u001b[0m\u001b[0;34m:\u001b[0m\u001b[0;34m\u001b[0m\u001b[0m\n\u001b[1;32m   1569\u001b[0m     \u001b[0;31m# Convert to ValueError for backwards compatibility.\u001b[0m\u001b[0;34m\u001b[0m\u001b[0;34m\u001b[0m\u001b[0m\n\u001b[0;32m-> 1570\u001b[0;31m     \u001b[0;32mraise\u001b[0m \u001b[0mValueError\u001b[0m\u001b[0;34m(\u001b[0m\u001b[0mstr\u001b[0m\u001b[0;34m(\u001b[0m\u001b[0me\u001b[0m\u001b[0;34m)\u001b[0m\u001b[0;34m)\u001b[0m\u001b[0;34m\u001b[0m\u001b[0m\n\u001b[0m\u001b[1;32m   1571\u001b[0m \u001b[0;34m\u001b[0m\u001b[0m\n\u001b[1;32m   1572\u001b[0m   \u001b[0;32mreturn\u001b[0m \u001b[0mc_op\u001b[0m\u001b[0;34m\u001b[0m\u001b[0m\n",
      "\u001b[0;31mValueError\u001b[0m: Can not squeeze dim[3], expected a dimension of 1, got 16 for 'loss_2/activation_91_loss/Squeeze_1' (op: 'Squeeze') with input shapes: [?,101,101,16]."
     ]
    }
   ],
   "source": [
    "# model1 = load_model(save_model_name,custom_objects={'my_iou_metric': my_iou_metric})\n",
    "model1 = load_model(save_model_name,custom_objects={'my_iou_metric': my_iou_metric, 'lovasz_loss': lovasz_loss, 'my_iou_metric_2': my_iou_metric_2})\n",
    "# remove layter activation layer and use losvasz loss\n",
    "input_x = model1.layers[0].input\n",
    "\n",
    "output_layer = model1.layers[-1].input\n",
    "model = Model(input_x, output_layer)\n",
    "c = optimizers.adam(lr = 0.01)\n",
    "\n",
    "# lovasz_loss need input range (-∞，+∞), so cancel the last \"sigmoid\" activation  \n",
    "# Then the default threshod for pixel prediction is 0 instead of 0.5, as in my_iou_metric_2.\n",
    "model.compile(loss=lovasz_loss, optimizer=c, metrics=[my_iou_metric_2])\n",
    "\n",
    "#model.summary()"
   ]
  },
  {
   "cell_type": "code",
   "execution_count": 38,
   "metadata": {
    "_uuid": "bc68a1d9f9ec3837a2988bd7fe05d1fffdbc381d",
    "scrolled": true
   },
   "outputs": [
    {
     "name": "stdout",
     "output_type": "stream",
     "text": [
      "Train on 12800 samples, validate on 800 samples\n",
      "Epoch 1/100\n",
      " - 163s - loss: 0.5340 - my_iou_metric_2: 0.7112 - val_loss: 0.7363 - val_my_iou_metric_2: 0.6272\n",
      "\n",
      "Epoch 00001: val_my_iou_metric_2 improved from -inf to 0.62725, saving model to Unet_resnet_v5.model\n",
      "Epoch 2/100\n",
      " - 156s - loss: 0.5078 - my_iou_metric_2: 0.7138 - val_loss: 0.6519 - val_my_iou_metric_2: 0.6450\n",
      "\n",
      "Epoch 00002: val_my_iou_metric_2 improved from 0.62725 to 0.64500, saving model to Unet_resnet_v5.model\n",
      "Epoch 3/100\n",
      " - 148s - loss: 0.4865 - my_iou_metric_2: 0.7208 - val_loss: 0.5303 - val_my_iou_metric_2: 0.7025\n",
      "\n",
      "Epoch 00003: val_my_iou_metric_2 improved from 0.64500 to 0.70250, saving model to Unet_resnet_v5.model\n",
      "Epoch 4/100\n",
      " - 148s - loss: 0.4778 - my_iou_metric_2: 0.7249 - val_loss: 0.8740 - val_my_iou_metric_2: 0.5292\n",
      "\n",
      "Epoch 00004: val_my_iou_metric_2 did not improve from 0.70250\n",
      "Epoch 5/100\n",
      " - 147s - loss: 0.5262 - my_iou_metric_2: 0.7001 - val_loss: 1.0637 - val_my_iou_metric_2: 0.4516\n",
      "\n",
      "Epoch 00005: val_my_iou_metric_2 did not improve from 0.70250\n",
      "Epoch 6/100\n",
      " - 148s - loss: 0.4940 - my_iou_metric_2: 0.7170 - val_loss: 0.4792 - val_my_iou_metric_2: 0.7274\n",
      "\n",
      "Epoch 00006: val_my_iou_metric_2 improved from 0.70250 to 0.72737, saving model to Unet_resnet_v5.model\n",
      "Epoch 7/100\n",
      " - 148s - loss: 0.4913 - my_iou_metric_2: 0.7159 - val_loss: 0.8935 - val_my_iou_metric_2: 0.5461\n",
      "\n",
      "Epoch 00007: val_my_iou_metric_2 did not improve from 0.72737\n",
      "Epoch 8/100\n",
      " - 147s - loss: 0.5314 - my_iou_metric_2: 0.6948 - val_loss: 0.6898 - val_my_iou_metric_2: 0.6088\n",
      "\n",
      "Epoch 00008: val_my_iou_metric_2 did not improve from 0.72737\n",
      "Epoch 9/100\n",
      " - 149s - loss: 0.5162 - my_iou_metric_2: 0.7020 - val_loss: 0.8697 - val_my_iou_metric_2: 0.5424\n",
      "\n",
      "Epoch 00009: val_my_iou_metric_2 did not improve from 0.72737\n",
      "Epoch 10/100\n",
      " - 148s - loss: 0.4706 - my_iou_metric_2: 0.7262 - val_loss: 1.0686 - val_my_iou_metric_2: 0.4510\n",
      "\n",
      "Epoch 00010: val_my_iou_metric_2 did not improve from 0.72737\n",
      "Epoch 11/100\n",
      " - 153s - loss: 0.4889 - my_iou_metric_2: 0.7182 - val_loss: 0.9864 - val_my_iou_metric_2: 0.4874\n",
      "\n",
      "Epoch 00011: val_my_iou_metric_2 did not improve from 0.72737\n",
      "\n",
      "Epoch 00011: ReduceLROnPlateau reducing learning rate to 0.004999999888241291.\n",
      "Epoch 12/100\n",
      " - 154s - loss: 0.4573 - my_iou_metric_2: 0.7339 - val_loss: 0.4517 - val_my_iou_metric_2: 0.7479\n",
      "\n",
      "Epoch 00012: val_my_iou_metric_2 improved from 0.72737 to 0.74787, saving model to Unet_resnet_v5.model\n",
      "Epoch 13/100\n",
      " - 156s - loss: 0.4353 - my_iou_metric_2: 0.7439 - val_loss: 0.4229 - val_my_iou_metric_2: 0.7571\n",
      "\n",
      "Epoch 00013: val_my_iou_metric_2 improved from 0.74787 to 0.75713, saving model to Unet_resnet_v5.model\n",
      "Epoch 14/100\n",
      " - 155s - loss: 0.4138 - my_iou_metric_2: 0.7566 - val_loss: 0.4740 - val_my_iou_metric_2: 0.7355\n",
      "\n",
      "Epoch 00014: val_my_iou_metric_2 did not improve from 0.75713\n",
      "Epoch 15/100\n",
      " - 158s - loss: 0.4190 - my_iou_metric_2: 0.7545 - val_loss: 0.4194 - val_my_iou_metric_2: 0.7632\n",
      "\n",
      "Epoch 00015: val_my_iou_metric_2 improved from 0.75713 to 0.76325, saving model to Unet_resnet_v5.model\n",
      "Epoch 16/100\n",
      " - 160s - loss: 0.4249 - my_iou_metric_2: 0.7526 - val_loss: 0.5859 - val_my_iou_metric_2: 0.6762\n",
      "\n",
      "Epoch 00016: val_my_iou_metric_2 did not improve from 0.76325\n",
      "Epoch 17/100\n",
      " - 160s - loss: 0.4090 - my_iou_metric_2: 0.7605 - val_loss: 0.4228 - val_my_iou_metric_2: 0.7565\n",
      "\n",
      "Epoch 00017: val_my_iou_metric_2 did not improve from 0.76325\n",
      "Epoch 18/100\n",
      " - 147s - loss: 0.4105 - my_iou_metric_2: 0.7587 - val_loss: 0.4059 - val_my_iou_metric_2: 0.7659\n",
      "\n",
      "Epoch 00018: val_my_iou_metric_2 improved from 0.76325 to 0.76588, saving model to Unet_resnet_v5.model\n",
      "Epoch 19/100\n",
      " - 147s - loss: 0.4010 - my_iou_metric_2: 0.7645 - val_loss: 0.4429 - val_my_iou_metric_2: 0.7514\n",
      "\n",
      "Epoch 00019: val_my_iou_metric_2 did not improve from 0.76588\n",
      "Epoch 20/100\n",
      " - 147s - loss: 0.4117 - my_iou_metric_2: 0.7583 - val_loss: 0.5207 - val_my_iou_metric_2: 0.7131\n",
      "\n",
      "Epoch 00020: val_my_iou_metric_2 did not improve from 0.76588\n",
      "Epoch 21/100\n",
      " - 147s - loss: 0.3980 - my_iou_metric_2: 0.7653 - val_loss: 0.4035 - val_my_iou_metric_2: 0.7656\n",
      "\n",
      "Epoch 00021: val_my_iou_metric_2 did not improve from 0.76588\n",
      "Epoch 22/100\n",
      " - 147s - loss: 0.3861 - my_iou_metric_2: 0.7716 - val_loss: 0.4156 - val_my_iou_metric_2: 0.7610\n",
      "\n",
      "Epoch 00022: val_my_iou_metric_2 did not improve from 0.76588\n",
      "Epoch 23/100\n",
      " - 147s - loss: 0.4322 - my_iou_metric_2: 0.7461 - val_loss: 0.4726 - val_my_iou_metric_2: 0.7286\n",
      "\n",
      "Epoch 00023: val_my_iou_metric_2 did not improve from 0.76588\n",
      "\n",
      "Epoch 00023: ReduceLROnPlateau reducing learning rate to 0.0024999999441206455.\n",
      "Epoch 24/100\n",
      " - 147s - loss: 0.3982 - my_iou_metric_2: 0.7648 - val_loss: 0.4250 - val_my_iou_metric_2: 0.7611\n",
      "\n",
      "Epoch 00024: val_my_iou_metric_2 did not improve from 0.76588\n",
      "Epoch 25/100\n",
      " - 147s - loss: 0.3787 - my_iou_metric_2: 0.7739 - val_loss: 0.3912 - val_my_iou_metric_2: 0.7741\n",
      "\n",
      "Epoch 00025: val_my_iou_metric_2 improved from 0.76588 to 0.77413, saving model to Unet_resnet_v5.model\n",
      "Epoch 26/100\n",
      " - 147s - loss: 0.3755 - my_iou_metric_2: 0.7759 - val_loss: 0.3997 - val_my_iou_metric_2: 0.7740\n",
      "\n",
      "Epoch 00026: val_my_iou_metric_2 did not improve from 0.77413\n",
      "Epoch 27/100\n",
      " - 147s - loss: 0.3669 - my_iou_metric_2: 0.7821 - val_loss: 0.3842 - val_my_iou_metric_2: 0.7831\n",
      "\n",
      "Epoch 00027: val_my_iou_metric_2 improved from 0.77413 to 0.78313, saving model to Unet_resnet_v5.model\n",
      "Epoch 28/100\n",
      " - 147s - loss: 0.3689 - my_iou_metric_2: 0.7805 - val_loss: 0.3972 - val_my_iou_metric_2: 0.7726\n",
      "\n",
      "Epoch 00028: val_my_iou_metric_2 did not improve from 0.78313\n",
      "Epoch 29/100\n",
      " - 147s - loss: 0.3714 - my_iou_metric_2: 0.7799 - val_loss: 0.4006 - val_my_iou_metric_2: 0.7731\n",
      "\n",
      "Epoch 00029: val_my_iou_metric_2 did not improve from 0.78313\n",
      "Epoch 30/100\n",
      " - 147s - loss: 0.3738 - my_iou_metric_2: 0.7802 - val_loss: 0.3752 - val_my_iou_metric_2: 0.7836\n",
      "\n",
      "Epoch 00030: val_my_iou_metric_2 improved from 0.78313 to 0.78363, saving model to Unet_resnet_v5.model\n",
      "Epoch 31/100\n",
      " - 147s - loss: 0.3623 - my_iou_metric_2: 0.7845 - val_loss: 0.4009 - val_my_iou_metric_2: 0.7739\n",
      "\n",
      "Epoch 00031: val_my_iou_metric_2 did not improve from 0.78363\n",
      "Epoch 32/100\n",
      " - 147s - loss: 0.3892 - my_iou_metric_2: 0.7704 - val_loss: 0.4010 - val_my_iou_metric_2: 0.7724\n",
      "\n",
      "Epoch 00032: val_my_iou_metric_2 did not improve from 0.78363\n",
      "Epoch 33/100\n",
      " - 147s - loss: 0.3651 - my_iou_metric_2: 0.7832 - val_loss: 0.4059 - val_my_iou_metric_2: 0.7734\n",
      "\n",
      "Epoch 00033: val_my_iou_metric_2 did not improve from 0.78363\n",
      "Epoch 34/100\n",
      " - 147s - loss: 0.3599 - my_iou_metric_2: 0.7853 - val_loss: 0.4013 - val_my_iou_metric_2: 0.7740\n",
      "\n",
      "Epoch 00034: val_my_iou_metric_2 did not improve from 0.78363\n",
      "Epoch 35/100\n",
      " - 147s - loss: 0.3776 - my_iou_metric_2: 0.7775 - val_loss: 0.4073 - val_my_iou_metric_2: 0.7675\n",
      "\n",
      "Epoch 00035: val_my_iou_metric_2 did not improve from 0.78363\n",
      "\n",
      "Epoch 00035: ReduceLROnPlateau reducing learning rate to 0.0012499999720603228.\n",
      "Epoch 36/100\n",
      " - 147s - loss: 0.3753 - my_iou_metric_2: 0.7786 - val_loss: 0.3727 - val_my_iou_metric_2: 0.7859\n",
      "\n",
      "Epoch 00036: val_my_iou_metric_2 improved from 0.78363 to 0.78588, saving model to Unet_resnet_v5.model\n",
      "Epoch 37/100\n",
      " - 147s - loss: 0.3480 - my_iou_metric_2: 0.7923 - val_loss: 0.3901 - val_my_iou_metric_2: 0.7789\n",
      "\n",
      "Epoch 00037: val_my_iou_metric_2 did not improve from 0.78588\n",
      "Epoch 38/100\n",
      " - 147s - loss: 0.3518 - my_iou_metric_2: 0.7919 - val_loss: 0.4005 - val_my_iou_metric_2: 0.7756\n",
      "\n",
      "Epoch 00038: val_my_iou_metric_2 did not improve from 0.78588\n",
      "Epoch 39/100\n",
      " - 147s - loss: 0.3501 - my_iou_metric_2: 0.7915 - val_loss: 0.3704 - val_my_iou_metric_2: 0.7900\n",
      "\n",
      "Epoch 00039: val_my_iou_metric_2 improved from 0.78588 to 0.79000, saving model to Unet_resnet_v5.model\n",
      "Epoch 40/100\n",
      " - 147s - loss: 0.3497 - my_iou_metric_2: 0.7910 - val_loss: 0.3681 - val_my_iou_metric_2: 0.7913\n",
      "\n",
      "Epoch 00040: val_my_iou_metric_2 improved from 0.79000 to 0.79125, saving model to Unet_resnet_v5.model\n",
      "Epoch 41/100\n",
      " - 147s - loss: 0.3483 - my_iou_metric_2: 0.7932 - val_loss: 0.3671 - val_my_iou_metric_2: 0.7905\n",
      "\n",
      "Epoch 00041: val_my_iou_metric_2 did not improve from 0.79125\n",
      "Epoch 42/100\n",
      " - 147s - loss: 0.3435 - my_iou_metric_2: 0.7953 - val_loss: 0.3630 - val_my_iou_metric_2: 0.7939\n",
      "\n",
      "Epoch 00042: val_my_iou_metric_2 improved from 0.79125 to 0.79387, saving model to Unet_resnet_v5.model\n"
     ]
    },
    {
     "name": "stdout",
     "output_type": "stream",
     "text": [
      "Epoch 43/100\n",
      " - 147s - loss: 0.3418 - my_iou_metric_2: 0.7955 - val_loss: 0.3644 - val_my_iou_metric_2: 0.7924\n",
      "\n",
      "Epoch 00043: val_my_iou_metric_2 did not improve from 0.79387\n",
      "Epoch 44/100\n",
      " - 148s - loss: 0.3500 - my_iou_metric_2: 0.7916 - val_loss: 0.3745 - val_my_iou_metric_2: 0.7899\n",
      "\n",
      "Epoch 00044: val_my_iou_metric_2 did not improve from 0.79387\n",
      "Epoch 45/100\n",
      " - 148s - loss: 0.3483 - my_iou_metric_2: 0.7944 - val_loss: 0.3840 - val_my_iou_metric_2: 0.7860\n",
      "\n",
      "Epoch 00045: val_my_iou_metric_2 did not improve from 0.79387\n",
      "Epoch 46/100\n",
      " - 148s - loss: 0.3398 - my_iou_metric_2: 0.7976 - val_loss: 0.3573 - val_my_iou_metric_2: 0.7969\n",
      "\n",
      "Epoch 00046: val_my_iou_metric_2 improved from 0.79387 to 0.79688, saving model to Unet_resnet_v5.model\n",
      "Epoch 47/100\n",
      " - 148s - loss: 0.3343 - my_iou_metric_2: 0.7998 - val_loss: 0.3670 - val_my_iou_metric_2: 0.7931\n",
      "\n",
      "Epoch 00047: val_my_iou_metric_2 did not improve from 0.79688\n",
      "Epoch 48/100\n",
      " - 148s - loss: 0.3433 - my_iou_metric_2: 0.7947 - val_loss: 0.3623 - val_my_iou_metric_2: 0.7950\n",
      "\n",
      "Epoch 00048: val_my_iou_metric_2 did not improve from 0.79688\n",
      "Epoch 49/100\n",
      " - 148s - loss: 0.3502 - my_iou_metric_2: 0.7904 - val_loss: 0.3633 - val_my_iou_metric_2: 0.7943\n",
      "\n",
      "Epoch 00049: val_my_iou_metric_2 did not improve from 0.79688\n",
      "Epoch 50/100\n",
      " - 148s - loss: 0.3395 - my_iou_metric_2: 0.7955 - val_loss: 0.3647 - val_my_iou_metric_2: 0.7919\n",
      "\n",
      "Epoch 00050: val_my_iou_metric_2 did not improve from 0.79688\n",
      "Epoch 51/100\n",
      " - 148s - loss: 0.3345 - my_iou_metric_2: 0.7990 - val_loss: 0.3673 - val_my_iou_metric_2: 0.7906\n",
      "\n",
      "Epoch 00051: val_my_iou_metric_2 did not improve from 0.79688\n",
      "\n",
      "Epoch 00051: ReduceLROnPlateau reducing learning rate to 0.0006249999860301614.\n",
      "Epoch 52/100\n",
      " - 148s - loss: 0.3346 - my_iou_metric_2: 0.7995 - val_loss: 0.3672 - val_my_iou_metric_2: 0.7920\n",
      "\n",
      "Epoch 00052: val_my_iou_metric_2 did not improve from 0.79688\n",
      "Epoch 53/100\n",
      " - 148s - loss: 0.3336 - my_iou_metric_2: 0.7998 - val_loss: 0.3586 - val_my_iou_metric_2: 0.7950\n",
      "\n",
      "Epoch 00053: val_my_iou_metric_2 did not improve from 0.79688\n",
      "Epoch 54/100\n",
      " - 148s - loss: 0.3329 - my_iou_metric_2: 0.8004 - val_loss: 0.3588 - val_my_iou_metric_2: 0.7966\n",
      "\n",
      "Epoch 00054: val_my_iou_metric_2 did not improve from 0.79688\n",
      "Epoch 55/100\n",
      " - 148s - loss: 0.3301 - my_iou_metric_2: 0.8008 - val_loss: 0.3558 - val_my_iou_metric_2: 0.7979\n",
      "\n",
      "Epoch 00055: val_my_iou_metric_2 improved from 0.79688 to 0.79787, saving model to Unet_resnet_v5.model\n",
      "Epoch 56/100\n",
      " - 148s - loss: 0.3280 - my_iou_metric_2: 0.8038 - val_loss: 0.3610 - val_my_iou_metric_2: 0.7948\n",
      "\n",
      "Epoch 00056: val_my_iou_metric_2 did not improve from 0.79787\n",
      "Epoch 57/100\n",
      " - 148s - loss: 0.3281 - my_iou_metric_2: 0.8028 - val_loss: 0.3566 - val_my_iou_metric_2: 0.7965\n",
      "\n",
      "Epoch 00057: val_my_iou_metric_2 did not improve from 0.79787\n",
      "Epoch 58/100\n",
      " - 148s - loss: 0.3292 - my_iou_metric_2: 0.8029 - val_loss: 0.3603 - val_my_iou_metric_2: 0.7941\n",
      "\n",
      "Epoch 00058: val_my_iou_metric_2 did not improve from 0.79787\n",
      "Epoch 59/100\n",
      " - 148s - loss: 0.3338 - my_iou_metric_2: 0.7997 - val_loss: 0.3623 - val_my_iou_metric_2: 0.7941\n",
      "\n",
      "Epoch 00059: val_my_iou_metric_2 did not improve from 0.79787\n",
      "Epoch 60/100\n",
      " - 148s - loss: 0.3313 - my_iou_metric_2: 0.8012 - val_loss: 0.3618 - val_my_iou_metric_2: 0.7951\n",
      "\n",
      "Epoch 00060: val_my_iou_metric_2 did not improve from 0.79787\n",
      "\n",
      "Epoch 00060: ReduceLROnPlateau reducing learning rate to 0.0003124999930150807.\n",
      "Epoch 61/100\n",
      " - 149s - loss: 0.3285 - my_iou_metric_2: 0.8023 - val_loss: 0.3559 - val_my_iou_metric_2: 0.7970\n",
      "\n",
      "Epoch 00061: val_my_iou_metric_2 did not improve from 0.79787\n",
      "Epoch 62/100\n",
      " - 150s - loss: 0.3254 - my_iou_metric_2: 0.8058 - val_loss: 0.3597 - val_my_iou_metric_2: 0.7964\n",
      "\n",
      "Epoch 00062: val_my_iou_metric_2 did not improve from 0.79787\n",
      "Epoch 63/100\n",
      " - 152s - loss: 0.3206 - my_iou_metric_2: 0.8076 - val_loss: 0.3565 - val_my_iou_metric_2: 0.7969\n",
      "\n",
      "Epoch 00063: val_my_iou_metric_2 did not improve from 0.79787\n",
      "Epoch 64/100\n",
      " - 150s - loss: 0.3227 - my_iou_metric_2: 0.8067 - val_loss: 0.3578 - val_my_iou_metric_2: 0.7959\n",
      "\n",
      "Epoch 00064: val_my_iou_metric_2 did not improve from 0.79787\n",
      "Epoch 65/100\n",
      " - 149s - loss: 0.3241 - my_iou_metric_2: 0.8053 - val_loss: 0.3570 - val_my_iou_metric_2: 0.7981\n",
      "\n",
      "Epoch 00065: val_my_iou_metric_2 improved from 0.79787 to 0.79812, saving model to Unet_resnet_v5.model\n",
      "Epoch 66/100\n",
      " - 149s - loss: 0.3246 - my_iou_metric_2: 0.8055 - val_loss: 0.3582 - val_my_iou_metric_2: 0.7981\n",
      "\n",
      "Epoch 00066: val_my_iou_metric_2 improved from 0.79812 to 0.79813, saving model to Unet_resnet_v5.model\n",
      "Epoch 67/100\n",
      " - 153s - loss: 0.3224 - my_iou_metric_2: 0.8064 - val_loss: 0.3563 - val_my_iou_metric_2: 0.7987\n",
      "\n",
      "Epoch 00067: val_my_iou_metric_2 improved from 0.79813 to 0.79875, saving model to Unet_resnet_v5.model\n",
      "Epoch 68/100\n",
      " - 155s - loss: 0.3238 - my_iou_metric_2: 0.8051 - val_loss: 0.3567 - val_my_iou_metric_2: 0.7987\n",
      "\n",
      "Epoch 00068: val_my_iou_metric_2 did not improve from 0.79875\n",
      "Epoch 69/100\n",
      " - 151s - loss: 0.3231 - my_iou_metric_2: 0.8063 - val_loss: 0.3601 - val_my_iou_metric_2: 0.7966\n",
      "\n",
      "Epoch 00069: val_my_iou_metric_2 did not improve from 0.79875\n",
      "Epoch 70/100\n",
      " - 149s - loss: 0.3217 - my_iou_metric_2: 0.8069 - val_loss: 0.3540 - val_my_iou_metric_2: 0.7995\n",
      "\n",
      "Epoch 00070: val_my_iou_metric_2 improved from 0.79875 to 0.79950, saving model to Unet_resnet_v5.model\n",
      "Epoch 71/100\n",
      " - 154s - loss: 0.3196 - my_iou_metric_2: 0.8083 - val_loss: 0.3620 - val_my_iou_metric_2: 0.7956\n",
      "\n",
      "Epoch 00071: val_my_iou_metric_2 did not improve from 0.79950\n",
      "Epoch 72/100\n",
      " - 152s - loss: 0.3220 - my_iou_metric_2: 0.8063 - val_loss: 0.3617 - val_my_iou_metric_2: 0.7953\n",
      "\n",
      "Epoch 00072: val_my_iou_metric_2 did not improve from 0.79950\n",
      "Epoch 73/100\n",
      " - 147s - loss: 0.3220 - my_iou_metric_2: 0.8068 - val_loss: 0.3521 - val_my_iou_metric_2: 0.8010\n",
      "\n",
      "Epoch 00073: val_my_iou_metric_2 improved from 0.79950 to 0.80100, saving model to Unet_resnet_v5.model\n",
      "Epoch 74/100\n",
      " - 153s - loss: 0.3207 - my_iou_metric_2: 0.8069 - val_loss: 0.3562 - val_my_iou_metric_2: 0.7995\n",
      "\n",
      "Epoch 00074: val_my_iou_metric_2 did not improve from 0.80100\n",
      "Epoch 75/100\n",
      " - 154s - loss: 0.3203 - my_iou_metric_2: 0.8076 - val_loss: 0.3602 - val_my_iou_metric_2: 0.7976\n",
      "\n",
      "Epoch 00075: val_my_iou_metric_2 did not improve from 0.80100\n",
      "Epoch 76/100\n",
      " - 153s - loss: 0.3190 - my_iou_metric_2: 0.8084 - val_loss: 0.3527 - val_my_iou_metric_2: 0.8011\n",
      "\n",
      "Epoch 00076: val_my_iou_metric_2 improved from 0.80100 to 0.80112, saving model to Unet_resnet_v5.model\n",
      "Epoch 77/100\n",
      " - 159s - loss: 0.3175 - my_iou_metric_2: 0.8089 - val_loss: 0.3530 - val_my_iou_metric_2: 0.8018\n",
      "\n",
      "Epoch 00077: val_my_iou_metric_2 improved from 0.80112 to 0.80175, saving model to Unet_resnet_v5.model\n",
      "Epoch 78/100\n",
      " - 147s - loss: 0.3182 - my_iou_metric_2: 0.8084 - val_loss: 0.3491 - val_my_iou_metric_2: 0.8039\n",
      "\n",
      "Epoch 00078: val_my_iou_metric_2 improved from 0.80175 to 0.80387, saving model to Unet_resnet_v5.model\n",
      "Epoch 79/100\n",
      " - 147s - loss: 0.3245 - my_iou_metric_2: 0.8061 - val_loss: 0.3518 - val_my_iou_metric_2: 0.8029\n",
      "\n",
      "Epoch 00079: val_my_iou_metric_2 did not improve from 0.80387\n",
      "Epoch 80/100\n",
      " - 147s - loss: 0.3239 - my_iou_metric_2: 0.8064 - val_loss: 0.3451 - val_my_iou_metric_2: 0.8041\n",
      "\n",
      "Epoch 00080: val_my_iou_metric_2 improved from 0.80387 to 0.80413, saving model to Unet_resnet_v5.model\n",
      "Epoch 81/100\n",
      " - 147s - loss: 0.3207 - my_iou_metric_2: 0.8076 - val_loss: 0.3460 - val_my_iou_metric_2: 0.8040\n",
      "\n",
      "Epoch 00081: val_my_iou_metric_2 did not improve from 0.80413\n",
      "Epoch 82/100\n",
      " - 147s - loss: 0.3202 - my_iou_metric_2: 0.8080 - val_loss: 0.3418 - val_my_iou_metric_2: 0.8061\n",
      "\n",
      "Epoch 00082: val_my_iou_metric_2 improved from 0.80413 to 0.80613, saving model to Unet_resnet_v5.model\n",
      "Epoch 83/100\n",
      " - 147s - loss: 0.3196 - my_iou_metric_2: 0.8082 - val_loss: 0.3519 - val_my_iou_metric_2: 0.8010\n",
      "\n",
      "Epoch 00083: val_my_iou_metric_2 did not improve from 0.80613\n",
      "Epoch 84/100\n",
      " - 147s - loss: 0.3163 - my_iou_metric_2: 0.8091 - val_loss: 0.3547 - val_my_iou_metric_2: 0.7990\n",
      "\n",
      "Epoch 00084: val_my_iou_metric_2 did not improve from 0.80613\n",
      "Epoch 85/100\n",
      " - 147s - loss: 0.3188 - my_iou_metric_2: 0.8087 - val_loss: 0.3488 - val_my_iou_metric_2: 0.8015\n",
      "\n",
      "Epoch 00085: val_my_iou_metric_2 did not improve from 0.80613\n",
      "Epoch 86/100\n",
      " - 147s - loss: 0.3162 - my_iou_metric_2: 0.8099 - val_loss: 0.3472 - val_my_iou_metric_2: 0.8033\n"
     ]
    },
    {
     "name": "stdout",
     "output_type": "stream",
     "text": [
      "\n",
      "Epoch 00086: val_my_iou_metric_2 did not improve from 0.80613\n",
      "Epoch 87/100\n",
      " - 147s - loss: 0.3197 - my_iou_metric_2: 0.8080 - val_loss: 0.3452 - val_my_iou_metric_2: 0.8033\n",
      "\n",
      "Epoch 00087: val_my_iou_metric_2 did not improve from 0.80613\n",
      "\n",
      "Epoch 00087: ReduceLROnPlateau reducing learning rate to 0.00015624999650754035.\n",
      "Epoch 88/100\n",
      " - 147s - loss: 0.3188 - my_iou_metric_2: 0.8081 - val_loss: 0.3425 - val_my_iou_metric_2: 0.8058\n",
      "\n",
      "Epoch 00088: val_my_iou_metric_2 did not improve from 0.80613\n",
      "Epoch 89/100\n",
      " - 147s - loss: 0.3171 - my_iou_metric_2: 0.8087 - val_loss: 0.3432 - val_my_iou_metric_2: 0.8049\n",
      "\n",
      "Epoch 00089: val_my_iou_metric_2 did not improve from 0.80613\n",
      "Epoch 90/100\n",
      " - 147s - loss: 0.3183 - my_iou_metric_2: 0.8085 - val_loss: 0.3439 - val_my_iou_metric_2: 0.8034\n",
      "\n",
      "Epoch 00090: val_my_iou_metric_2 did not improve from 0.80613\n",
      "Epoch 91/100\n",
      " - 147s - loss: 0.3151 - my_iou_metric_2: 0.8102 - val_loss: 0.3553 - val_my_iou_metric_2: 0.7980\n",
      "\n",
      "Epoch 00091: val_my_iou_metric_2 did not improve from 0.80613\n",
      "Epoch 92/100\n",
      " - 147s - loss: 0.3157 - my_iou_metric_2: 0.8102 - val_loss: 0.3583 - val_my_iou_metric_2: 0.7974\n",
      "\n",
      "Epoch 00092: val_my_iou_metric_2 did not improve from 0.80613\n",
      "\n",
      "Epoch 00092: ReduceLROnPlateau reducing learning rate to 0.0001.\n",
      "Epoch 93/100\n",
      " - 147s - loss: 0.3114 - my_iou_metric_2: 0.8119 - val_loss: 0.3414 - val_my_iou_metric_2: 0.8054\n",
      "\n",
      "Epoch 00093: val_my_iou_metric_2 did not improve from 0.80613\n",
      "Epoch 94/100\n",
      " - 147s - loss: 0.3149 - my_iou_metric_2: 0.8112 - val_loss: 0.3489 - val_my_iou_metric_2: 0.8009\n",
      "\n",
      "Epoch 00094: val_my_iou_metric_2 did not improve from 0.80613\n",
      "Epoch 95/100\n",
      " - 147s - loss: 0.3149 - my_iou_metric_2: 0.8107 - val_loss: 0.3459 - val_my_iou_metric_2: 0.8022\n",
      "\n",
      "Epoch 00095: val_my_iou_metric_2 did not improve from 0.80613\n",
      "Epoch 96/100\n",
      " - 152s - loss: 0.3151 - my_iou_metric_2: 0.8099 - val_loss: 0.3462 - val_my_iou_metric_2: 0.8026\n",
      "\n",
      "Epoch 00096: val_my_iou_metric_2 did not improve from 0.80613\n",
      "Epoch 97/100\n",
      " - 153s - loss: 0.3162 - my_iou_metric_2: 0.8097 - val_loss: 0.3489 - val_my_iou_metric_2: 0.8024\n",
      "\n",
      "Epoch 00097: val_my_iou_metric_2 did not improve from 0.80613\n",
      "Epoch 98/100\n",
      " - 150s - loss: 0.3134 - my_iou_metric_2: 0.8106 - val_loss: 0.3476 - val_my_iou_metric_2: 0.8024\n",
      "\n",
      "Epoch 00098: val_my_iou_metric_2 did not improve from 0.80613\n",
      "Epoch 99/100\n",
      " - 155s - loss: 0.3126 - my_iou_metric_2: 0.8113 - val_loss: 0.3482 - val_my_iou_metric_2: 0.8021\n",
      "\n",
      "Epoch 00099: val_my_iou_metric_2 did not improve from 0.80613\n",
      "Epoch 100/100\n",
      " - 161s - loss: 0.3157 - my_iou_metric_2: 0.8096 - val_loss: 0.3469 - val_my_iou_metric_2: 0.8031\n",
      "\n",
      "Epoch 00100: val_my_iou_metric_2 did not improve from 0.80613\n"
     ]
    }
   ],
   "source": [
    "# early_stopping = EarlyStopping(monitor='val_my_iou_metric_2', mode = 'max',patience=20, verbose=1)\n",
    "model_checkpoint = ModelCheckpoint(save_model_name,monitor='val_my_iou_metric_2', \n",
    "                                   mode = 'max', save_best_only=True, verbose=1)\n",
    "reduce_lr = ReduceLROnPlateau(monitor='val_my_iou_metric_2', mode = 'max',factor=0.5, patience=5, min_lr=0.0001, verbose=1)\n",
    "epochs = 100\n",
    "batch_size = 32\n",
    "\n",
    "history = model.fit(x_train, y_train,\n",
    "                    validation_data=[x_valid, y_valid], \n",
    "                    epochs=epochs,\n",
    "                    batch_size=batch_size,\n",
    "                    callbacks=[ model_checkpoint,reduce_lr,early_stopping], \n",
    "                    verbose=2)"
   ]
  },
  {
   "cell_type": "code",
   "execution_count": 39,
   "metadata": {
    "_uuid": "347c6567c95430f28ec51b94f42603e37a4056db"
   },
   "outputs": [
    {
     "data": {
      "text/plain": [
       "<matplotlib.legend.Legend at 0x7ff627b4b208>"
      ]
     },
     "execution_count": 39,
     "metadata": {},
     "output_type": "execute_result"
    },
    {
     "data": {
      "image/png": "[encoded data removed]",
      "text/plain": [
       "<Figure size 1080x360 with 2 Axes>"
      ]
     },
     "metadata": {},
     "output_type": "display_data"
    }
   ],
   "source": [
    "fig, (ax_loss, ax_score) = plt.subplots(1, 2, figsize=(15,5))\n",
    "ax_loss.plot(history.epoch, history.history[\"loss\"], label=\"Train loss\")\n",
    "ax_loss.plot(history.epoch, history.history[\"val_loss\"], label=\"Validation loss\")\n",
    "ax_loss.legend()\n",
    "ax_score.plot(history.epoch, history.history[\"my_iou_metric_2\"], label=\"Train score\")\n",
    "ax_score.plot(history.epoch, history.history[\"val_my_iou_metric_2\"], label=\"Validation score\")\n",
    "ax_score.legend()"
   ]
  },
  {
   "cell_type": "code",
   "execution_count": 40,
   "metadata": {
    "_uuid": "a081f8f61a713457c8c8f3979a78f75541875456"
   },
   "outputs": [],
   "source": [
    "model = load_model(save_model_name,custom_objects={'my_iou_metric_2': my_iou_metric_2,\n",
    "                                                   'lovasz_loss': lovasz_loss})\n",
    "\n"
   ]
  },
  {
   "cell_type": "code",
   "execution_count": 41,
   "metadata": {
    "_uuid": "f68651e1ce6ad9a461c8f1a25a1250fd489adfed"
   },
   "outputs": [],
   "source": [
    "def predict_result(model,x_test,img_size_target): # predict both orginal and reflect x\n",
    "    x_test_reflect =  np.array([np.fliplr(x) for x in x_test])\n",
    "    preds_test = model.predict(x_test).reshape(-1, img_size_target, img_size_target)\n",
    "    preds_test2_refect = model.predict(x_test_reflect).reshape(-1, img_size_target, img_size_target)\n",
    "    preds_test += np.array([ np.fliplr(x) for x in preds_test2_refect] )\n",
    "    return preds_test/2"
   ]
  },
  {
   "cell_type": "code",
   "execution_count": 42,
   "metadata": {
    "_uuid": "b7a061700364ea17735f953d6bd3c835bc3dc630"
   },
   "outputs": [],
   "source": [
    "preds_valid = predict_result(model,x_valid,img_size_target)"
   ]
  },
  {
   "cell_type": "code",
   "execution_count": 43,
   "metadata": {
    "_uuid": "5a9b1a900a8a4d031978c3b5ef2e739b5661de73"
   },
   "outputs": [],
   "source": [
    "#Score the model and do a threshold optimization by the best IoU.\n",
    "\n",
    "# src: https://www.kaggle.com/aglotero/another-iou-metric\n",
    "def iou_metric(y_true_in, y_pred_in, print_table=False):\n",
    "    labels = y_true_in\n",
    "    y_pred = y_pred_in\n",
    "\n",
    "\n",
    "    true_objects = 2\n",
    "    pred_objects = 2\n",
    "\n",
    "    #  if all zeros, original code  generate wrong  bins [-0.5 0 0.5],\n",
    "    temp1 = np.histogram2d(labels.flatten(), y_pred.flatten(), bins=([0,0.5,1], [0,0.5, 1]))\n",
    "#     temp1 = np.histogram2d(labels.flatten(), y_pred.flatten(), bins=(true_objects, pred_objects))\n",
    "    #print(temp1)\n",
    "    intersection = temp1[0]\n",
    "    #print(\"temp2 = \",temp1[1])\n",
    "    #print(intersection.shape)\n",
    "   # print(intersection)\n",
    "    # Compute areas (needed for finding the union between all objects)\n",
    "    #print(np.histogram(labels, bins = true_objects))\n",
    "    area_true = np.histogram(labels,bins=[0,0.5,1])[0]\n",
    "    #print(\"area_true = \",area_true)\n",
    "    area_pred = np.histogram(y_pred, bins=[0,0.5,1])[0]\n",
    "    area_true = np.expand_dims(area_true, -1)\n",
    "    area_pred = np.expand_dims(area_pred, 0)\n",
    "\n",
    "    # Compute union\n",
    "    union = area_true + area_pred - intersection\n",
    "  \n",
    "    # Exclude background from the analysis\n",
    "    intersection = intersection[1:,1:]\n",
    "    intersection[intersection == 0] = 1e-9\n",
    "    \n",
    "    union = union[1:,1:]\n",
    "    union[union == 0] = 1e-9\n",
    "\n",
    "    # Compute the intersection over union\n",
    "    iou = intersection / union\n",
    "\n",
    "    # Precision helper function\n",
    "    def precision_at(threshold, iou):\n",
    "        matches = iou > threshold\n",
    "        true_positives = np.sum(matches, axis=1) == 1   # Correct objects\n",
    "        false_positives = np.sum(matches, axis=0) == 0  # Missed objects\n",
    "        false_negatives = np.sum(matches, axis=1) == 0  # Extra objects\n",
    "        tp, fp, fn = np.sum(true_positives), np.sum(false_positives), np.sum(false_negatives)\n",
    "        return tp, fp, fn\n",
    "\n",
    "    # Loop over IoU thresholds\n",
    "    prec = []\n",
    "    if print_table:\n",
    "        print(\"Thresh\\tTP\\tFP\\tFN\\tPrec.\")\n",
    "    for t in np.arange(0.5, 1.0, 0.05):\n",
    "        tp, fp, fn = precision_at(t, iou)\n",
    "        if (tp + fp + fn) > 0:\n",
    "            p = tp / (tp + fp + fn)\n",
    "        else:\n",
    "            p = 0\n",
    "        if print_table:\n",
    "            print(\"{:1.3f}\\t{}\\t{}\\t{}\\t{:1.3f}\".format(t, tp, fp, fn, p))\n",
    "        prec.append(p)\n",
    "    \n",
    "    if print_table:\n",
    "        print(\"AP\\t-\\t-\\t-\\t{:1.3f}\".format(np.mean(prec)))\n",
    "    return np.mean(prec)\n",
    "\n",
    "def iou_metric_batch(y_true_in, y_pred_in):\n",
    "    batch_size = y_true_in.shape[0]\n",
    "    metric = []\n",
    "    for batch in range(batch_size):\n",
    "        value = iou_metric(y_true_in[batch], y_pred_in[batch])\n",
    "        metric.append(value)\n",
    "    return np.mean(metric)\n",
    "\n"
   ]
  },
  {
   "cell_type": "code",
   "execution_count": 44,
   "metadata": {
    "_uuid": "91b1be75d7e8ff74db956c8c846c47ed7576ecb2"
   },
   "outputs": [
    {
     "data": {
      "application/vnd.jupyter.widget-view+json": {
       "model_id": "dbd88abff9d14a57822e632dd7ad81a1",
       "version_major": 2,
       "version_minor": 0
      },
      "text/plain": [
       "HBox(children=(IntProgress(value=0, max=31), HTML(value='')))"
      ]
     },
     "metadata": {},
     "output_type": "display_data"
    },
    {
     "name": "stdout",
     "output_type": "stream",
     "text": [
      "\n",
      "[ 0.800875  0.80075   0.801     0.8015    0.80125   0.80125   0.801375\n",
      "  0.801625  0.802     0.80275   0.802625  0.80225   0.80375   0.80375\n",
      "  0.804     0.80375   0.805375  0.80525   0.805     0.80475   0.8045\n",
      "  0.804625  0.80475   0.803875  0.803875  0.8035    0.803375  0.802875\n",
      "  0.80275   0.802625  0.802   ]\n"
     ]
    }
   ],
   "source": [
    "## Scoring for last model, choose threshold by validation data \n",
    "thresholds_ori = np.linspace(0.3, 0.7, 31)\n",
    "# Reverse sigmoid function: Use code below because the  sigmoid activation was removed\n",
    "thresholds = np.log(thresholds_ori/(1-thresholds_ori)) \n",
    "\n",
    "# ious = np.array([get_iou_vector(y_valid, preds_valid > threshold) for threshold in tqdm_notebook(thresholds)])\n",
    "# print(ious)\n",
    "ious = np.array([iou_metric_batch(y_valid, preds_valid > threshold) for threshold in tqdm_notebook(thresholds)])\n",
    "print(ious)"
   ]
  },
  {
   "cell_type": "code",
   "execution_count": 45,
   "metadata": {
    "_uuid": "1beb285910aa6532d7a69a70afa6a9671e6d347d"
   },
   "outputs": [
    {
     "data": {
      "text/plain": [
       "<matplotlib.legend.Legend at 0x7ff627a43be0>"
      ]
     },
     "execution_count": 45,
     "metadata": {},
     "output_type": "execute_result"
    },
    {
     "data": {
      "image/png": "[encoded data removed]",
      "text/plain": [
       "<Figure size 432x288 with 1 Axes>"
      ]
     },
     "metadata": {},
     "output_type": "display_data"
    }
   ],
   "source": [
    "# instead of using default 0 as threshold, use validation data to find the best threshold.\n",
    "threshold_best_index = np.argmax(ious) \n",
    "iou_best = ious[threshold_best_index]\n",
    "threshold_best = thresholds[threshold_best_index]\n",
    "\n",
    "plt.plot(thresholds, ious)\n",
    "plt.plot(threshold_best, iou_best, \"xr\", label=\"Best threshold\")\n",
    "plt.xlabel(\"Threshold\")\n",
    "plt.ylabel(\"IoU\")\n",
    "plt.title(\"Threshold vs IoU ({}, {})\".format(threshold_best, iou_best))\n",
    "plt.legend()"
   ]
  },
  {
   "cell_type": "code",
   "execution_count": 46,
   "metadata": {
    "_uuid": "2c4852ecf2c504a4ce30e975f5e36b534c2111e6"
   },
   "outputs": [],
   "source": [
    "\"\"\"\n",
    "used for converting the decoded image to rle mask\n",
    "Fast compared to previous one\n",
    "\"\"\"\n",
    "def rle_encode(im):\n",
    "    '''\n",
    "    im: numpy array, 1 - mask, 0 - background\n",
    "    Returns run length as string formated\n",
    "    '''\n",
    "    pixels = im.flatten(order = 'F')\n",
    "    pixels = np.concatenate([[0], pixels, [0]])\n",
    "    runs = np.where(pixels[1:] != pixels[:-1])[0] + 1\n",
    "    runs[1::2] -= runs[::2]\n",
    "    return ' '.join(str(x) for x in runs)"
   ]
  },
  {
   "cell_type": "code",
   "execution_count": 47,
   "metadata": {
    "_uuid": "21bb50645b1c67d907e42c262d92f975668fccac"
   },
   "outputs": [
    {
     "data": {
      "application/vnd.jupyter.widget-view+json": {
       "model_id": "bdbb76c6d399472d88fb64658312a3c4",
       "version_major": 2,
       "version_minor": 0
      },
      "text/plain": [
       "HBox(children=(IntProgress(value=0, max=18000), HTML(value='')))"
      ]
     },
     "metadata": {},
     "output_type": "display_data"
    },
    {
     "name": "stdout",
     "output_type": "stream",
     "text": [
      "\n"
     ]
    }
   ],
   "source": [
    "x_test = np.array([(np.array(load_img(\"../data/test/{}.png\".format(idx), grayscale = True))) / 255 for idx in tqdm_notebook(test_df.index)]).reshape(-1, img_size_target, img_size_target, 1)\n",
    "\n"
   ]
  },
  {
   "cell_type": "code",
   "execution_count": 48,
   "metadata": {
    "_uuid": "ce8185fa64aafbe42ebde98aba984b4f22b0050e"
   },
   "outputs": [],
   "source": [
    "preds_test = predict_result(model,x_test,img_size_target)"
   ]
  },
  {
   "cell_type": "code",
   "execution_count": 49,
   "metadata": {
    "_uuid": "7ccac81a492b9caaff4a25401165e145cf2c6f8e"
   },
   "outputs": [
    {
     "data": {
      "application/vnd.jupyter.widget-view+json": {
       "model_id": "e2061e7b825a48b2889826a2caf56af0",
       "version_major": 2,
       "version_minor": 0
      },
      "text/plain": [
       "HBox(children=(IntProgress(value=0, max=18000), HTML(value='')))"
      ]
     },
     "metadata": {},
     "output_type": "display_data"
    },
    {
     "name": "stdout",
     "output_type": "stream",
     "text": [
      "\n",
      "Usedtime = 7.159364700317383 s\n"
     ]
    }
   ],
   "source": [
    "\n",
    "t1 = time.time()\n",
    "pred_dict = {idx: rle_encode(np.round(downsample(preds_test[i]) > threshold_best)) for i, idx in enumerate(tqdm_notebook(test_df.index.values))}\n",
    "t2 = time.time()\n",
    "\n",
    "print(f\"Usedtime = {t2-t1} s\")"
   ]
  },
  {
   "cell_type": "code",
   "execution_count": 50,
   "metadata": {
    "_uuid": "770d7d596656f4f1ad17a6063ad662ac80e11b24"
   },
   "outputs": [],
   "source": [
    "sub = pd.DataFrame.from_dict(pred_dict,orient='index')\n",
    "sub.index.names = ['id']\n",
    "sub.columns = ['rle_mask']\n",
    "sub.to_csv(submission_file)"
   ]
  },
  {
   "cell_type": "code",
   "execution_count": 51,
   "metadata": {
    "_uuid": "c89c406884ee54bee2c57aff51b116c157553ae9"
   },
   "outputs": [
    {
     "name": "stdout",
     "output_type": "stream",
     "text": [
      "Kernel run time = 5.393080745670531 hours\n"
     ]
    }
   ],
   "source": [
    "t_finish = time.time()\n",
    "print(f\"Kernel run time = {(t_finish-t_start)/3600} hours\")"
   ]
  },
  {
   "cell_type": "code",
   "execution_count": null,
   "metadata": {
    "_uuid": "a3009187c164635fbe163bd8ce406c2e309b1e5f"
   },
   "outputs": [],
   "source": []
  }
 ],
 "metadata": {
  "kernelspec": {
   "display_name": "Python 3",
   "language": "python",
   "name": "python3"
  },
  "language_info": {
   "codemirror_mode": {
    "name": "ipython",
    "version": 3
   },
   "file_extension": ".py",
   "mimetype": "text/x-python",
   "name": "python",
   "nbconvert_exporter": "python",
   "pygments_lexer": "ipython3",
   "version": "3.6.5"
  }
 },
 "nbformat": 4,
 "nbformat_minor": 1
}
