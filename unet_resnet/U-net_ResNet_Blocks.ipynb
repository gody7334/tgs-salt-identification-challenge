{
 "cells": [
  {
   "cell_type": "markdown",
   "metadata": {
    "_uuid": "c8fc6c3e84f282d0e6f664caf9848297b6c62a16"
   },
   "source": [
    "### U-net with simple Resnet Blocks\n",
    "#### update log\n",
    "1. Correct the errors to in function iou_metric,  use \"my_iou_metric\" to moniter the training\n",
    "2. Use image size 101 x 101, no resizing\n",
    "3. Last layer dropout reduced by half\n",
    "4. replace conv2D with 2 basic resnet blocks in each level of U-net\n",
    "5.  Use faster rle_encode (> 10 times fater than RLenc ) from (https://www.kaggle.com/lpachuong/apply-crf-unet-bn-diceloss)\n",
    "6. set  random_state= 1234 \n",
    "\n",
    "Reference kernels:\n",
    "\n",
    "https://www.kaggle.com/phoenigs/u-net-dropout-augmentation-stratification\n",
    "\n",
    "https://www.kaggle.com/tgibbons/u-net-without-resizing-images\n",
    "\n",
    "https://www.kaggle.com/lpachuong/apply-crf-unet-bn-diceloss\n",
    "\n",
    "The results seems not reproducible,  sometimes good (best around IOU0.79 ), sometimes  not as good!\n",
    "Any suggestions to improve the results?"
   ]
  },
  {
   "cell_type": "code",
   "execution_count": 1,
   "metadata": {
    "_cell_guid": "b1076dfc-b9ad-4769-8c92-a6c4dae69d19",
    "_uuid": "8f2839f25d086af736a60e9eeb907d3b93b6e0e5"
   },
   "outputs": [
    {
     "name": "stderr",
     "output_type": "stream",
     "text": [
      "Using TensorFlow backend.\n"
     ]
    }
   ],
   "source": [
    "import os\n",
    "import sys\n",
    "import random\n",
    "\n",
    "import pandas as pd\n",
    "import numpy as np\n",
    "import matplotlib.pyplot as plt\n",
    "plt.style.use('seaborn-white')\n",
    "import seaborn as sns\n",
    "sns.set_style(\"white\")\n",
    "\n",
    "%matplotlib inline\n",
    "\n",
    "# import cv2\n",
    "from sklearn.model_selection import train_test_split\n",
    "\n",
    "from tqdm import tqdm_notebook, tnrange\n",
    "from itertools import chain\n",
    "from skimage.io import imread, imshow, concatenate_images\n",
    "from skimage.transform import resize\n",
    "from skimage.morphology import label\n",
    "\n",
    "from keras.models import Model, load_model\n",
    "from keras.layers import Input,Dropout,BatchNormalization,Activation,Add\n",
    "from keras.layers.core import Lambda\n",
    "from keras.layers.convolutional import Conv2D, Conv2DTranspose\n",
    "from keras.layers.pooling import MaxPooling2D\n",
    "from keras.layers.merge import concatenate\n",
    "from keras.callbacks import EarlyStopping, ModelCheckpoint, ReduceLROnPlateau\n",
    "from keras import backend as K\n",
    "\n",
    "import tensorflow as tf\n",
    "\n",
    "os.environ[\"CUDA_VISIBLE_DEVICES\"]=\"1\"\n",
    "\n",
    "from keras.preprocessing.image import ImageDataGenerator, array_to_img, img_to_array, load_img#,save_img"
   ]
  },
  {
   "cell_type": "code",
   "execution_count": 2,
   "metadata": {
    "_cell_guid": "79c7e3d0-c299-4dcb-8224-4455121ee9b0",
    "_uuid": "d629ff2d2480ee46fbb7e2d37f6b5fab8052498a"
   },
   "outputs": [],
   "source": [
    "# Set some parameters\n",
    "img_size_ori = 101\n",
    "img_size_target = 101\n",
    "im_width = 101\n",
    "im_height = 101\n",
    "im_chan = 1\n",
    "\n",
    "basicpath = '../data/'\n",
    "path_train_images = basicpath + 'train/'\n",
    "path_train_masks = basicpath + 'masks/'\n",
    "path_test_images = basicpath + 'test/'\n",
    "\n"
   ]
  },
  {
   "cell_type": "code",
   "execution_count": 3,
   "metadata": {
    "_uuid": "1a64babef03b9a0dbc94387a1dad54971c3e028d"
   },
   "outputs": [
    {
     "data": {
      "text/plain": [
       "4000"
      ]
     },
     "execution_count": 3,
     "metadata": {},
     "output_type": "execute_result"
    }
   ],
   "source": [
    "# Loading of training/testing ids and depths\n",
    "\n",
    "train_df = pd.read_csv(\"../data/train.csv\", index_col=\"id\", usecols=[0])\n",
    "depths_df = pd.read_csv(\"../data/depths.csv\", index_col=\"id\")\n",
    "train_df = train_df.join(depths_df)\n",
    "test_df = depths_df[~depths_df.index.isin(train_df.index)]\n",
    "\n",
    "len(train_df)"
   ]
  },
  {
   "cell_type": "code",
   "execution_count": 4,
   "metadata": {
    "_uuid": "80c3768717007fb5f087d3e01619f1a9f9a3beac"
   },
   "outputs": [
    {
     "data": {
      "application/vnd.jupyter.widget-view+json": {
       "model_id": "edbbb274d9564ce6954e77bdb802b315",
       "version_major": 2,
       "version_minor": 0
      },
      "text/plain": [
       "HBox(children=(IntProgress(value=0, max=4000), HTML(value='')))"
      ]
     },
     "metadata": {},
     "output_type": "display_data"
    },
    {
     "name": "stdout",
     "output_type": "stream",
     "text": [
      "\n"
     ]
    }
   ],
   "source": [
    "train_df[\"images\"] = [np.array(load_img(\"../data/train/{}.png\".format(idx), grayscale=True)) / 255 for idx in tqdm_notebook(train_df.index)]"
   ]
  },
  {
   "cell_type": "code",
   "execution_count": 5,
   "metadata": {
    "_uuid": "9f55103f7daad6f03ec874c643077fe686c31bee"
   },
   "outputs": [
    {
     "data": {
      "application/vnd.jupyter.widget-view+json": {
       "model_id": "174b79303ef4438eb2a1f6cba4c94014",
       "version_major": 2,
       "version_minor": 0
      },
      "text/plain": [
       "HBox(children=(IntProgress(value=0, max=4000), HTML(value='')))"
      ]
     },
     "metadata": {},
     "output_type": "display_data"
    },
    {
     "name": "stdout",
     "output_type": "stream",
     "text": [
      "\n"
     ]
    }
   ],
   "source": [
    "train_df[\"masks\"] = [np.array(load_img(\"../data/masks/{}.png\".format(idx), grayscale=True)) / 255 for idx in tqdm_notebook(train_df.index)]"
   ]
  },
  {
   "cell_type": "code",
   "execution_count": 6,
   "metadata": {
    "_uuid": "010066dd50ef4fdfa7dabe2c946fd7491f9556fd"
   },
   "outputs": [],
   "source": [
    "train_df[\"coverage\"] = train_df.masks.map(np.sum) / pow(img_size_ori, 2)\n",
    "\n",
    "def cov_to_class(val):    \n",
    "    for i in range(0, 11):\n",
    "        if val * 10 <= i :\n",
    "            return i\n",
    "        \n",
    "train_df[\"coverage_class\"] = train_df.coverage.map(cov_to_class)\n"
   ]
  },
  {
   "cell_type": "code",
   "execution_count": 7,
   "metadata": {
    "_uuid": "2ad5ac1576277fc54d768933c36efd1f9ff01acd"
   },
   "outputs": [
    {
     "name": "stderr",
     "output_type": "stream",
     "text": [
      "/opt/conda/lib/python3.6/site-packages/matplotlib/axes/_axes.py:6462: UserWarning: The 'normed' kwarg is deprecated, and has been replaced by the 'density' kwarg.\n",
      "  warnings.warn(\"The 'normed' kwarg is deprecated, and has been \"\n",
      "/opt/conda/lib/python3.6/site-packages/matplotlib/axes/_axes.py:6462: UserWarning: The 'normed' kwarg is deprecated, and has been replaced by the 'density' kwarg.\n",
      "  warnings.warn(\"The 'normed' kwarg is deprecated, and has been \"\n"
     ]
    },
    {
     "data": {
      "text/plain": [
       "Text(0.5,0,'Coverage class')"
      ]
     },
     "execution_count": 7,
     "metadata": {},
     "output_type": "execute_result"
    },
    {
     "data": {
      "image/png": "[encoded data removed]",
      "text/plain": [
       "<Figure size 1080x360 with 2 Axes>"
      ]
     },
     "metadata": {},
     "output_type": "display_data"
    }
   ],
   "source": [
    "fig, axs = plt.subplots(1, 2, figsize=(15,5))\n",
    "sns.distplot(train_df.coverage, kde=False, ax=axs[0])\n",
    "sns.distplot(train_df.coverage_class, bins=10, kde=False, ax=axs[1])\n",
    "plt.suptitle(\"Salt coverage\")\n",
    "axs[0].set_xlabel(\"Coverage\")\n",
    "axs[1].set_xlabel(\"Coverage class\")"
   ]
  },
  {
   "cell_type": "code",
   "execution_count": 8,
   "metadata": {
    "_uuid": "9f34c4263989a3d95af1e5922c1b7d2126655610"
   },
   "outputs": [
    {
     "name": "stderr",
     "output_type": "stream",
     "text": [
      "/opt/conda/lib/python3.6/site-packages/matplotlib/axes/_axes.py:6462: UserWarning: The 'normed' kwarg is deprecated, and has been replaced by the 'density' kwarg.\n",
      "  warnings.warn(\"The 'normed' kwarg is deprecated, and has been \"\n",
      "/opt/conda/lib/python3.6/site-packages/matplotlib/axes/_axes.py:6462: UserWarning: The 'normed' kwarg is deprecated, and has been replaced by the 'density' kwarg.\n",
      "  warnings.warn(\"The 'normed' kwarg is deprecated, and has been \"\n"
     ]
    },
    {
     "data": {
      "text/plain": [
       "Text(0.5,1,'Depth distribution')"
      ]
     },
     "execution_count": 8,
     "metadata": {},
     "output_type": "execute_result"
    },
    {
     "data": {
      "image/png": "[encoded data removed]",
      "text/plain": [
       "<Figure size 432x288 with 1 Axes>"
      ]
     },
     "metadata": {},
     "output_type": "display_data"
    }
   ],
   "source": [
    "#Plotting the depth distributions¶\n",
    "\n",
    "sns.distplot(train_df.z, label=\"Train\")\n",
    "sns.distplot(test_df.z, label=\"Test\")\n",
    "plt.legend()\n",
    "plt.title(\"Depth distribution\")"
   ]
  },
  {
   "cell_type": "code",
   "execution_count": 9,
   "metadata": {
    "_uuid": "51981795f0dd6b8ca7abe4db367f48313b63811e"
   },
   "outputs": [],
   "source": [
    "# Create train/validation split stratified by salt coverage\n",
    "\n",
    "ids_train, ids_valid, x_train, x_valid, y_train, y_valid, cov_train, cov_test, depth_train, depth_test = train_test_split(\n",
    "    train_df.index.values,\n",
    "    np.array(train_df.images.tolist()).reshape(-1, img_size_target, img_size_target, 1), \n",
    "    np.array(train_df.masks.tolist()).reshape(-1, img_size_target, img_size_target, 1), \n",
    "    train_df.coverage.values,\n",
    "    train_df.z.values,\n",
    "    test_size=0.2, stratify=train_df.coverage_class, random_state= 1234)"
   ]
  },
  {
   "cell_type": "code",
   "execution_count": 10,
   "metadata": {
    "_uuid": "7fb577cdf27f365d4a912728c2a7654d0e60fac8"
   },
   "outputs": [],
   "source": [
    "ACTIVATION = \"relu\"\n",
    "\n",
    "def convolution_block(x, filters, size, strides=(1,1), padding='same', activation=True):\n",
    "    x = Conv2D(filters, size, strides=strides, padding=padding)(x)\n",
    "    x = BatchNormalization()(x)\n",
    "    if activation == True:\n",
    "        x = Activation(ACTIVATION)(x)\n",
    "    return x\n",
    "\n",
    "def residual_block(blockInput, num_filters=16):\n",
    "    x = Activation(ACTIVATION)(blockInput)\n",
    "    x = BatchNormalization()(x)\n",
    "    x = convolution_block(x, num_filters, (3,3) )\n",
    "    x = convolution_block(x, num_filters, (3,3), activation=False)\n",
    "    x = Add()([x, blockInput])\n",
    "    return x\n"
   ]
  },
  {
   "cell_type": "code",
   "execution_count": 11,
   "metadata": {
    "_uuid": "02967d71ee7f936254ab54acf2aa7c2e038a2b21"
   },
   "outputs": [],
   "source": [
    "# Build model\n",
    "def build_model(input_layer, start_neurons, DropoutRatio = 0.5):\n",
    "    # 101 -> 50\n",
    "    conv1 = Conv2D(start_neurons * 1, (3, 3), activation=None, padding=\"same\")(input_layer)\n",
    "    conv1 = residual_block(conv1,start_neurons * 1)\n",
    "    conv1 = residual_block(conv1,start_neurons * 1)\n",
    "    conv1 = Activation(ACTIVATION)(conv1)\n",
    "    pool1 = MaxPooling2D((2, 2))(conv1)\n",
    "    pool1 = Dropout(DropoutRatio/2)(pool1)\n",
    "\n",
    "    # 50 -> 25\n",
    "    conv2 = Conv2D(start_neurons * 2, (3, 3), activation=None, padding=\"same\")(pool1)\n",
    "    conv2 = residual_block(conv2,start_neurons * 2)\n",
    "    conv2 = residual_block(conv2,start_neurons * 2)\n",
    "    conv2 = Activation(ACTIVATION)(conv2)\n",
    "    pool2 = MaxPooling2D((2, 2))(conv2)\n",
    "    pool2 = Dropout(DropoutRatio)(pool2)\n",
    "\n",
    "    # 25 -> 12\n",
    "    conv3 = Conv2D(start_neurons * 4, (3, 3), activation=None, padding=\"same\")(pool2)\n",
    "    conv3 = residual_block(conv3,start_neurons * 4)\n",
    "    conv3 = residual_block(conv3,start_neurons * 4)\n",
    "    conv3 = Activation(ACTIVATION)(conv3)\n",
    "    pool3 = MaxPooling2D((2, 2))(conv3)\n",
    "    pool3 = Dropout(DropoutRatio)(pool3)\n",
    "\n",
    "    # 12 -> 6\n",
    "    conv4 = Conv2D(start_neurons * 8, (3, 3), activation=None, padding=\"same\")(pool3)\n",
    "    conv4 = residual_block(conv4,start_neurons * 8)\n",
    "    conv4 = residual_block(conv4,start_neurons * 8)\n",
    "    conv4 = Activation(ACTIVATION)(conv4)\n",
    "    pool4 = MaxPooling2D((2, 2))(conv4)\n",
    "    pool4 = Dropout(DropoutRatio)(pool4)\n",
    "\n",
    "    # Middle\n",
    "    convm = Conv2D(start_neurons * 16, (3, 3), activation=None, padding=\"same\")(pool4)\n",
    "    convm = residual_block(convm,start_neurons * 16)\n",
    "    convm = residual_block(convm,start_neurons * 16)\n",
    "    convm = Activation(ACTIVATION)(convm)\n",
    "    \n",
    "    # 6 -> 12\n",
    "    deconv4 = Conv2DTranspose(start_neurons * 8, (3, 3), strides=(2, 2), padding=\"same\")(convm)\n",
    "    uconv4 = concatenate([deconv4, conv4])\n",
    "    uconv4 = Dropout(DropoutRatio)(uconv4)\n",
    "    \n",
    "    uconv4 = Conv2D(start_neurons * 8, (3, 3), activation=None, padding=\"same\")(uconv4)\n",
    "    uconv4 = residual_block(uconv4,start_neurons * 8)\n",
    "    uconv4 = residual_block(uconv4,start_neurons * 8)\n",
    "    uconv4 = Activation(ACTIVATION)(uconv4)\n",
    "    \n",
    "    # 12 -> 25\n",
    "    #deconv3 = Conv2DTranspose(start_neurons * 4, (3, 3), strides=(2, 2), padding=\"same\")(uconv4)\n",
    "    deconv3 = Conv2DTranspose(start_neurons * 4, (3, 3), strides=(2, 2), padding=\"valid\")(uconv4)\n",
    "    uconv3 = concatenate([deconv3, conv3])    \n",
    "    uconv3 = Dropout(DropoutRatio)(uconv3)\n",
    "    \n",
    "    uconv3 = Conv2D(start_neurons * 4, (3, 3), activation=None, padding=\"same\")(uconv3)\n",
    "    uconv3 = residual_block(uconv3,start_neurons * 4)\n",
    "    uconv3 = residual_block(uconv3,start_neurons * 4)\n",
    "    uconv3 = Activation(ACTIVATION)(uconv3)\n",
    "\n",
    "    # 25 -> 50\n",
    "    deconv2 = Conv2DTranspose(start_neurons * 2, (3, 3), strides=(2, 2), padding=\"same\")(uconv3)\n",
    "    uconv2 = concatenate([deconv2, conv2])\n",
    "        \n",
    "    uconv2 = Dropout(DropoutRatio)(uconv2)\n",
    "    uconv2 = Conv2D(start_neurons * 2, (3, 3), activation=None, padding=\"same\")(uconv2)\n",
    "    uconv2 = residual_block(uconv2,start_neurons * 2)\n",
    "    uconv2 = residual_block(uconv2,start_neurons * 2)\n",
    "    uconv2 = Activation(ACTIVATION)(uconv2)\n",
    "    \n",
    "    # 50 -> 101\n",
    "    #deconv1 = Conv2DTranspose(start_neurons * 1, (3, 3), strides=(2, 2), padding=\"same\")(uconv2)\n",
    "    deconv1 = Conv2DTranspose(start_neurons * 1, (3, 3), strides=(2, 2), padding=\"valid\")(uconv2)\n",
    "    uconv1 = concatenate([deconv1, conv1])\n",
    "    \n",
    "    uconv1 = Dropout(DropoutRatio)(uconv1)\n",
    "    uconv1 = Conv2D(start_neurons * 1, (3, 3), activation=None, padding=\"same\")(uconv1)\n",
    "    uconv1 = residual_block(uconv1,start_neurons * 1)\n",
    "    uconv1 = residual_block(uconv1,start_neurons * 1)\n",
    "    uconv1 = Activation(ACTIVATION)(uconv1)\n",
    "    \n",
    "    uconv1 = Dropout(DropoutRatio/2)(uconv1)\n",
    "    output_layer = Conv2D(1, (1,1), padding=\"same\", activation=\"sigmoid\")(uconv1)\n",
    "    \n",
    "    return output_layer"
   ]
  },
  {
   "cell_type": "code",
   "execution_count": 12,
   "metadata": {
    "_uuid": "b9d158f567c829c55139acc9e79a41761d911726"
   },
   "outputs": [],
   "source": [
    "thresholds = np.array([0.5, 0.55, 0.6, 0.65, 0.7, 0.75, 0.8, 0.85, 0.9, 0.95])\n",
    "\n",
    "def iou(img_true, img_pred):\n",
    "    i = np.sum((img_true*img_pred) >0)\n",
    "    u = np.sum((img_true + img_pred) >0)\n",
    "    if u == 0:\n",
    "        return u\n",
    "    return i/u\n",
    "\n",
    "def iou_metric(imgs_true, imgs_pred):\n",
    "    num_images = len(imgs_true)\n",
    "    scores = np.zeros(num_images)\n",
    "    \n",
    "    for i in range(num_images):\n",
    "        if imgs_true[i].sum() == imgs_pred[i].sum() == 0:\n",
    "            scores[i] = 1\n",
    "        else:\n",
    "            scores[i] = (thresholds <= iou(imgs_true[i], imgs_pred[i])).mean()\n",
    "            \n",
    "    return scores.mean()"
   ]
  },
  {
   "cell_type": "code",
   "execution_count": 13,
   "metadata": {
    "_uuid": "072ab621d38cc93d26998f391357cb6efc791600"
   },
   "outputs": [
    {
     "name": "stdout",
     "output_type": "stream",
     "text": [
      "(6400, 101, 101, 1)\n",
      "(800, 101, 101, 1)\n"
     ]
    }
   ],
   "source": [
    "#Data augmentation\n",
    "x_train = np.append(x_train, [np.fliplr(x) for x in x_train], axis=0)\n",
    "y_train = np.append(y_train, [np.fliplr(x) for x in y_train], axis=0)\n",
    "print(x_train.shape)\n",
    "print(y_valid.shape)"
   ]
  },
  {
   "cell_type": "code",
   "execution_count": 14,
   "metadata": {
    "_uuid": "30622932f68888e895a9b8cac91810a1bb3c5e75"
   },
   "outputs": [],
   "source": [
    "# model\n",
    "input_layer = Input((img_size_target, img_size_target, 1))\n",
    "output_layer = build_model(input_layer, 16,0.5)\n",
    "\n",
    "model = Model(input_layer, output_layer)\n",
    "model.compile(loss=\"binary_crossentropy\", optimizer=\"adam\", metrics=[\"acc\"])"
   ]
  },
  {
   "cell_type": "code",
   "execution_count": 15,
   "metadata": {
    "_uuid": "41699081be465c14e193ffad4fd00bd56840f156",
    "scrolled": true
   },
   "outputs": [
    {
     "name": "stdout",
     "output_type": "stream",
     "text": [
      "Train on 6400 samples, validate on 800 samples\n",
      "Epoch 1/200\n",
      "6400/6400 [==============================] - 91s 14ms/step - loss: 0.3752 - acc: 0.8519 - val_loss: 0.4249 - val_acc: 0.8522\n",
      "\n",
      "Epoch 00001: val_acc improved from -inf to 0.85224, saving model to ./unet_best1.model\n",
      "Epoch 2/200\n",
      "6400/6400 [==============================] - 44s 7ms/step - loss: 0.2804 - acc: 0.8971 - val_loss: 0.2924 - val_acc: 0.8975\n",
      "\n",
      "Epoch 00002: val_acc improved from 0.85224 to 0.89749, saving model to ./unet_best1.model\n",
      "Epoch 3/200\n",
      "6400/6400 [==============================] - 49s 8ms/step - loss: 0.2462 - acc: 0.9089 - val_loss: 0.3736 - val_acc: 0.8638\n",
      "\n",
      "Epoch 00003: val_acc did not improve from 0.89749\n",
      "Epoch 4/200\n",
      "6400/6400 [==============================] - 50s 8ms/step - loss: 0.2223 - acc: 0.9179 - val_loss: 0.2157 - val_acc: 0.9271\n",
      "\n",
      "Epoch 00004: val_acc improved from 0.89749 to 0.92713, saving model to ./unet_best1.model\n",
      "Epoch 5/200\n",
      "6400/6400 [==============================] - 50s 8ms/step - loss: 0.2098 - acc: 0.9215 - val_loss: 0.3032 - val_acc: 0.8635\n",
      "\n",
      "Epoch 00005: val_acc did not improve from 0.92713\n",
      "Epoch 6/200\n",
      "6400/6400 [==============================] - 44s 7ms/step - loss: 0.2037 - acc: 0.9258 - val_loss: 0.2935 - val_acc: 0.8996\n",
      "\n",
      "Epoch 00006: val_acc did not improve from 0.92713\n",
      "Epoch 7/200\n",
      "6400/6400 [==============================] - 49s 8ms/step - loss: 0.1848 - acc: 0.9320 - val_loss: 0.2049 - val_acc: 0.9292\n",
      "\n",
      "Epoch 00007: val_acc improved from 0.92713 to 0.92925, saving model to ./unet_best1.model\n",
      "Epoch 8/200\n",
      "6400/6400 [==============================] - 51s 8ms/step - loss: 0.1781 - acc: 0.9340 - val_loss: 0.2504 - val_acc: 0.9194\n",
      "\n",
      "Epoch 00008: val_acc did not improve from 0.92925\n",
      "Epoch 9/200\n",
      "6400/6400 [==============================] - 50s 8ms/step - loss: 0.1753 - acc: 0.9351 - val_loss: 0.2236 - val_acc: 0.9269\n",
      "\n",
      "Epoch 00009: val_acc did not improve from 0.92925\n",
      "Epoch 10/200\n",
      "6400/6400 [==============================] - 44s 7ms/step - loss: 0.1652 - acc: 0.9380 - val_loss: 0.1819 - val_acc: 0.9288\n",
      "\n",
      "Epoch 00010: val_acc did not improve from 0.92925\n",
      "Epoch 11/200\n",
      "6400/6400 [==============================] - 49s 8ms/step - loss: 0.1729 - acc: 0.9348 - val_loss: 0.2061 - val_acc: 0.9294\n",
      "\n",
      "Epoch 00011: val_acc improved from 0.92925 to 0.92937, saving model to ./unet_best1.model\n",
      "Epoch 12/200\n",
      "6400/6400 [==============================] - 52s 8ms/step - loss: 0.1558 - acc: 0.9414 - val_loss: 0.1964 - val_acc: 0.9319\n",
      "\n",
      "Epoch 00012: val_acc improved from 0.92937 to 0.93191, saving model to ./unet_best1.model\n",
      "Epoch 13/200\n",
      "6400/6400 [==============================] - 50s 8ms/step - loss: 0.1546 - acc: 0.9421 - val_loss: 0.3566 - val_acc: 0.8723\n",
      "\n",
      "Epoch 00013: val_acc did not improve from 0.93191\n",
      "Epoch 14/200\n",
      "6400/6400 [==============================] - 44s 7ms/step - loss: 0.1546 - acc: 0.9415 - val_loss: 0.2448 - val_acc: 0.9175\n",
      "\n",
      "Epoch 00014: val_acc did not improve from 0.93191\n",
      "Epoch 15/200\n",
      "6400/6400 [==============================] - 48s 7ms/step - loss: 0.1606 - acc: 0.9394 - val_loss: 0.1674 - val_acc: 0.9370\n",
      "\n",
      "Epoch 00015: val_acc improved from 0.93191 to 0.93703, saving model to ./unet_best1.model\n",
      "Epoch 16/200\n",
      "6400/6400 [==============================] - 51s 8ms/step - loss: 0.1459 - acc: 0.9444 - val_loss: 0.1631 - val_acc: 0.9440\n",
      "\n",
      "Epoch 00016: val_acc improved from 0.93703 to 0.94404, saving model to ./unet_best1.model\n",
      "Epoch 17/200\n",
      "6400/6400 [==============================] - 52s 8ms/step - loss: 0.1416 - acc: 0.9466 - val_loss: 0.1452 - val_acc: 0.9452\n",
      "\n",
      "Epoch 00017: val_acc improved from 0.94404 to 0.94518, saving model to ./unet_best1.model\n",
      "Epoch 18/200\n",
      "6400/6400 [==============================] - 44s 7ms/step - loss: 0.1355 - acc: 0.9479 - val_loss: 0.1535 - val_acc: 0.9385\n",
      "\n",
      "Epoch 00018: val_acc did not improve from 0.94518\n",
      "Epoch 19/200\n",
      "6400/6400 [==============================] - 49s 8ms/step - loss: 0.1368 - acc: 0.9479 - val_loss: 0.1754 - val_acc: 0.9309\n",
      "\n",
      "Epoch 00019: val_acc did not improve from 0.94518\n",
      "Epoch 20/200\n",
      "6400/6400 [==============================] - 49s 8ms/step - loss: 0.1345 - acc: 0.9497 - val_loss: 0.1515 - val_acc: 0.9415\n",
      "\n",
      "Epoch 00020: val_acc did not improve from 0.94518\n",
      "Epoch 21/200\n",
      "6400/6400 [==============================] - 51s 8ms/step - loss: 0.1350 - acc: 0.9506 - val_loss: 0.1434 - val_acc: 0.9501\n",
      "\n",
      "Epoch 00021: val_acc improved from 0.94518 to 0.95012, saving model to ./unet_best1.model\n",
      "Epoch 22/200\n",
      "6400/6400 [==============================] - 45s 7ms/step - loss: 0.1289 - acc: 0.9507 - val_loss: 0.1564 - val_acc: 0.9380\n",
      "\n",
      "Epoch 00022: val_acc did not improve from 0.95012\n",
      "Epoch 23/200\n",
      "6400/6400 [==============================] - 47s 7ms/step - loss: 0.1288 - acc: 0.9511 - val_loss: 0.1403 - val_acc: 0.9504\n",
      "\n",
      "Epoch 00023: val_acc improved from 0.95012 to 0.95042, saving model to ./unet_best1.model\n",
      "Epoch 24/200\n",
      "6400/6400 [==============================] - 51s 8ms/step - loss: 0.1239 - acc: 0.9526 - val_loss: 0.1404 - val_acc: 0.9490\n",
      "\n",
      "Epoch 00024: val_acc did not improve from 0.95042\n",
      "Epoch 25/200\n",
      "6400/6400 [==============================] - 50s 8ms/step - loss: 0.1235 - acc: 0.9537 - val_loss: 0.1397 - val_acc: 0.9450\n",
      "\n",
      "Epoch 00025: val_acc did not improve from 0.95042\n",
      "Epoch 26/200\n",
      "6400/6400 [==============================] - 44s 7ms/step - loss: 0.1171 - acc: 0.9562 - val_loss: 0.1363 - val_acc: 0.9533\n",
      "\n",
      "Epoch 00026: val_acc improved from 0.95042 to 0.95327, saving model to ./unet_best1.model\n",
      "Epoch 27/200\n",
      "6400/6400 [==============================] - 47s 7ms/step - loss: 0.1280 - acc: 0.9519 - val_loss: 0.1519 - val_acc: 0.9417\n",
      "\n",
      "Epoch 00027: val_acc did not improve from 0.95327\n",
      "Epoch 28/200\n",
      "6400/6400 [==============================] - 51s 8ms/step - loss: 0.1221 - acc: 0.9534 - val_loss: 0.1525 - val_acc: 0.9458\n",
      "\n",
      "Epoch 00028: val_acc did not improve from 0.95327\n",
      "Epoch 29/200\n",
      "6400/6400 [==============================] - 51s 8ms/step - loss: 0.1175 - acc: 0.9550 - val_loss: 0.1575 - val_acc: 0.9434\n",
      "\n",
      "Epoch 00029: val_acc did not improve from 0.95327\n",
      "Epoch 30/200\n",
      "6400/6400 [==============================] - 45s 7ms/step - loss: 0.1213 - acc: 0.9551 - val_loss: 0.1402 - val_acc: 0.9491\n",
      "\n",
      "Epoch 00030: val_acc did not improve from 0.95327\n",
      "Epoch 31/200\n",
      "6400/6400 [==============================] - 45s 7ms/step - loss: 0.1122 - acc: 0.9571 - val_loss: 0.1652 - val_acc: 0.9426\n",
      "\n",
      "Epoch 00031: val_acc did not improve from 0.95327\n",
      "\n",
      "Epoch 00031: ReduceLROnPlateau reducing learning rate to 0.00020000000949949026.\n",
      "Epoch 32/200\n",
      "6400/6400 [==============================] - 53s 8ms/step - loss: 0.0950 - acc: 0.9639 - val_loss: 0.1265 - val_acc: 0.9548\n",
      "\n",
      "Epoch 00032: val_acc improved from 0.95327 to 0.95479, saving model to ./unet_best1.model\n",
      "Epoch 33/200\n",
      "6400/6400 [==============================] - 51s 8ms/step - loss: 0.0897 - acc: 0.9660 - val_loss: 0.1285 - val_acc: 0.9535\n",
      "\n",
      "Epoch 00033: val_acc did not improve from 0.95479\n",
      "Epoch 34/200\n",
      "6400/6400 [==============================] - 47s 7ms/step - loss: 0.0922 - acc: 0.9643 - val_loss: 0.1141 - val_acc: 0.9578\n",
      "\n",
      "Epoch 00034: val_acc improved from 0.95479 to 0.95777, saving model to ./unet_best1.model\n",
      "Epoch 35/200\n",
      "6400/6400 [==============================] - 46s 7ms/step - loss: 0.0899 - acc: 0.9662 - val_loss: 0.1222 - val_acc: 0.9557\n",
      "\n",
      "Epoch 00035: val_acc did not improve from 0.95777\n",
      "Epoch 36/200\n",
      "6400/6400 [==============================] - 51s 8ms/step - loss: 0.0885 - acc: 0.9665 - val_loss: 0.1191 - val_acc: 0.9577\n",
      "\n",
      "Epoch 00036: val_acc did not improve from 0.95777\n",
      "Epoch 37/200\n",
      "6400/6400 [==============================] - 51s 8ms/step - loss: 0.0859 - acc: 0.9677 - val_loss: 0.1226 - val_acc: 0.9566\n",
      "\n",
      "Epoch 00037: val_acc did not improve from 0.95777\n",
      "Epoch 38/200\n",
      "6400/6400 [==============================] - 47s 7ms/step - loss: 0.0866 - acc: 0.9668 - val_loss: 0.1191 - val_acc: 0.9569\n",
      "\n",
      "Epoch 00038: val_acc did not improve from 0.95777\n",
      "Epoch 39/200\n",
      "6400/6400 [==============================] - 44s 7ms/step - loss: 0.0827 - acc: 0.9689 - val_loss: 0.1543 - val_acc: 0.9460\n",
      "\n",
      "Epoch 00039: val_acc did not improve from 0.95777\n",
      "\n",
      "Epoch 00039: ReduceLROnPlateau reducing learning rate to 4.0000001899898055e-05.\n",
      "Epoch 40/200\n",
      "6400/6400 [==============================] - 51s 8ms/step - loss: 0.0794 - acc: 0.9699 - val_loss: 0.1350 - val_acc: 0.9527\n"
     ]
    },
    {
     "name": "stdout",
     "output_type": "stream",
     "text": [
      "\n",
      "Epoch 00040: val_acc did not improve from 0.95777\n",
      "Epoch 41/200\n",
      "6400/6400 [==============================] - 50s 8ms/step - loss: 0.0799 - acc: 0.9696 - val_loss: 0.1300 - val_acc: 0.9536\n",
      "\n",
      "Epoch 00041: val_acc did not improve from 0.95777\n",
      "Epoch 42/200\n",
      "6400/6400 [==============================] - 50s 8ms/step - loss: 0.0805 - acc: 0.9693 - val_loss: 0.1299 - val_acc: 0.9535\n",
      "\n",
      "Epoch 00042: val_acc did not improve from 0.95777\n",
      "Epoch 43/200\n",
      "6400/6400 [==============================] - 44s 7ms/step - loss: 0.0759 - acc: 0.9718 - val_loss: 0.1269 - val_acc: 0.9558\n",
      "\n",
      "Epoch 00043: val_acc did not improve from 0.95777\n",
      "Epoch 44/200\n",
      "6400/6400 [==============================] - 50s 8ms/step - loss: 0.0767 - acc: 0.9713 - val_loss: 0.1282 - val_acc: 0.9574\n",
      "\n",
      "Epoch 00044: val_acc did not improve from 0.95777\n",
      "\n",
      "Epoch 00044: ReduceLROnPlateau reducing learning rate to 1e-05.\n",
      "Epoch 45/200\n",
      "6400/6400 [==============================] - 51s 8ms/step - loss: 0.0773 - acc: 0.9704 - val_loss: 0.1268 - val_acc: 0.9569\n",
      "\n",
      "Epoch 00045: val_acc did not improve from 0.95777\n",
      "Epoch 46/200\n",
      "6400/6400 [==============================] - 49s 8ms/step - loss: 0.0766 - acc: 0.9709 - val_loss: 0.1289 - val_acc: 0.9567\n",
      "\n",
      "Epoch 00046: val_acc did not improve from 0.95777\n",
      "Epoch 47/200\n",
      "6400/6400 [==============================] - 43s 7ms/step - loss: 0.0787 - acc: 0.9698 - val_loss: 0.1275 - val_acc: 0.9571\n",
      "\n",
      "Epoch 00047: val_acc did not improve from 0.95777\n",
      "Epoch 48/200\n",
      "6400/6400 [==============================] - 50s 8ms/step - loss: 0.0762 - acc: 0.9709 - val_loss: 0.1280 - val_acc: 0.9568\n",
      "\n",
      "Epoch 00048: val_acc did not improve from 0.95777\n",
      "Epoch 49/200\n",
      "6400/6400 [==============================] - 51s 8ms/step - loss: 0.0775 - acc: 0.9701 - val_loss: 0.1285 - val_acc: 0.9565\n",
      "\n",
      "Epoch 00049: val_acc did not improve from 0.95777\n",
      "Epoch 50/200\n",
      "6400/6400 [==============================] - 51s 8ms/step - loss: 0.0747 - acc: 0.9718 - val_loss: 0.1301 - val_acc: 0.9564\n",
      "\n",
      "Epoch 00050: val_acc did not improve from 0.95777\n",
      "Epoch 51/200\n",
      "6400/6400 [==============================] - 42s 7ms/step - loss: 0.0762 - acc: 0.9707 - val_loss: 0.1298 - val_acc: 0.9564\n",
      "\n",
      "Epoch 00051: val_acc did not improve from 0.95777\n",
      "Epoch 52/200\n",
      "6400/6400 [==============================] - 51s 8ms/step - loss: 0.0766 - acc: 0.9708 - val_loss: 0.1281 - val_acc: 0.9565\n",
      "\n",
      "Epoch 00052: val_acc did not improve from 0.95777\n",
      "Epoch 53/200\n",
      "6400/6400 [==============================] - 50s 8ms/step - loss: 0.0770 - acc: 0.9712 - val_loss: 0.1284 - val_acc: 0.9566\n",
      "\n",
      "Epoch 00053: val_acc did not improve from 0.95777\n",
      "Epoch 54/200\n",
      "6400/6400 [==============================] - 50s 8ms/step - loss: 0.0760 - acc: 0.9714 - val_loss: 0.1304 - val_acc: 0.9566\n",
      "\n",
      "Epoch 00054: val_acc did not improve from 0.95777\n",
      "Epoch 55/200\n",
      "6400/6400 [==============================] - 43s 7ms/step - loss: 0.0768 - acc: 0.9715 - val_loss: 0.1278 - val_acc: 0.9568\n",
      "\n",
      "Epoch 00055: val_acc did not improve from 0.95777\n",
      "Epoch 56/200\n",
      "6400/6400 [==============================] - 49s 8ms/step - loss: 0.0777 - acc: 0.9706 - val_loss: 0.1286 - val_acc: 0.9566\n",
      "\n",
      "Epoch 00056: val_acc did not improve from 0.95777\n",
      "Epoch 57/200\n",
      "6400/6400 [==============================] - 49s 8ms/step - loss: 0.0757 - acc: 0.9711 - val_loss: 0.1300 - val_acc: 0.9562\n",
      "\n",
      "Epoch 00057: val_acc did not improve from 0.95777\n",
      "Epoch 58/200\n",
      "6400/6400 [==============================] - 52s 8ms/step - loss: 0.0778 - acc: 0.9702 - val_loss: 0.1286 - val_acc: 0.9568\n",
      "\n",
      "Epoch 00058: val_acc did not improve from 0.95777\n",
      "Epoch 59/200\n",
      "6400/6400 [==============================] - 44s 7ms/step - loss: 0.0748 - acc: 0.9718 - val_loss: 0.1290 - val_acc: 0.9569\n",
      "\n",
      "Epoch 00059: val_acc did not improve from 0.95777\n",
      "Epoch 60/200\n",
      "6400/6400 [==============================] - 50s 8ms/step - loss: 0.0780 - acc: 0.9702 - val_loss: 0.1260 - val_acc: 0.9574\n",
      "\n",
      "Epoch 00060: val_acc did not improve from 0.95777\n",
      "Epoch 61/200\n",
      "6400/6400 [==============================] - 50s 8ms/step - loss: 0.0744 - acc: 0.9718 - val_loss: 0.1282 - val_acc: 0.9571\n",
      "\n",
      "Epoch 00061: val_acc did not improve from 0.95777\n",
      "Epoch 62/200\n",
      "6400/6400 [==============================] - 51s 8ms/step - loss: 0.0739 - acc: 0.9718 - val_loss: 0.1280 - val_acc: 0.9570\n",
      "\n",
      "Epoch 00062: val_acc did not improve from 0.95777\n",
      "Epoch 63/200\n",
      "6400/6400 [==============================] - 45s 7ms/step - loss: 0.0751 - acc: 0.9718 - val_loss: 0.1266 - val_acc: 0.9569\n",
      "\n",
      "Epoch 00063: val_acc did not improve from 0.95777\n",
      "Epoch 64/200\n",
      "6400/6400 [==============================] - 47s 7ms/step - loss: 0.0764 - acc: 0.9709 - val_loss: 0.1270 - val_acc: 0.9568\n",
      "\n",
      "Epoch 00064: val_acc did not improve from 0.95777\n",
      "Epoch 65/200\n",
      "6400/6400 [==============================] - 50s 8ms/step - loss: 0.0752 - acc: 0.9720 - val_loss: 0.1275 - val_acc: 0.9569\n",
      "\n",
      "Epoch 00065: val_acc did not improve from 0.95777\n",
      "Epoch 66/200\n",
      "6400/6400 [==============================] - 50s 8ms/step - loss: 0.0752 - acc: 0.9714 - val_loss: 0.1294 - val_acc: 0.9568\n",
      "\n",
      "Epoch 00066: val_acc did not improve from 0.95777\n",
      "Epoch 67/200\n",
      "6400/6400 [==============================] - 46s 7ms/step - loss: 0.0759 - acc: 0.9714 - val_loss: 0.1282 - val_acc: 0.9565\n",
      "\n",
      "Epoch 00067: val_acc did not improve from 0.95777\n",
      "Epoch 68/200\n",
      "6400/6400 [==============================] - 46s 7ms/step - loss: 0.0750 - acc: 0.9714 - val_loss: 0.1289 - val_acc: 0.9563\n",
      "\n",
      "Epoch 00068: val_acc did not improve from 0.95777\n",
      "Epoch 69/200\n",
      "6400/6400 [==============================] - 51s 8ms/step - loss: 0.0766 - acc: 0.9708 - val_loss: 0.1281 - val_acc: 0.9564\n",
      "\n",
      "Epoch 00069: val_acc did not improve from 0.95777\n",
      "Epoch 70/200\n",
      "6400/6400 [==============================] - 50s 8ms/step - loss: 0.0736 - acc: 0.9720 - val_loss: 0.1281 - val_acc: 0.9568\n",
      "\n",
      "Epoch 00070: val_acc did not improve from 0.95777\n",
      "Epoch 71/200\n",
      "6400/6400 [==============================] - 48s 7ms/step - loss: 0.0755 - acc: 0.9711 - val_loss: 0.1281 - val_acc: 0.9563\n",
      "\n",
      "Epoch 00071: val_acc did not improve from 0.95777\n",
      "Epoch 72/200\n",
      "6400/6400 [==============================] - 45s 7ms/step - loss: 0.0732 - acc: 0.9724 - val_loss: 0.1297 - val_acc: 0.9564\n",
      "\n",
      "Epoch 00072: val_acc did not improve from 0.95777\n",
      "Epoch 73/200\n",
      "6400/6400 [==============================] - 51s 8ms/step - loss: 0.0738 - acc: 0.9722 - val_loss: 0.1304 - val_acc: 0.9565\n",
      "\n",
      "Epoch 00073: val_acc did not improve from 0.95777\n",
      "Epoch 74/200\n",
      "6400/6400 [==============================] - 51s 8ms/step - loss: 0.0745 - acc: 0.9714 - val_loss: 0.1320 - val_acc: 0.9560\n",
      "\n",
      "Epoch 00074: val_acc did not improve from 0.95777\n",
      "Epoch 00074: early stopping\n"
     ]
    }
   ],
   "source": [
    "early_stopping = EarlyStopping(monitor='val_acc', mode = 'max',patience=40, verbose=1)\n",
    "model_checkpoint = ModelCheckpoint(\"./unet_best1.model\",monitor='val_acc', \n",
    "                                   mode = 'max', save_best_only=True, verbose=1)\n",
    "reduce_lr = ReduceLROnPlateau(monitor='val_acc', mode = 'max',factor=0.2, patience=5, min_lr=0.00001, verbose=1)\n",
    "#reduce_lr = ReduceLROnPlateau(factor=0.2, patience=5, min_lr=0.00001, verbose=1)\n",
    "\n",
    "epochs = 200\n",
    "batch_size = 32\n",
    "\n",
    "history = model.fit(x_train, y_train,\n",
    "                    validation_data=[x_valid, y_valid], \n",
    "                    epochs=epochs,\n",
    "                    batch_size=batch_size,\n",
    "                    callbacks=[early_stopping, model_checkpoint, reduce_lr], \n",
    "                    verbose=1)"
   ]
  },
  {
   "cell_type": "code",
   "execution_count": 16,
   "metadata": {
    "_uuid": "81aba20e2904bcab1c3ac601f28a880f856e491b"
   },
   "outputs": [
    {
     "data": {
      "image/png": "[encoded data removed]",
      "text/plain": [
       "<Figure size 432x288 with 1 Axes>"
      ]
     },
     "metadata": {},
     "output_type": "display_data"
    }
   ],
   "source": [
    "import matplotlib.pyplot as plt\n",
    "# summarize history for loss\n",
    "plt.plot(history.history['acc'][1:])\n",
    "plt.plot(history.history['val_acc'][1:])\n",
    "plt.title('model loss')\n",
    "plt.ylabel('loss')\n",
    "plt.xlabel('epoch')\n",
    "plt.legend(['train','Validation'], loc='upper left')\n",
    "plt.show()\n"
   ]
  },
  {
   "cell_type": "code",
   "execution_count": 17,
   "metadata": {
    "_uuid": "347c6567c95430f28ec51b94f42603e37a4056db"
   },
   "outputs": [
    {
     "data": {
      "text/plain": [
       "[<matplotlib.lines.Line2D at 0x7f3da4ca1b38>]"
      ]
     },
     "execution_count": 17,
     "metadata": {},
     "output_type": "execute_result"
    },
    {
     "data": {
      "image/png": "[encoded data removed]",
      "text/plain": [
       "<Figure size 1080x360 with 2 Axes>"
      ]
     },
     "metadata": {},
     "output_type": "display_data"
    }
   ],
   "source": [
    "fig, (ax_loss, ax_acc) = plt.subplots(1, 2, figsize=(15,5))\n",
    "ax_loss.plot(history.epoch, history.history[\"loss\"], label=\"Train loss\")\n",
    "ax_loss.plot(history.epoch, history.history[\"val_loss\"], label=\"Validation loss\")"
   ]
  },
  {
   "cell_type": "code",
   "execution_count": 18,
   "metadata": {
    "_uuid": "a081f8f61a713457c8c8f3979a78f75541875456"
   },
   "outputs": [],
   "source": [
    "model = load_model(\"./unet_best1.model\")"
   ]
  },
  {
   "cell_type": "code",
   "execution_count": 19,
   "metadata": {
    "_uuid": "5da2648534e6f8a4d2fbd8995cf9e6a1c9c0d227"
   },
   "outputs": [],
   "source": [
    "def predict_result(model,x_test,img_size_target): # predict both orginal and reflect x\n",
    "    preds_test = model.predict(x_test).reshape(-1, img_size_target, img_size_target)\n",
    "    preds_test += np.array([ np.fliplr(a) for a in model.predict(np.array([np.fliplr(x) for x in x_test])).reshape(-1, img_size_target, img_size_target)])\n",
    "    return preds_test/2.0"
   ]
  },
  {
   "cell_type": "code",
   "execution_count": 20,
   "metadata": {
    "_uuid": "b7a061700364ea17735f953d6bd3c835bc3dc630"
   },
   "outputs": [],
   "source": [
    "preds_valid = predict_result(model,x_valid,img_size_target)"
   ]
  },
  {
   "cell_type": "code",
   "execution_count": 21,
   "metadata": {
    "_uuid": "91b1be75d7e8ff74db956c8c846c47ed7576ecb2"
   },
   "outputs": [
    {
     "data": {
      "application/vnd.jupyter.widget-view+json": {
       "model_id": "44183c1c84604eb9ad7957fb4826aafa",
       "version_major": 2,
       "version_minor": 0
      },
      "text/plain": [
       "HBox(children=(IntProgress(value=0, max=31), HTML(value='')))"
      ]
     },
     "metadata": {},
     "output_type": "display_data"
    },
    {
     "name": "stdout",
     "output_type": "stream",
     "text": [
      "\n"
     ]
    }
   ],
   "source": [
    "def filter_image(img):\n",
    "    if img.sum() < 100:\n",
    "        return np.zeros(img.shape)\n",
    "    else:\n",
    "        return img\n",
    "\n",
    "## Scoring for last model\n",
    "thresholds = np.linspace(0.3, 0.7, 31)\n",
    "ious = np.array([iou_metric(y_valid.reshape((-1, img_size_target, img_size_target)), [filter_image(img) for img in preds_valid > threshold]) for threshold in tqdm_notebook(thresholds)])\n"
   ]
  },
  {
   "cell_type": "code",
   "execution_count": 22,
   "metadata": {
    "_uuid": "1beb285910aa6532d7a69a70afa6a9671e6d347d"
   },
   "outputs": [
    {
     "data": {
      "text/plain": [
       "<matplotlib.legend.Legend at 0x7f3daa0e89e8>"
      ]
     },
     "execution_count": 22,
     "metadata": {},
     "output_type": "execute_result"
    },
    {
     "data": {
      "image/png": "[encoded data removed]",
      "text/plain": [
       "<Figure size 432x288 with 1 Axes>"
      ]
     },
     "metadata": {},
     "output_type": "display_data"
    }
   ],
   "source": [
    "threshold_best_index = np.argmax(ious) \n",
    "iou_best = ious[threshold_best_index]\n",
    "threshold_best = thresholds[threshold_best_index]\n",
    "\n",
    "plt.plot(thresholds, ious)\n",
    "plt.plot(threshold_best, iou_best, \"xr\", label=\"Best threshold\")\n",
    "plt.xlabel(\"Threshold\")\n",
    "plt.ylabel(\"IoU\")\n",
    "plt.title(\"Threshold vs IoU ({}, {})\".format(threshold_best, iou_best))\n",
    "plt.legend()"
   ]
  },
  {
   "cell_type": "code",
   "execution_count": 23,
   "metadata": {
    "_uuid": "2c4852ecf2c504a4ce30e975f5e36b534c2111e6"
   },
   "outputs": [],
   "source": [
    "def rle_encode(im):\n",
    "    pixels = im.flatten(order = 'F')\n",
    "    pixels = np.concatenate([[0], pixels, [0]])\n",
    "    runs = np.where(pixels[1:] != pixels[:-1])[0] + 1\n",
    "    runs[1::2] -= runs[::2]\n",
    "    return ' '.join(str(x) for x in runs)"
   ]
  },
  {
   "cell_type": "code",
   "execution_count": 24,
   "metadata": {
    "_uuid": "e84d3cc4fd7b6b7517a5eab0c0b9df38421e0c13"
   },
   "outputs": [
    {
     "data": {
      "text/plain": [
       "9"
      ]
     },
     "execution_count": 24,
     "metadata": {},
     "output_type": "execute_result"
    }
   ],
   "source": [
    "import gc\n",
    "\n",
    "del x_train, x_valid, y_train, y_valid, preds_valid\n",
    "gc.collect()"
   ]
  },
  {
   "cell_type": "code",
   "execution_count": 25,
   "metadata": {
    "_uuid": "21bb50645b1c67d907e42c262d92f975668fccac"
   },
   "outputs": [
    {
     "data": {
      "application/vnd.jupyter.widget-view+json": {
       "model_id": "8a91202e1d9c404f9a5c867bc5aea2c2",
       "version_major": 2,
       "version_minor": 0
      },
      "text/plain": [
       "HBox(children=(IntProgress(value=0, max=18000), HTML(value='')))"
      ]
     },
     "metadata": {},
     "output_type": "display_data"
    },
    {
     "name": "stdout",
     "output_type": "stream",
     "text": [
      "\n"
     ]
    }
   ],
   "source": [
    "x_test = np.array([(np.array(load_img(\"../data/test/{}.png\".format(idx), grayscale = True))) / 255 for idx in tqdm_notebook(test_df.index)]).reshape(-1, img_size_target, img_size_target, 1)\n",
    "\n",
    "preds_test = predict_result(model,x_test,img_size_target)"
   ]
  },
  {
   "cell_type": "code",
   "execution_count": 26,
   "metadata": {
    "_uuid": "7ccac81a492b9caaff4a25401165e145cf2c6f8e"
   },
   "outputs": [
    {
     "data": {
      "application/vnd.jupyter.widget-view+json": {
       "model_id": "86e84caca65e472f83e88eae955838e2",
       "version_major": 2,
       "version_minor": 0
      },
      "text/plain": [
       "HBox(children=(IntProgress(value=0, max=18000), HTML(value='')))"
      ]
     },
     "metadata": {},
     "output_type": "display_data"
    },
    {
     "name": "stdout",
     "output_type": "stream",
     "text": [
      "\n",
      "Usedtime = 12.428476572036743 s\n"
     ]
    }
   ],
   "source": [
    "import time\n",
    "t1 = time.time()\n",
    "pred_dict = {idx: rle_encode(filter_image(preds_test[i] > threshold_best)) for i, idx in enumerate(tqdm_notebook(test_df.index.values))}\n",
    "t2 = time.time()\n",
    "\n",
    "print(f\"Usedtime = {t2-t1} s\")"
   ]
  },
  {
   "cell_type": "code",
   "execution_count": 27,
   "metadata": {
    "_uuid": "770d7d596656f4f1ad17a6063ad662ac80e11b24"
   },
   "outputs": [],
   "source": [
    "sub = pd.DataFrame.from_dict(pred_dict,orient='index')\n",
    "sub.index.names = ['id']\n",
    "sub.columns = ['rle_mask']\n",
    "sub.to_csv('submission.csv')"
   ]
  },
  {
   "cell_type": "code",
   "execution_count": 28,
   "metadata": {
    "_uuid": "031bc2ef4548059939fae54c06f24f68e0ad3330"
   },
   "outputs": [
    {
     "data": {
      "text/html": [
       "<div>\n",
       "<style scoped>\n",
       "    .dataframe tbody tr th:only-of-type {\n",
       "        vertical-align: middle;\n",
       "    }\n",
       "\n",
       "    .dataframe tbody tr th {\n",
       "        vertical-align: top;\n",
       "    }\n",
       "\n",
       "    .dataframe thead th {\n",
       "        text-align: right;\n",
       "    }\n",
       "</style>\n",
       "<table border=\"1\" class=\"dataframe\">\n",
       "  <thead>\n",
       "    <tr style=\"text-align: right;\">\n",
       "      <th></th>\n",
       "      <th>rle_mask</th>\n",
       "    </tr>\n",
       "    <tr>\n",
       "      <th>id</th>\n",
       "      <th></th>\n",
       "    </tr>\n",
       "  </thead>\n",
       "  <tbody>\n",
       "    <tr>\n",
       "      <th>353e010b7b</th>\n",
       "      <td></td>\n",
       "    </tr>\n",
       "    <tr>\n",
       "      <th>5439dbbddf</th>\n",
       "      <td></td>\n",
       "    </tr>\n",
       "    <tr>\n",
       "      <th>71bab9f311</th>\n",
       "      <td></td>\n",
       "    </tr>\n",
       "    <tr>\n",
       "      <th>52551f7a80</th>\n",
       "      <td></td>\n",
       "    </tr>\n",
       "    <tr>\n",
       "      <th>512d8d9997</th>\n",
       "      <td>1 29 102 29 203 29 304 29 405 29 506 24 607 19...</td>\n",
       "    </tr>\n",
       "    <tr>\n",
       "      <th>64dba827d6</th>\n",
       "      <td></td>\n",
       "    </tr>\n",
       "    <tr>\n",
       "      <th>0a3a8a5f37</th>\n",
       "      <td></td>\n",
       "    </tr>\n",
       "    <tr>\n",
       "      <th>329563756f</th>\n",
       "      <td>1 5150 5152 99 5253 98 5354 98 5455 97 5556 96...</td>\n",
       "    </tr>\n",
       "    <tr>\n",
       "      <th>f6cba2e890</th>\n",
       "      <td></td>\n",
       "    </tr>\n",
       "    <tr>\n",
       "      <th>989c646373</th>\n",
       "      <td>1 16 18 27 54 7 63 7 81 66 155 7 163 9 182 65 ...</td>\n",
       "    </tr>\n",
       "  </tbody>\n",
       "</table>\n",
       "</div>"
      ],
      "text/plain": [
       "                                                     rle_mask\n",
       "id                                                           \n",
       "353e010b7b                                                   \n",
       "5439dbbddf                                                   \n",
       "71bab9f311                                                   \n",
       "52551f7a80                                                   \n",
       "512d8d9997  1 29 102 29 203 29 304 29 405 29 506 24 607 19...\n",
       "64dba827d6                                                   \n",
       "0a3a8a5f37                                                   \n",
       "329563756f  1 5150 5152 99 5253 98 5354 98 5455 97 5556 96...\n",
       "f6cba2e890                                                   \n",
       "989c646373  1 16 18 27 54 7 63 7 81 66 155 7 163 9 182 65 ..."
      ]
     },
     "execution_count": 28,
     "metadata": {},
     "output_type": "execute_result"
    }
   ],
   "source": [
    "sub.head(10)"
   ]
  },
  {
   "cell_type": "code",
   "execution_count": null,
   "metadata": {
    "_uuid": "e9778bdcde7d55b39a8cc5a75d2869f603798c12"
   },
   "outputs": [],
   "source": []
  }
 ],
 "metadata": {
  "kernelspec": {
   "display_name": "Python 3",
   "language": "python",
   "name": "python3"
  },
  "language_info": {
   "codemirror_mode": {
    "name": "ipython",
    "version": 3
   },
   "file_extension": ".py",
   "mimetype": "text/x-python",
   "name": "python",
   "nbconvert_exporter": "python",
   "pygments_lexer": "ipython3",
   "version": "3.6.5"
  }
 },
 "nbformat": 4,
 "nbformat_minor": 1
}
