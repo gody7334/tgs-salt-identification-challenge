{
 "cells": [
  {
   "cell_type": "markdown",
   "metadata": {
    "_uuid": "c8fc6c3e84f282d0e6f664caf9848297b6c62a16"
   },
   "source": [
    "### U-net with simple Resnet Blocks v2, can get 0.80+\n",
    "* Original version : \n",
    "  https://www.kaggle.com/shaojiaxin/u-net-with-simple-resnet-blocks\n",
    "        \n",
    "        \n",
    "#### update log\n",
    "1.   Cancel last dropout (seems better)\n",
    "2.  modify convolution_block, to be more consistant with the standard resent model. \n",
    "      * https://arxiv.org/abs/1603.05027\n",
    "3. Use faster  IOU metric score code,\n",
    "      * https://www.kaggle.com/donchuk/fast-implementation-of-scoring-metric\n",
    "4. Use  binary_crossentropy loss and then Lovász-hinge loss (very slow!)\n",
    "     * Lovász-hinge loss: https://github.com/bermanmaxim/LovaszSoftmax\n",
    "     \n",
    "Limit the max epochs number to make the kernel finish in the limit of 6 hours, better score can be achived at more epochs "
   ]
  },
  {
   "cell_type": "code",
   "execution_count": 1,
   "metadata": {
    "_cell_guid": "b1076dfc-b9ad-4769-8c92-a6c4dae69d19",
    "_uuid": "8f2839f25d086af736a60e9eeb907d3b93b6e0e5"
   },
   "outputs": [
    {
     "name": "stderr",
     "output_type": "stream",
     "text": [
      "Using TensorFlow backend.\n"
     ]
    }
   ],
   "source": [
    "import os\n",
    "import sys\n",
    "import random\n",
    "\n",
    "import pydot\n",
    "import pandas as pd\n",
    "import numpy as np\n",
    "import matplotlib.pyplot as plt\n",
    "plt.style.use('seaborn-white')\n",
    "import seaborn as sns\n",
    "sns.set_style(\"white\")\n",
    "\n",
    "%matplotlib inline\n",
    "\n",
    "# import cv2\n",
    "from sklearn.model_selection import train_test_split\n",
    "\n",
    "from tqdm import tqdm_notebook #, tnrange\n",
    "#from itertools import chain\n",
    "from skimage.io import imread, imshow #, concatenate_images\n",
    "from skimage.transform import resize\n",
    "from skimage.morphology import label\n",
    "\n",
    "from keras.models import Model, load_model, save_model\n",
    "from keras.layers import Input,Dropout,BatchNormalization,Activation,Add\n",
    "from keras.layers.core import Lambda\n",
    "from keras.layers.convolutional import Conv2D, Conv2DTranspose\n",
    "from keras.layers.pooling import MaxPooling2D\n",
    "from keras.layers.merge import concatenate\n",
    "from keras.callbacks import EarlyStopping, ModelCheckpoint, ReduceLROnPlateau\n",
    "from keras import backend as K\n",
    "from keras import optimizers\n",
    "from keras.applications.resnet50 import ResNet50\n",
    "from keras.utils.vis_utils import plot_model\n",
    "\n",
    "from IPython.display import SVG\n",
    "from keras.utils.vis_utils import model_to_dot\n",
    "\n",
    "import tensorflow as tf\n",
    "\n",
    "from keras.preprocessing.image import array_to_img, img_to_array, load_img#,save_img\n",
    "\n",
    "import time\n",
    "t_start = time.time()"
   ]
  },
  {
   "cell_type": "code",
   "execution_count": 2,
   "metadata": {
    "_uuid": "2c36d16775556c3e358edefab5710dc1541ccfc4"
   },
   "outputs": [
    {
     "name": "stdout",
     "output_type": "stream",
     "text": [
      "Unet_resnet_v5.model\n",
      "Unet_resnet_v5.csv\n"
     ]
    }
   ],
   "source": [
    "version = 5\n",
    "basic_name = f'Unet_resnet_v{version}'\n",
    "save_model_name = basic_name + '.model'\n",
    "submission_file = basic_name + '.csv'\n",
    "\n",
    "print(save_model_name)\n",
    "print(submission_file)"
   ]
  },
  {
   "cell_type": "code",
   "execution_count": 3,
   "metadata": {
    "_uuid": "63c469280793719bf311d51e6ba2cdaea157d175"
   },
   "outputs": [],
   "source": [
    "# img_size_ori = 101\n",
    "# img_size_target = 101\n",
    "\n",
    "def upsample(img, img_size_target):# not used\n",
    "#     if img_size_ori == img_size_target:\n",
    "#         return img\n",
    "    return resize(img, (img_size_target, img_size_target), mode='constant', preserve_range=True)\n",
    "    \n",
    "def downsample(img, img_size_ori):# not used\n",
    "#     if img_size_ori == img_size_target:\n",
    "#         return img\n",
    "    return resize(img, (img_size_ori, img_size_ori), mode='constant', preserve_range=True)"
   ]
  },
  {
   "cell_type": "code",
   "execution_count": 4,
   "metadata": {
    "_uuid": "1a64babef03b9a0dbc94387a1dad54971c3e028d"
   },
   "outputs": [
    {
     "data": {
      "text/plain": [
       "4000"
      ]
     },
     "execution_count": 4,
     "metadata": {},
     "output_type": "execute_result"
    }
   ],
   "source": [
    "# Loading of training/testing ids and depths\n",
    "train_df = pd.read_csv(\"../data/train.csv\", index_col=\"id\", usecols=[0])\n",
    "depths_df = pd.read_csv(\"../data/depths.csv\", index_col=\"id\")\n",
    "train_df = train_df.join(depths_df)\n",
    "test_df = depths_df[~depths_df.index.isin(train_df.index)]\n",
    "\n",
    "len(train_df)"
   ]
  },
  {
   "cell_type": "code",
   "execution_count": 5,
   "metadata": {
    "_uuid": "80c3768717007fb5f087d3e01619f1a9f9a3beac"
   },
   "outputs": [
    {
     "data": {
      "application/vnd.jupyter.widget-view+json": {
       "model_id": "fed781d8a8624ed18babac15b937c9f6",
       "version_major": 2,
       "version_minor": 0
      },
      "text/plain": [
       "HBox(children=(IntProgress(value=0, max=4000), HTML(value='')))"
      ]
     },
     "metadata": {},
     "output_type": "display_data"
    },
    {
     "name": "stdout",
     "output_type": "stream",
     "text": [
      "\n"
     ]
    }
   ],
   "source": [
    "train_df[\"images\"] = [np.array(load_img(\"../data/train/{}.png\".format(idx), grayscale=True)) / 255 for idx in tqdm_notebook(train_df.index)]"
   ]
  },
  {
   "cell_type": "code",
   "execution_count": 6,
   "metadata": {
    "_uuid": "9f55103f7daad6f03ec874c643077fe686c31bee"
   },
   "outputs": [
    {
     "data": {
      "application/vnd.jupyter.widget-view+json": {
       "model_id": "fa87943c105d49e792faeec9e0b4e1e1",
       "version_major": 2,
       "version_minor": 0
      },
      "text/plain": [
       "HBox(children=(IntProgress(value=0, max=4000), HTML(value='')))"
      ]
     },
     "metadata": {},
     "output_type": "display_data"
    },
    {
     "name": "stdout",
     "output_type": "stream",
     "text": [
      "\n"
     ]
    }
   ],
   "source": [
    "train_df[\"masks\"] = [np.array(load_img(\"../data/masks/{}.png\".format(idx), grayscale=True)) / 255 for idx in tqdm_notebook(train_df.index)]"
   ]
  },
  {
   "cell_type": "code",
   "execution_count": 7,
   "metadata": {
    "_uuid": "010066dd50ef4fdfa7dabe2c946fd7491f9556fd"
   },
   "outputs": [],
   "source": [
    "train_df[\"coverage\"] = train_df.masks.map(np.sum) / pow(101, 2)\n",
    "\n",
    "def cov_to_class(val):    \n",
    "    for i in range(0, 11):\n",
    "        if val * 10 <= i :\n",
    "            return i\n",
    "        \n",
    "train_df[\"coverage_class\"] = train_df.coverage.map(cov_to_class)\n"
   ]
  },
  {
   "cell_type": "code",
   "execution_count": 8,
   "metadata": {
    "_uuid": "2ad5ac1576277fc54d768933c36efd1f9ff01acd"
   },
   "outputs": [
    {
     "name": "stderr",
     "output_type": "stream",
     "text": [
      "/opt/conda/lib/python3.6/site-packages/matplotlib/axes/_axes.py:6571: UserWarning: The 'normed' kwarg is deprecated, and has been replaced by the 'density' kwarg.\n",
      "  warnings.warn(\"The 'normed' kwarg is deprecated, and has been \"\n",
      "/opt/conda/lib/python3.6/site-packages/matplotlib/axes/_axes.py:6571: UserWarning: The 'normed' kwarg is deprecated, and has been replaced by the 'density' kwarg.\n",
      "  warnings.warn(\"The 'normed' kwarg is deprecated, and has been \"\n"
     ]
    },
    {
     "data": {
      "text/plain": [
       "Text(0.5,0,'Coverage class')"
      ]
     },
     "execution_count": 8,
     "metadata": {},
     "output_type": "execute_result"
    },
    {
     "data": {
      "image/png": "[encoded data removed]",
      "text/plain": [
       "<Figure size 1080x360 with 2 Axes>"
      ]
     },
     "metadata": {},
     "output_type": "display_data"
    }
   ],
   "source": [
    "fig, axs = plt.subplots(1, 2, figsize=(15,5))\n",
    "sns.distplot(train_df.coverage, kde=False, ax=axs[0])\n",
    "sns.distplot(train_df.coverage_class, bins=10, kde=False, ax=axs[1])\n",
    "plt.suptitle(\"Salt coverage\")\n",
    "axs[0].set_xlabel(\"Coverage\")\n",
    "axs[1].set_xlabel(\"Coverage class\")"
   ]
  },
  {
   "cell_type": "code",
   "execution_count": 9,
   "metadata": {
    "_uuid": "9f34c4263989a3d95af1e5922c1b7d2126655610"
   },
   "outputs": [
    {
     "name": "stderr",
     "output_type": "stream",
     "text": [
      "/opt/conda/lib/python3.6/site-packages/matplotlib/axes/_axes.py:6571: UserWarning: The 'normed' kwarg is deprecated, and has been replaced by the 'density' kwarg.\n",
      "  warnings.warn(\"The 'normed' kwarg is deprecated, and has been \"\n",
      "/opt/conda/lib/python3.6/site-packages/matplotlib/axes/_axes.py:6571: UserWarning: The 'normed' kwarg is deprecated, and has been replaced by the 'density' kwarg.\n",
      "  warnings.warn(\"The 'normed' kwarg is deprecated, and has been \"\n"
     ]
    },
    {
     "data": {
      "text/plain": [
       "Text(0.5,1,'Depth distribution')"
      ]
     },
     "execution_count": 9,
     "metadata": {},
     "output_type": "execute_result"
    },
    {
     "data": {
      "image/png": "[encoded data removed]",
      "text/plain": [
       "<Figure size 432x288 with 1 Axes>"
      ]
     },
     "metadata": {},
     "output_type": "display_data"
    }
   ],
   "source": [
    "#Plotting the depth distributions¶\n",
    "\n",
    "sns.distplot(train_df.z, label=\"Train\")\n",
    "sns.distplot(test_df.z, label=\"Test\")\n",
    "plt.legend()\n",
    "plt.title(\"Depth distribution\")"
   ]
  },
  {
   "cell_type": "code",
   "execution_count": 10,
   "metadata": {
    "_uuid": "51981795f0dd6b8ca7abe4db367f48313b63811e"
   },
   "outputs": [],
   "source": [
    "# Create train/validation split stratified by salt coverage\n",
    "\n",
    "ids_train, ids_valid, x_train, x_valid, y_train, y_valid, cov_train, cov_test, depth_train, depth_test = train_test_split(\n",
    "    train_df.index.values,\n",
    "    np.stack((np.array(train_df.images.apply(lambda x: upsample(x, 128)).tolist()),)*3, -1), \n",
    "    np.array(train_df.masks.apply(lambda x: upsample(x, 128)).tolist()).reshape(-1, 128, 128, 1), \n",
    "    train_df.coverage.values,\n",
    "    train_df.z.values,\n",
    "    test_size=0.2, stratify=train_df.coverage_class, random_state= 1234)"
   ]
  },
  {
   "cell_type": "code",
   "execution_count": 11,
   "metadata": {
    "scrolled": true
   },
   "outputs": [],
   "source": [
    "# resnet_model = ResNet50(weights = \"imagenet\", include_top=False, input_shape=(256,256,3))\n",
    "# resnet_model.summary()\n",
    "# SVG(model_to_dot(resnet_model, show_shapes=True, show_layer_names=True).create(prog='dot', format='svg'))"
   ]
  },
  {
   "cell_type": "code",
   "execution_count": 12,
   "metadata": {
    "_uuid": "7fb577cdf27f365d4a912728c2a7654d0e60fac8"
   },
   "outputs": [],
   "source": [
    "def BatchActivate(x):\n",
    "    x = BatchNormalization()(x)\n",
    "    x = Activation('relu')(x)\n",
    "    return x\n",
    "\n",
    "def convolution_block(x, filters, size, strides=(1,1), padding='same', activation=True):\n",
    "    x = Conv2D(filters, size, strides=strides, padding=padding)(x)\n",
    "    if activation == True:\n",
    "        x = BatchActivate(x)\n",
    "    return x\n",
    "\n",
    "def residual_block(blockInput, num_filters=16, batch_activate = False):\n",
    "    x = BatchActivate(blockInput)\n",
    "    x = convolution_block(x, num_filters, (3,3) )\n",
    "    x = convolution_block(x, num_filters, (3,3), activation=False)\n",
    "    x = Add()([x, blockInput])\n",
    "    if batch_activate:\n",
    "        x = BatchActivate(x)\n",
    "    return x\n"
   ]
  },
  {
   "cell_type": "code",
   "execution_count": 13,
   "metadata": {
    "_uuid": "02967d71ee7f936254ab54acf2aa7c2e038a2b21"
   },
   "outputs": [],
   "source": [
    "# Build model\n",
    "def build_model(input_layer, start_neurons, DropoutRatio = 0.5):\n",
    "    # 101 -> 50\n",
    "    conv1 = Conv2D(start_neurons * 1, (3, 3), activation=None, padding=\"same\")(input_layer)\n",
    "    conv1 = residual_block(conv1,start_neurons * 1)\n",
    "    conv1 = residual_block(conv1,start_neurons * 1, True)\n",
    "    pool1 = MaxPooling2D((2, 2))(conv1)\n",
    "    pool1 = Dropout(DropoutRatio/2)(pool1)\n",
    "\n",
    "    # 50 -> 25\n",
    "    conv2 = Conv2D(start_neurons * 2, (3, 3), activation=None, padding=\"same\")(pool1)\n",
    "    conv2 = residual_block(conv2,start_neurons * 2)\n",
    "    conv2 = residual_block(conv2,start_neurons * 2, True)\n",
    "    pool2 = MaxPooling2D((2, 2))(conv2)\n",
    "    pool2 = Dropout(DropoutRatio)(pool2)\n",
    "\n",
    "    # 25 -> 12\n",
    "    conv3 = Conv2D(start_neurons * 4, (3, 3), activation=None, padding=\"same\")(pool2)\n",
    "    conv3 = residual_block(conv3,start_neurons * 4)\n",
    "    conv3 = residual_block(conv3,start_neurons * 4, True)\n",
    "    pool3 = MaxPooling2D((2, 2))(conv3)\n",
    "    pool3 = Dropout(DropoutRatio)(pool3)\n",
    "\n",
    "    # 12 -> 6\n",
    "    conv4 = Conv2D(start_neurons * 8, (3, 3), activation=None, padding=\"same\")(pool3)\n",
    "    conv4 = residual_block(conv4,start_neurons * 8)\n",
    "    conv4 = residual_block(conv4,start_neurons * 8, True)\n",
    "    pool4 = MaxPooling2D((2, 2))(conv4)\n",
    "    pool4 = Dropout(DropoutRatio)(pool4)\n",
    "\n",
    "    # Middle\n",
    "    convm = Conv2D(start_neurons * 16, (3, 3), activation=None, padding=\"same\")(pool4)\n",
    "    convm = residual_block(convm,start_neurons * 16)\n",
    "    convm = residual_block(convm,start_neurons * 16, True)\n",
    "    \n",
    "    # 6 -> 12\n",
    "    deconv4 = Conv2DTranspose(start_neurons * 8, (3, 3), strides=(2, 2), padding=\"same\")(convm)\n",
    "    uconv4 = concatenate([deconv4, conv4])\n",
    "    uconv4 = Dropout(DropoutRatio)(uconv4)\n",
    "    \n",
    "    uconv4 = Conv2D(start_neurons * 8, (3, 3), activation=None, padding=\"same\")(uconv4)\n",
    "    uconv4 = residual_block(uconv4,start_neurons * 8)\n",
    "    uconv4 = residual_block(uconv4,start_neurons * 8, True)\n",
    "    \n",
    "    # 12 -> 25\n",
    "    #deconv3 = Conv2DTranspose(start_neurons * 4, (3, 3), strides=(2, 2), padding=\"same\")(uconv4)\n",
    "    deconv3 = Conv2DTranspose(start_neurons * 4, (3, 3), strides=(2, 2), padding=\"valid\")(uconv4)\n",
    "    uconv3 = concatenate([deconv3, conv3])    \n",
    "    uconv3 = Dropout(DropoutRatio)(uconv3)\n",
    "    \n",
    "    uconv3 = Conv2D(start_neurons * 4, (3, 3), activation=None, padding=\"same\")(uconv3)\n",
    "    uconv3 = residual_block(uconv3,start_neurons * 4)\n",
    "    uconv3 = residual_block(uconv3,start_neurons * 4, True)\n",
    "\n",
    "    # 25 -> 50\n",
    "    deconv2 = Conv2DTranspose(start_neurons * 2, (3, 3), strides=(2, 2), padding=\"same\")(uconv3)\n",
    "    uconv2 = concatenate([deconv2, conv2])\n",
    "    uconv2 = Dropout(DropoutRatio)(uconv2)\n",
    "        \n",
    "    uconv2 = Conv2D(start_neurons * 2, (3, 3), activation=None, padding=\"same\")(uconv2)\n",
    "    uconv2 = residual_block(uconv2,start_neurons * 2)\n",
    "    uconv2 = residual_block(uconv2,start_neurons * 2, True)\n",
    "    \n",
    "    # 50 -> 101\n",
    "    #deconv1 = Conv2DTranspose(start_neurons * 1, (3, 3), strides=(2, 2), padding=\"same\")(uconv2)\n",
    "    deconv1 = Conv2DTranspose(start_neurons * 1, (3, 3), strides=(2, 2), padding=\"valid\")(uconv2)\n",
    "    uconv1 = concatenate([deconv1, conv1])\n",
    "    uconv1 = Dropout(DropoutRatio)(uconv1)\n",
    "    \n",
    "    uconv1 = Conv2D(start_neurons * 1, (3, 3), activation=None, padding=\"same\")(uconv1)\n",
    "    uconv1 = residual_block(uconv1,start_neurons * 1)\n",
    "    uconv1 = residual_block(uconv1,start_neurons * 1, True)\n",
    "    \n",
    "    #uconv1 = Dropout(DropoutRatio/2)(uconv1)\n",
    "    #output_layer = Conv2D(1, (1,1), padding=\"same\", activation=\"sigmoid\")(uconv1)\n",
    "    output_layer_noActi = Conv2D(1, (1,1), padding=\"same\", activation=None)(uconv1)\n",
    "    output_layer =  Activation('sigmoid')(output_layer_noActi)\n",
    "    \n",
    "    return output_layer"
   ]
  },
  {
   "cell_type": "code",
   "execution_count": 14,
   "metadata": {
    "_uuid": "2bd5e479d3aa211bcb5fe32ce9c4d71cd012eefa"
   },
   "outputs": [],
   "source": [
    "def get_iou_vector(A, B):\n",
    "    batch_size = A.shape[0]\n",
    "    metric = []\n",
    "    for batch in range(batch_size):\n",
    "        t, p = A[batch]>0, B[batch]>0\n",
    "#         if np.count_nonzero(t) == 0 and np.count_nonzero(p) > 0:\n",
    "#             metric.append(0)\n",
    "#             continue\n",
    "#         if np.count_nonzero(t) >= 1 and np.count_nonzero(p) == 0:\n",
    "#             metric.append(0)\n",
    "#             continue\n",
    "#         if np.count_nonzero(t) == 0 and np.count_nonzero(p) == 0:\n",
    "#             metric.append(1)\n",
    "#             continue\n",
    "        \n",
    "        intersection = np.logical_and(t, p)\n",
    "        union = np.logical_or(t, p)\n",
    "        iou = (np.sum(intersection > 0) + 1e-10 )/ (np.sum(union > 0) + 1e-10)\n",
    "        thresholds = np.arange(0.5, 1, 0.05)\n",
    "        s = []\n",
    "        for thresh in thresholds:\n",
    "            s.append(iou > thresh)\n",
    "        metric.append(np.mean(s))\n",
    "\n",
    "    return np.mean(metric)\n",
    "\n",
    "def my_iou_metric(label, pred):\n",
    "    return tf.py_func(get_iou_vector, [label, pred>0.5], tf.float64)\n",
    "\n",
    "def my_iou_metric_2(label, pred):\n",
    "    return tf.py_func(get_iou_vector, [label, pred >0], tf.float64)"
   ]
  },
  {
   "cell_type": "code",
   "execution_count": 15,
   "metadata": {
    "_uuid": "e25caa2102813289cbd74796b612fbbfaaff8154"
   },
   "outputs": [],
   "source": [
    "# code download from: https://github.com/bermanmaxim/LovaszSoftmax\n",
    "def lovasz_grad(gt_sorted):\n",
    "    \"\"\"\n",
    "    Computes gradient of the Lovasz extension w.r.t sorted errors\n",
    "    See Alg. 1 in paper\n",
    "    \"\"\"\n",
    "    gts = tf.reduce_sum(gt_sorted)\n",
    "    intersection = gts - tf.cumsum(gt_sorted)\n",
    "    union = gts + tf.cumsum(1. - gt_sorted)\n",
    "    jaccard = 1. - intersection / union\n",
    "    jaccard = tf.concat((jaccard[0:1], jaccard[1:] - jaccard[:-1]), 0)\n",
    "    return jaccard\n",
    "\n",
    "\n",
    "# --------------------------- BINARY LOSSES ---------------------------\n",
    "\n",
    "def lovasz_hinge(logits, labels, per_image=True, ignore=None):\n",
    "    \"\"\"\n",
    "    Binary Lovasz hinge loss\n",
    "      logits: [B, H, W] Variable, logits at each pixel (between -\\infty and +\\infty)\n",
    "      labels: [B, H, W] Tensor, binary ground truth masks (0 or 1)\n",
    "      per_image: compute the loss per image instead of per batch\n",
    "      ignore: void class id\n",
    "    \"\"\"\n",
    "    if per_image:\n",
    "        def treat_image(log_lab):\n",
    "            log, lab = log_lab\n",
    "            log, lab = tf.expand_dims(log, 0), tf.expand_dims(lab, 0)\n",
    "            log, lab = flatten_binary_scores(log, lab, ignore)\n",
    "            return lovasz_hinge_flat(log, lab)\n",
    "        losses = tf.map_fn(treat_image, (logits, labels), dtype=tf.float32)\n",
    "        loss = tf.reduce_mean(losses)\n",
    "    else:\n",
    "        loss = lovasz_hinge_flat(*flatten_binary_scores(logits, labels, ignore))\n",
    "    return loss\n",
    "\n",
    "\n",
    "def lovasz_hinge_flat(logits, labels):\n",
    "    \"\"\"\n",
    "    Binary Lovasz hinge loss\n",
    "      logits: [P] Variable, logits at each prediction (between -\\infty and +\\infty)\n",
    "      labels: [P] Tensor, binary ground truth labels (0 or 1)\n",
    "      ignore: label to ignore\n",
    "    \"\"\"\n",
    "\n",
    "    def compute_loss():\n",
    "        labelsf = tf.cast(labels, logits.dtype)\n",
    "        signs = 2. * labelsf - 1.\n",
    "        errors = 1. - logits * tf.stop_gradient(signs)\n",
    "        errors_sorted, perm = tf.nn.top_k(errors, k=tf.shape(errors)[0], name=\"descending_sort\")\n",
    "        gt_sorted = tf.gather(labelsf, perm)\n",
    "        grad = lovasz_grad(gt_sorted)\n",
    "        loss = tf.tensordot(tf.nn.relu(errors_sorted), tf.stop_gradient(grad), 1, name=\"loss_non_void\")\n",
    "        return loss\n",
    "\n",
    "    # deal with the void prediction case (only void pixels)\n",
    "    loss = tf.cond(tf.equal(tf.shape(logits)[0], 0),\n",
    "                   lambda: tf.reduce_sum(logits) * 0.,\n",
    "                   compute_loss,\n",
    "                   strict=True,\n",
    "                   name=\"loss\"\n",
    "                   )\n",
    "    return loss\n",
    "\n",
    "\n",
    "def flatten_binary_scores(scores, labels, ignore=None):\n",
    "    \"\"\"\n",
    "    Flattens predictions in the batch (binary case)\n",
    "    Remove labels equal to 'ignore'\n",
    "    \"\"\"\n",
    "    scores = tf.reshape(scores, (-1,))\n",
    "    labels = tf.reshape(labels, (-1,))\n",
    "    if ignore is None:\n",
    "        return scores, labels\n",
    "    valid = tf.not_equal(labels, ignore)\n",
    "    vscores = tf.boolean_mask(scores, valid, name='valid_scores')\n",
    "    vlabels = tf.boolean_mask(labels, valid, name='valid_labels')\n",
    "    return vscores, vlabels\n",
    "\n",
    "def lovasz_loss(y_true, y_pred):\n",
    "    y_true, y_pred = K.cast(K.squeeze(y_true, -1), 'int32'), K.cast(K.squeeze(y_pred, -1), 'float32')\n",
    "    #logits = K.log(y_pred / (1. - y_pred))\n",
    "    logits = y_pred #Jiaxin\n",
    "    loss = lovasz_hinge(logits, y_true, per_image = True, ignore = None)\n",
    "    return loss"
   ]
  },
  {
   "cell_type": "code",
   "execution_count": 16,
   "metadata": {
    "_uuid": "072ab621d38cc93d26998f391357cb6efc791600"
   },
   "outputs": [
    {
     "name": "stdout",
     "output_type": "stream",
     "text": [
      "(6400, 128, 128, 3)\n",
      "(800, 128, 128, 1)\n"
     ]
    }
   ],
   "source": [
    "#Data augmentation\n",
    "x_train = np.append(x_train, [np.fliplr(x) for x in x_train], axis=0)\n",
    "y_train = np.append(y_train, [np.fliplr(x) for x in y_train], axis=0)\n",
    "print(x_train.shape)\n",
    "print(y_valid.shape)"
   ]
  },
  {
   "cell_type": "code",
   "execution_count": 17,
   "metadata": {},
   "outputs": [],
   "source": [
    "from segmentation_models import Unet\n",
    "\n",
    "# prepare model\n",
    "model1 = Unet(backbone_name='resnet34', encoder_weights='imagenet')\n",
    "c = optimizers.adam()\n",
    "model1.compile(loss=\"binary_crossentropy\", optimizer=c, metrics=[my_iou_metric])\n",
    "\n",
    "# model1.summary()\n",
    "# SVG(model_to_dot(model1, show_shapes=True, show_layer_names=True).create(prog='dot', format='svg'))"
   ]
  },
  {
   "cell_type": "code",
   "execution_count": 18,
   "metadata": {
    "_uuid": "30622932f68888e895a9b8cac91810a1bb3c5e75"
   },
   "outputs": [],
   "source": [
    "# # model\n",
    "# input_layer = Input((img_size_target, img_size_target, 1))\n",
    "# output_layer = build_model(input_layer, 16,0.5)\n",
    "\n",
    "# model1 = Model(input_layer, output_layer)\n",
    "\n",
    "# c = optimizers.adam(lr = 0.01)\n",
    "# model1.compile(loss=\"binary_crossentropy\", optimizer=c, metrics=[my_iou_metric])\n",
    "\n",
    "# #model1.summary()"
   ]
  },
  {
   "cell_type": "code",
   "execution_count": 19,
   "metadata": {
    "_uuid": "41699081be465c14e193ffad4fd00bd56840f156",
    "scrolled": true
   },
   "outputs": [
    {
     "name": "stdout",
     "output_type": "stream",
     "text": [
      "Train on 6400 samples, validate on 800 samples\n",
      "Epoch 1/50\n",
      " - 42s - loss: 0.3691 - my_iou_metric: 0.4624 - val_loss: 0.5904 - val_my_iou_metric: 0.3331\n",
      "\n",
      "Epoch 00001: my_iou_metric improved from -inf to 0.46236, saving model to Unet_resnet_v5.model\n",
      "Epoch 2/50\n",
      " - 32s - loss: 0.2437 - my_iou_metric: 0.6041 - val_loss: 0.6704 - val_my_iou_metric: 0.4736\n",
      "\n",
      "Epoch 00002: my_iou_metric improved from 0.46236 to 0.60413, saving model to Unet_resnet_v5.model\n",
      "Epoch 3/50\n",
      " - 29s - loss: 0.2058 - my_iou_metric: 0.6449 - val_loss: 0.3584 - val_my_iou_metric: 0.4374\n",
      "\n",
      "Epoch 00003: my_iou_metric improved from 0.60413 to 0.64489, saving model to Unet_resnet_v5.model\n",
      "Epoch 4/50\n",
      " - 30s - loss: 0.1895 - my_iou_metric: 0.6693 - val_loss: 0.2198 - val_my_iou_metric: 0.6159\n",
      "\n",
      "Epoch 00004: my_iou_metric improved from 0.64489 to 0.66928, saving model to Unet_resnet_v5.model\n",
      "Epoch 5/50\n",
      " - 30s - loss: 0.1706 - my_iou_metric: 0.6829 - val_loss: 0.1730 - val_my_iou_metric: 0.6850\n",
      "\n",
      "Epoch 00005: my_iou_metric improved from 0.66928 to 0.68294, saving model to Unet_resnet_v5.model\n",
      "Epoch 6/50\n",
      " - 30s - loss: 0.1480 - my_iou_metric: 0.7159 - val_loss: 0.1633 - val_my_iou_metric: 0.7082\n",
      "\n",
      "Epoch 00006: my_iou_metric improved from 0.68294 to 0.71592, saving model to Unet_resnet_v5.model\n",
      "Epoch 7/50\n",
      " - 30s - loss: 0.1446 - my_iou_metric: 0.7195 - val_loss: 0.2104 - val_my_iou_metric: 0.6206\n",
      "\n",
      "Epoch 00007: my_iou_metric improved from 0.71592 to 0.71950, saving model to Unet_resnet_v5.model\n",
      "Epoch 8/50\n",
      " - 30s - loss: 0.1392 - my_iou_metric: 0.7289 - val_loss: 0.1929 - val_my_iou_metric: 0.6914\n",
      "\n",
      "Epoch 00008: my_iou_metric improved from 0.71950 to 0.72886, saving model to Unet_resnet_v5.model\n",
      "Epoch 9/50\n",
      " - 30s - loss: 0.1346 - my_iou_metric: 0.7345 - val_loss: 0.1688 - val_my_iou_metric: 0.6964\n",
      "\n",
      "Epoch 00009: my_iou_metric improved from 0.72886 to 0.73453, saving model to Unet_resnet_v5.model\n",
      "Epoch 10/50\n",
      " - 30s - loss: 0.1286 - my_iou_metric: 0.7395 - val_loss: 0.2025 - val_my_iou_metric: 0.6829\n",
      "\n",
      "Epoch 00010: my_iou_metric improved from 0.73453 to 0.73948, saving model to Unet_resnet_v5.model\n",
      "Epoch 11/50\n",
      " - 31s - loss: 0.1206 - my_iou_metric: 0.7506 - val_loss: 0.1488 - val_my_iou_metric: 0.7179\n",
      "\n",
      "Epoch 00011: my_iou_metric improved from 0.73948 to 0.75062, saving model to Unet_resnet_v5.model\n",
      "Epoch 12/50\n",
      " - 31s - loss: 0.1149 - my_iou_metric: 0.7609 - val_loss: 0.1565 - val_my_iou_metric: 0.7193\n",
      "\n",
      "Epoch 00012: my_iou_metric improved from 0.75062 to 0.76088, saving model to Unet_resnet_v5.model\n",
      "Epoch 13/50\n",
      " - 31s - loss: 0.1167 - my_iou_metric: 0.7516 - val_loss: 0.2285 - val_my_iou_metric: 0.6920\n",
      "\n",
      "Epoch 00013: my_iou_metric did not improve from 0.76088\n",
      "Epoch 14/50\n",
      " - 32s - loss: 0.1057 - my_iou_metric: 0.7637 - val_loss: 0.1990 - val_my_iou_metric: 0.6736\n",
      "\n",
      "Epoch 00014: my_iou_metric improved from 0.76088 to 0.76369, saving model to Unet_resnet_v5.model\n",
      "Epoch 15/50\n",
      " - 31s - loss: 0.0950 - my_iou_metric: 0.7758 - val_loss: 0.1834 - val_my_iou_metric: 0.7351\n",
      "\n",
      "Epoch 00015: my_iou_metric improved from 0.76369 to 0.77584, saving model to Unet_resnet_v5.model\n",
      "Epoch 16/50\n",
      " - 30s - loss: 0.0948 - my_iou_metric: 0.7785 - val_loss: 0.1669 - val_my_iou_metric: 0.6737\n",
      "\n",
      "Epoch 00016: my_iou_metric improved from 0.77584 to 0.77855, saving model to Unet_resnet_v5.model\n",
      "Epoch 17/50\n",
      " - 30s - loss: 0.0909 - my_iou_metric: 0.7737 - val_loss: 0.1822 - val_my_iou_metric: 0.7200\n",
      "\n",
      "Epoch 00017: my_iou_metric did not improve from 0.77855\n",
      "Epoch 18/50\n",
      " - 32s - loss: 0.0930 - my_iou_metric: 0.7716 - val_loss: 0.1524 - val_my_iou_metric: 0.7090\n",
      "\n",
      "Epoch 00018: my_iou_metric did not improve from 0.77855\n",
      "Epoch 19/50\n",
      " - 30s - loss: 0.0815 - my_iou_metric: 0.7911 - val_loss: 0.1895 - val_my_iou_metric: 0.7170\n",
      "\n",
      "Epoch 00019: my_iou_metric improved from 0.77855 to 0.79109, saving model to Unet_resnet_v5.model\n",
      "Epoch 20/50\n",
      " - 30s - loss: 0.0660 - my_iou_metric: 0.8077 - val_loss: 0.1990 - val_my_iou_metric: 0.7456\n",
      "\n",
      "Epoch 00020: my_iou_metric improved from 0.79109 to 0.80766, saving model to Unet_resnet_v5.model\n",
      "Epoch 21/50\n",
      " - 30s - loss: 0.0654 - my_iou_metric: 0.8114 - val_loss: 0.3520 - val_my_iou_metric: 0.6979\n",
      "\n",
      "Epoch 00021: my_iou_metric improved from 0.80766 to 0.81139, saving model to Unet_resnet_v5.model\n",
      "Epoch 22/50\n",
      " - 30s - loss: 0.0610 - my_iou_metric: 0.8146 - val_loss: 0.2185 - val_my_iou_metric: 0.7385\n",
      "\n",
      "Epoch 00022: my_iou_metric improved from 0.81139 to 0.81458, saving model to Unet_resnet_v5.model\n",
      "Epoch 23/50\n",
      " - 30s - loss: 0.0610 - my_iou_metric: 0.8165 - val_loss: 0.2419 - val_my_iou_metric: 0.6348\n",
      "\n",
      "Epoch 00023: my_iou_metric improved from 0.81458 to 0.81645, saving model to Unet_resnet_v5.model\n",
      "Epoch 24/50\n",
      " - 30s - loss: 0.0558 - my_iou_metric: 0.8219 - val_loss: 0.1939 - val_my_iou_metric: 0.7421\n",
      "\n",
      "Epoch 00024: my_iou_metric improved from 0.81645 to 0.82186, saving model to Unet_resnet_v5.model\n",
      "Epoch 25/50\n",
      " - 30s - loss: 0.0728 - my_iou_metric: 0.7968 - val_loss: 0.1848 - val_my_iou_metric: 0.7224\n",
      "\n",
      "Epoch 00025: my_iou_metric did not improve from 0.82186\n",
      "Epoch 26/50\n",
      " - 30s - loss: 0.0576 - my_iou_metric: 0.8208 - val_loss: 0.2199 - val_my_iou_metric: 0.6787\n",
      "\n",
      "Epoch 00026: my_iou_metric did not improve from 0.82186\n",
      "Epoch 27/50\n",
      " - 30s - loss: 0.0677 - my_iou_metric: 0.8112 - val_loss: 0.2005 - val_my_iou_metric: 0.6264\n",
      "\n",
      "Epoch 00027: my_iou_metric did not improve from 0.82186\n",
      "Epoch 28/50\n",
      " - 30s - loss: 0.0676 - my_iou_metric: 0.8087 - val_loss: 0.2109 - val_my_iou_metric: 0.6875\n",
      "\n",
      "Epoch 00028: my_iou_metric did not improve from 0.82186\n",
      "Epoch 29/50\n",
      " - 30s - loss: 0.0536 - my_iou_metric: 0.8264 - val_loss: 0.1945 - val_my_iou_metric: 0.7425\n",
      "\n",
      "Epoch 00029: my_iou_metric improved from 0.82186 to 0.82642, saving model to Unet_resnet_v5.model\n",
      "Epoch 30/50\n",
      " - 30s - loss: 0.0525 - my_iou_metric: 0.8246 - val_loss: 0.1750 - val_my_iou_metric: 0.7374\n",
      "\n",
      "Epoch 00030: my_iou_metric did not improve from 0.82642\n",
      "Epoch 31/50\n",
      " - 30s - loss: 0.0613 - my_iou_metric: 0.8177 - val_loss: 0.2103 - val_my_iou_metric: 0.7253\n",
      "\n",
      "Epoch 00031: my_iou_metric did not improve from 0.82642\n",
      "Epoch 32/50\n",
      " - 30s - loss: 0.0505 - my_iou_metric: 0.8308 - val_loss: 0.2262 - val_my_iou_metric: 0.7661\n",
      "\n",
      "Epoch 00032: my_iou_metric improved from 0.82642 to 0.83077, saving model to Unet_resnet_v5.model\n",
      "Epoch 33/50\n",
      " - 30s - loss: 0.0365 - my_iou_metric: 0.8569 - val_loss: 0.1757 - val_my_iou_metric: 0.7771\n",
      "\n",
      "Epoch 00033: my_iou_metric improved from 0.83077 to 0.85686, saving model to Unet_resnet_v5.model\n",
      "Epoch 34/50\n",
      " - 30s - loss: 0.0338 - my_iou_metric: 0.8657 - val_loss: 0.1805 - val_my_iou_metric: 0.7541\n",
      "\n",
      "Epoch 00034: my_iou_metric improved from 0.85686 to 0.86572, saving model to Unet_resnet_v5.model\n",
      "Epoch 35/50\n",
      " - 30s - loss: 0.0375 - my_iou_metric: 0.8586 - val_loss: 0.1788 - val_my_iou_metric: 0.7641\n",
      "\n",
      "Epoch 00035: my_iou_metric did not improve from 0.86572\n",
      "Epoch 36/50\n",
      " - 30s - loss: 0.0303 - my_iou_metric: 0.8715 - val_loss: 0.2184 - val_my_iou_metric: 0.7659\n",
      "\n",
      "Epoch 00036: my_iou_metric improved from 0.86572 to 0.87153, saving model to Unet_resnet_v5.model\n",
      "Epoch 37/50\n",
      " - 30s - loss: 0.0290 - my_iou_metric: 0.8788 - val_loss: 0.2454 - val_my_iou_metric: 0.7780\n",
      "\n",
      "Epoch 00037: my_iou_metric improved from 0.87153 to 0.87881, saving model to Unet_resnet_v5.model\n",
      "Epoch 38/50\n",
      " - 30s - loss: 0.0284 - my_iou_metric: 0.8775 - val_loss: 0.2149 - val_my_iou_metric: 0.7332\n",
      "\n",
      "Epoch 00038: my_iou_metric did not improve from 0.87881\n",
      "Epoch 39/50\n",
      " - 30s - loss: 0.0756 - my_iou_metric: 0.8049 - val_loss: 0.2551 - val_my_iou_metric: 0.6737\n",
      "\n",
      "Epoch 00039: my_iou_metric did not improve from 0.87881\n",
      "Epoch 40/50\n",
      " - 30s - loss: 0.0611 - my_iou_metric: 0.8141 - val_loss: 0.2012 - val_my_iou_metric: 0.7031\n",
      "\n",
      "Epoch 00040: my_iou_metric did not improve from 0.87881\n",
      "Epoch 41/50\n",
      " - 30s - loss: 0.0634 - my_iou_metric: 0.8176 - val_loss: 0.2229 - val_my_iou_metric: 0.7544\n",
      "\n",
      "Epoch 00041: my_iou_metric did not improve from 0.87881\n",
      "Epoch 42/50\n",
      " - 30s - loss: 0.0382 - my_iou_metric: 0.8512 - val_loss: 0.1873 - val_my_iou_metric: 0.7570\n",
      "\n",
      "Epoch 00042: my_iou_metric did not improve from 0.87881\n",
      "\n",
      "Epoch 00042: ReduceLROnPlateau reducing learning rate to 0.0005000000237487257.\n",
      "Epoch 43/50\n",
      " - 30s - loss: 0.0293 - my_iou_metric: 0.8756 - val_loss: 0.2074 - val_my_iou_metric: 0.7726\n",
      "\n",
      "Epoch 00043: my_iou_metric did not improve from 0.87881\n",
      "Epoch 44/50\n"
     ]
    },
    {
     "name": "stdout",
     "output_type": "stream",
     "text": [
      " - 30s - loss: 0.0267 - my_iou_metric: 0.8845 - val_loss: 0.2363 - val_my_iou_metric: 0.7744\n",
      "\n",
      "Epoch 00044: my_iou_metric improved from 0.87881 to 0.88453, saving model to Unet_resnet_v5.model\n",
      "Epoch 45/50\n",
      " - 30s - loss: 0.0246 - my_iou_metric: 0.8895 - val_loss: 0.2457 - val_my_iou_metric: 0.7696\n",
      "\n",
      "Epoch 00045: my_iou_metric improved from 0.88453 to 0.88953, saving model to Unet_resnet_v5.model\n",
      "Epoch 46/50\n",
      " - 30s - loss: 0.0236 - my_iou_metric: 0.8916 - val_loss: 0.2578 - val_my_iou_metric: 0.7680\n",
      "\n",
      "Epoch 00046: my_iou_metric improved from 0.88953 to 0.89164, saving model to Unet_resnet_v5.model\n",
      "Epoch 47/50\n",
      " - 30s - loss: 0.0224 - my_iou_metric: 0.8954 - val_loss: 0.2697 - val_my_iou_metric: 0.7712\n",
      "\n",
      "Epoch 00047: my_iou_metric improved from 0.89164 to 0.89544, saving model to Unet_resnet_v5.model\n",
      "Epoch 48/50\n",
      " - 30s - loss: 0.0217 - my_iou_metric: 0.8975 - val_loss: 0.2788 - val_my_iou_metric: 0.7639\n",
      "\n",
      "Epoch 00048: my_iou_metric improved from 0.89544 to 0.89745, saving model to Unet_resnet_v5.model\n",
      "Epoch 49/50\n",
      " - 30s - loss: 0.0211 - my_iou_metric: 0.8998 - val_loss: 0.2675 - val_my_iou_metric: 0.7577\n",
      "\n",
      "Epoch 00049: my_iou_metric improved from 0.89745 to 0.89977, saving model to Unet_resnet_v5.model\n",
      "Epoch 50/50\n",
      " - 30s - loss: 0.0205 - my_iou_metric: 0.9015 - val_loss: 0.2908 - val_my_iou_metric: 0.7575\n",
      "\n",
      "Epoch 00050: my_iou_metric improved from 0.89977 to 0.90147, saving model to Unet_resnet_v5.model\n"
     ]
    }
   ],
   "source": [
    "#early_stopping = EarlyStopping(monitor='my_iou_metric', mode = 'max',patience=10, verbose=1)\n",
    "model_checkpoint = ModelCheckpoint(save_model_name,monitor='my_iou_metric', \n",
    "                                   mode = 'max', save_best_only=True, verbose=1)\n",
    "reduce_lr = ReduceLROnPlateau(monitor='my_iou_metric', mode = 'max',factor=0.5, patience=5, min_lr=0.0001, verbose=1)\n",
    "\n",
    "epochs = 50\n",
    "batch_size = 32\n",
    "history = model1.fit(x_train, y_train,\n",
    "                    validation_data=[x_valid, y_valid], \n",
    "                    epochs=epochs,\n",
    "                    batch_size=batch_size,\n",
    "                    callbacks=[ model_checkpoint,reduce_lr], \n",
    "                    verbose=2)"
   ]
  },
  {
   "cell_type": "code",
   "execution_count": 20,
   "metadata": {
    "_uuid": "513a3f8490ae5cbc61651458750ba369f99f6f62",
    "scrolled": true
   },
   "outputs": [],
   "source": [
    "model1 = load_model(save_model_name,custom_objects={'my_iou_metric': my_iou_metric})\n",
    "# model1 = load_model(save_model_name,custom_objects={'my_iou_metric': my_iou_metric, 'lovasz_loss': lovasz_loss, 'my_iou_metric_2': my_iou_metric_2})\n",
    "# remove layter activation layer and use losvasz loss\n",
    "input_x = model1.layers[0].input\n",
    "\n",
    "output_layer = model1.layers[-1].input\n",
    "model = Model(input_x, output_layer)\n",
    "c = optimizers.adam()\n",
    "\n",
    "# lovasz_loss need input range (-∞，+∞), so cancel the last \"sigmoid\" activation  \n",
    "# Then the default threshod for pixel prediction is 0 instead of 0.5, as in my_iou_metric_2.\n",
    "model.compile(loss=lovasz_loss, optimizer=c, metrics=[my_iou_metric_2])\n",
    "\n",
    "#model.summary()"
   ]
  },
  {
   "cell_type": "code",
   "execution_count": 21,
   "metadata": {
    "_uuid": "bc68a1d9f9ec3837a2988bd7fe05d1fffdbc381d",
    "scrolled": true
   },
   "outputs": [
    {
     "name": "stdout",
     "output_type": "stream",
     "text": [
      "Train on 6400 samples, validate on 800 samples\n",
      "Epoch 1/100\n",
      " - 114s - loss: 0.2528 - my_iou_metric_2: 0.8143 - val_loss: 0.4925 - val_my_iou_metric_2: 0.6921\n",
      "\n",
      "Epoch 00001: val_my_iou_metric_2 improved from -inf to 0.69212, saving model to Unet_resnet_v5.model\n",
      "Epoch 2/100\n",
      " - 106s - loss: 0.2619 - my_iou_metric_2: 0.7962 - val_loss: 0.5888 - val_my_iou_metric_2: 0.6822\n",
      "\n",
      "Epoch 00002: val_my_iou_metric_2 did not improve from 0.69212\n",
      "Epoch 3/100\n",
      " - 106s - loss: 0.2922 - my_iou_metric_2: 0.7777 - val_loss: 0.4675 - val_my_iou_metric_2: 0.6950\n",
      "\n",
      "Epoch 00003: val_my_iou_metric_2 improved from 0.69212 to 0.69500, saving model to Unet_resnet_v5.model\n",
      "Epoch 4/100\n",
      " - 106s - loss: 0.2592 - my_iou_metric_2: 0.7906 - val_loss: 0.4306 - val_my_iou_metric_2: 0.7186\n",
      "\n",
      "Epoch 00004: val_my_iou_metric_2 improved from 0.69500 to 0.71862, saving model to Unet_resnet_v5.model\n",
      "Epoch 5/100\n",
      " - 105s - loss: 0.2654 - my_iou_metric_2: 0.7855 - val_loss: 0.4258 - val_my_iou_metric_2: 0.7100\n",
      "\n",
      "Epoch 00005: val_my_iou_metric_2 did not improve from 0.71862\n",
      "Epoch 6/100\n",
      " - 106s - loss: 0.2564 - my_iou_metric_2: 0.7888 - val_loss: 0.4737 - val_my_iou_metric_2: 0.6896\n",
      "\n",
      "Epoch 00006: val_my_iou_metric_2 did not improve from 0.71862\n",
      "Epoch 7/100\n",
      " - 105s - loss: 0.2610 - my_iou_metric_2: 0.7882 - val_loss: 0.4222 - val_my_iou_metric_2: 0.7175\n",
      "\n",
      "Epoch 00007: val_my_iou_metric_2 did not improve from 0.71862\n",
      "Epoch 8/100\n",
      " - 105s - loss: 0.3416 - my_iou_metric_2: 0.7512 - val_loss: 0.8663 - val_my_iou_metric_2: 0.5190\n",
      "\n",
      "Epoch 00008: val_my_iou_metric_2 did not improve from 0.71862\n",
      "Epoch 9/100\n",
      " - 106s - loss: 0.3894 - my_iou_metric_2: 0.7307 - val_loss: 0.4249 - val_my_iou_metric_2: 0.7259\n",
      "\n",
      "Epoch 00009: val_my_iou_metric_2 improved from 0.71862 to 0.72587, saving model to Unet_resnet_v5.model\n",
      "Epoch 10/100\n",
      " - 105s - loss: 0.3967 - my_iou_metric_2: 0.7275 - val_loss: 0.6460 - val_my_iou_metric_2: 0.5899\n",
      "\n",
      "Epoch 00010: val_my_iou_metric_2 did not improve from 0.72587\n",
      "Epoch 11/100\n",
      " - 105s - loss: 0.4605 - my_iou_metric_2: 0.6951 - val_loss: 1.4086 - val_my_iou_metric_2: 0.3073\n",
      "\n",
      "Epoch 00011: val_my_iou_metric_2 did not improve from 0.72587\n",
      "Epoch 12/100\n",
      " - 106s - loss: 0.5363 - my_iou_metric_2: 0.6605 - val_loss: 0.4977 - val_my_iou_metric_2: 0.6814\n",
      "\n",
      "Epoch 00012: val_my_iou_metric_2 did not improve from 0.72587\n",
      "Epoch 13/100\n",
      " - 105s - loss: 0.4991 - my_iou_metric_2: 0.6797 - val_loss: 0.8958 - val_my_iou_metric_2: 0.4728\n",
      "\n",
      "Epoch 00013: val_my_iou_metric_2 did not improve from 0.72587\n",
      "Epoch 14/100\n",
      " - 106s - loss: 0.5714 - my_iou_metric_2: 0.6461 - val_loss: 0.5663 - val_my_iou_metric_2: 0.6426\n",
      "\n",
      "Epoch 00014: val_my_iou_metric_2 did not improve from 0.72587\n",
      "\n",
      "Epoch 00014: ReduceLROnPlateau reducing learning rate to 0.0005000000237487257.\n",
      "Epoch 15/100\n",
      " - 106s - loss: 0.4793 - my_iou_metric_2: 0.6868 - val_loss: 0.4655 - val_my_iou_metric_2: 0.6996\n",
      "\n",
      "Epoch 00015: val_my_iou_metric_2 did not improve from 0.72587\n",
      "Epoch 16/100\n",
      " - 105s - loss: 0.4653 - my_iou_metric_2: 0.6917 - val_loss: 0.7114 - val_my_iou_metric_2: 0.5766\n",
      "\n",
      "Epoch 00016: val_my_iou_metric_2 did not improve from 0.72587\n",
      "Epoch 17/100\n",
      " - 106s - loss: 0.4716 - my_iou_metric_2: 0.6878 - val_loss: 0.4658 - val_my_iou_metric_2: 0.6959\n",
      "\n",
      "Epoch 00017: val_my_iou_metric_2 did not improve from 0.72587\n",
      "Epoch 18/100\n",
      " - 105s - loss: 0.4247 - my_iou_metric_2: 0.7061 - val_loss: 0.4450 - val_my_iou_metric_2: 0.7038\n",
      "\n",
      "Epoch 00018: val_my_iou_metric_2 did not improve from 0.72587\n",
      "Epoch 19/100\n",
      " - 105s - loss: 0.3915 - my_iou_metric_2: 0.7229 - val_loss: 0.4221 - val_my_iou_metric_2: 0.7170\n",
      "\n",
      "Epoch 00019: val_my_iou_metric_2 did not improve from 0.72587\n",
      "\n",
      "Epoch 00019: ReduceLROnPlateau reducing learning rate to 0.0002500000118743628.\n",
      "Epoch 20/100\n",
      " - 105s - loss: 0.3692 - my_iou_metric_2: 0.7315 - val_loss: 0.4274 - val_my_iou_metric_2: 0.7070\n",
      "\n",
      "Epoch 00020: val_my_iou_metric_2 did not improve from 0.72587\n",
      "Epoch 21/100\n",
      " - 105s - loss: 0.3800 - my_iou_metric_2: 0.7256 - val_loss: 0.4217 - val_my_iou_metric_2: 0.7121\n",
      "\n",
      "Epoch 00021: val_my_iou_metric_2 did not improve from 0.72587\n",
      "Epoch 22/100\n",
      " - 106s - loss: 0.3587 - my_iou_metric_2: 0.7380 - val_loss: 0.4080 - val_my_iou_metric_2: 0.7194\n",
      "\n",
      "Epoch 00022: val_my_iou_metric_2 did not improve from 0.72587\n",
      "Epoch 23/100\n",
      " - 106s - loss: 0.3463 - my_iou_metric_2: 0.7408 - val_loss: 0.3966 - val_my_iou_metric_2: 0.7235\n",
      "\n",
      "Epoch 00023: val_my_iou_metric_2 did not improve from 0.72587\n",
      "Epoch 24/100\n",
      " - 105s - loss: 0.3349 - my_iou_metric_2: 0.7458 - val_loss: 0.3876 - val_my_iou_metric_2: 0.7274\n",
      "\n",
      "Epoch 00024: val_my_iou_metric_2 improved from 0.72587 to 0.72738, saving model to Unet_resnet_v5.model\n",
      "Epoch 25/100\n",
      " - 106s - loss: 0.3271 - my_iou_metric_2: 0.7499 - val_loss: 0.3796 - val_my_iou_metric_2: 0.7323\n",
      "\n",
      "Epoch 00025: val_my_iou_metric_2 improved from 0.72738 to 0.73225, saving model to Unet_resnet_v5.model\n",
      "Epoch 26/100\n",
      " - 106s - loss: 0.3354 - my_iou_metric_2: 0.7435 - val_loss: 0.3946 - val_my_iou_metric_2: 0.7256\n",
      "\n",
      "Epoch 00026: val_my_iou_metric_2 did not improve from 0.73225\n",
      "Epoch 27/100\n",
      " - 105s - loss: 0.3185 - my_iou_metric_2: 0.7527 - val_loss: 0.3755 - val_my_iou_metric_2: 0.7341\n",
      "\n",
      "Epoch 00027: val_my_iou_metric_2 improved from 0.73225 to 0.73412, saving model to Unet_resnet_v5.model\n",
      "Epoch 28/100\n",
      " - 106s - loss: 0.3139 - my_iou_metric_2: 0.7538 - val_loss: 0.3727 - val_my_iou_metric_2: 0.7357\n",
      "\n",
      "Epoch 00028: val_my_iou_metric_2 improved from 0.73412 to 0.73575, saving model to Unet_resnet_v5.model\n",
      "Epoch 29/100\n",
      " - 105s - loss: 0.3209 - my_iou_metric_2: 0.7505 - val_loss: 0.4080 - val_my_iou_metric_2: 0.7176\n",
      "\n",
      "Epoch 00029: val_my_iou_metric_2 did not improve from 0.73575\n",
      "Epoch 30/100\n",
      " - 105s - loss: 0.3096 - my_iou_metric_2: 0.7552 - val_loss: 0.3794 - val_my_iou_metric_2: 0.7327\n",
      "\n",
      "Epoch 00030: val_my_iou_metric_2 did not improve from 0.73575\n",
      "Epoch 31/100\n",
      " - 106s - loss: 0.3132 - my_iou_metric_2: 0.7549 - val_loss: 0.3955 - val_my_iou_metric_2: 0.7275\n",
      "\n",
      "Epoch 00031: val_my_iou_metric_2 did not improve from 0.73575\n",
      "Epoch 32/100\n",
      " - 106s - loss: 0.3089 - my_iou_metric_2: 0.7575 - val_loss: 0.3910 - val_my_iou_metric_2: 0.7231\n",
      "\n",
      "Epoch 00032: val_my_iou_metric_2 did not improve from 0.73575\n",
      "Epoch 33/100\n",
      " - 106s - loss: 0.3014 - my_iou_metric_2: 0.7604 - val_loss: 0.3646 - val_my_iou_metric_2: 0.7435\n",
      "\n",
      "Epoch 00033: val_my_iou_metric_2 improved from 0.73575 to 0.74350, saving model to Unet_resnet_v5.model\n",
      "Epoch 34/100\n",
      " - 106s - loss: 0.2909 - my_iou_metric_2: 0.7665 - val_loss: 0.3572 - val_my_iou_metric_2: 0.7435\n",
      "\n",
      "Epoch 00034: val_my_iou_metric_2 improved from 0.74350 to 0.74350, saving model to Unet_resnet_v5.model\n",
      "Epoch 35/100\n",
      " - 106s - loss: 0.2769 - my_iou_metric_2: 0.7715 - val_loss: 0.3576 - val_my_iou_metric_2: 0.7446\n",
      "\n",
      "Epoch 00035: val_my_iou_metric_2 improved from 0.74350 to 0.74463, saving model to Unet_resnet_v5.model\n",
      "Epoch 36/100\n",
      " - 105s - loss: 0.2706 - my_iou_metric_2: 0.7741 - val_loss: 0.3584 - val_my_iou_metric_2: 0.7442\n",
      "\n",
      "Epoch 00036: val_my_iou_metric_2 did not improve from 0.74463\n",
      "Epoch 37/100\n",
      " - 106s - loss: 0.2796 - my_iou_metric_2: 0.7678 - val_loss: 0.3895 - val_my_iou_metric_2: 0.7268\n",
      "\n",
      "Epoch 00037: val_my_iou_metric_2 did not improve from 0.74463\n",
      "Epoch 38/100\n",
      " - 106s - loss: 0.2744 - my_iou_metric_2: 0.7719 - val_loss: 0.3712 - val_my_iou_metric_2: 0.7379\n",
      "\n",
      "Epoch 00038: val_my_iou_metric_2 did not improve from 0.74463\n",
      "Epoch 39/100\n",
      " - 105s - loss: 0.2676 - my_iou_metric_2: 0.7742 - val_loss: 0.3441 - val_my_iou_metric_2: 0.7535\n",
      "\n",
      "Epoch 00039: val_my_iou_metric_2 improved from 0.74463 to 0.75350, saving model to Unet_resnet_v5.model\n",
      "Epoch 40/100\n",
      " - 106s - loss: 0.2825 - my_iou_metric_2: 0.7670 - val_loss: 0.3549 - val_my_iou_metric_2: 0.7492\n",
      "\n",
      "Epoch 00040: val_my_iou_metric_2 did not improve from 0.75350\n",
      "Epoch 41/100\n",
      " - 105s - loss: 0.2753 - my_iou_metric_2: 0.7723 - val_loss: 0.3639 - val_my_iou_metric_2: 0.7443\n",
      "\n",
      "Epoch 00041: val_my_iou_metric_2 did not improve from 0.75350\n",
      "Epoch 42/100\n",
      " - 106s - loss: 0.2609 - my_iou_metric_2: 0.7779 - val_loss: 0.3503 - val_my_iou_metric_2: 0.7511\n",
      "\n",
      "Epoch 00042: val_my_iou_metric_2 did not improve from 0.75350\n",
      "Epoch 43/100\n",
      " - 111s - loss: 0.2618 - my_iou_metric_2: 0.7766 - val_loss: 0.3730 - val_my_iou_metric_2: 0.7334\n",
      "\n",
      "Epoch 00043: val_my_iou_metric_2 did not improve from 0.75350\n",
      "Epoch 44/100\n"
     ]
    },
    {
     "name": "stdout",
     "output_type": "stream",
     "text": [
      " - 114s - loss: 0.2520 - my_iou_metric_2: 0.7811 - val_loss: 0.3438 - val_my_iou_metric_2: 0.7499\n",
      "\n",
      "Epoch 00044: val_my_iou_metric_2 did not improve from 0.75350\n",
      "\n",
      "Epoch 00044: ReduceLROnPlateau reducing learning rate to 0.0001250000059371814.\n",
      "Epoch 45/100\n",
      " - 106s - loss: 0.2509 - my_iou_metric_2: 0.7799 - val_loss: 0.3585 - val_my_iou_metric_2: 0.7441\n",
      "\n",
      "Epoch 00045: val_my_iou_metric_2 did not improve from 0.75350\n",
      "Epoch 46/100\n",
      " - 105s - loss: 0.2478 - my_iou_metric_2: 0.7809 - val_loss: 0.3605 - val_my_iou_metric_2: 0.7415\n",
      "\n",
      "Epoch 00046: val_my_iou_metric_2 did not improve from 0.75350\n",
      "Epoch 47/100\n",
      " - 106s - loss: 0.2393 - my_iou_metric_2: 0.7856 - val_loss: 0.3593 - val_my_iou_metric_2: 0.7443\n",
      "\n",
      "Epoch 00047: val_my_iou_metric_2 did not improve from 0.75350\n",
      "Epoch 48/100\n",
      " - 106s - loss: 0.2305 - my_iou_metric_2: 0.7890 - val_loss: 0.3530 - val_my_iou_metric_2: 0.7480\n",
      "\n",
      "Epoch 00048: val_my_iou_metric_2 did not improve from 0.75350\n",
      "Epoch 49/100\n",
      " - 106s - loss: 0.2300 - my_iou_metric_2: 0.7889 - val_loss: 0.3550 - val_my_iou_metric_2: 0.7472\n",
      "\n",
      "Epoch 00049: val_my_iou_metric_2 did not improve from 0.75350\n",
      "\n",
      "Epoch 00049: ReduceLROnPlateau reducing learning rate to 0.0001.\n",
      "Epoch 50/100\n",
      " - 106s - loss: 0.2281 - my_iou_metric_2: 0.7892 - val_loss: 0.3654 - val_my_iou_metric_2: 0.7409\n",
      "\n",
      "Epoch 00050: val_my_iou_metric_2 did not improve from 0.75350\n",
      "Epoch 51/100\n",
      " - 106s - loss: 0.2262 - my_iou_metric_2: 0.7893 - val_loss: 0.3584 - val_my_iou_metric_2: 0.7445\n",
      "\n",
      "Epoch 00051: val_my_iou_metric_2 did not improve from 0.75350\n",
      "Epoch 52/100\n",
      " - 106s - loss: 0.2257 - my_iou_metric_2: 0.7896 - val_loss: 0.3612 - val_my_iou_metric_2: 0.7413\n",
      "\n",
      "Epoch 00052: val_my_iou_metric_2 did not improve from 0.75350\n",
      "Epoch 53/100\n",
      " - 106s - loss: 0.2257 - my_iou_metric_2: 0.7888 - val_loss: 0.3620 - val_my_iou_metric_2: 0.7414\n",
      "\n",
      "Epoch 00053: val_my_iou_metric_2 did not improve from 0.75350\n",
      "Epoch 54/100\n",
      " - 105s - loss: 0.2217 - my_iou_metric_2: 0.7934 - val_loss: 0.3499 - val_my_iou_metric_2: 0.7509\n",
      "\n",
      "Epoch 00054: val_my_iou_metric_2 did not improve from 0.75350\n",
      "Epoch 55/100\n",
      " - 106s - loss: 0.2216 - my_iou_metric_2: 0.7918 - val_loss: 0.3430 - val_my_iou_metric_2: 0.7521\n",
      "\n",
      "Epoch 00055: val_my_iou_metric_2 did not improve from 0.75350\n",
      "Epoch 56/100\n",
      " - 106s - loss: 0.2143 - my_iou_metric_2: 0.7956 - val_loss: 0.3543 - val_my_iou_metric_2: 0.7478\n",
      "\n",
      "Epoch 00056: val_my_iou_metric_2 did not improve from 0.75350\n",
      "Epoch 57/100\n",
      " - 105s - loss: 0.2147 - my_iou_metric_2: 0.7958 - val_loss: 0.3533 - val_my_iou_metric_2: 0.7483\n",
      "\n",
      "Epoch 00057: val_my_iou_metric_2 did not improve from 0.75350\n",
      "Epoch 58/100\n",
      " - 106s - loss: 0.2140 - my_iou_metric_2: 0.7954 - val_loss: 0.3489 - val_my_iou_metric_2: 0.7511\n",
      "\n",
      "Epoch 00058: val_my_iou_metric_2 did not improve from 0.75350\n",
      "Epoch 59/100\n",
      " - 104s - loss: 0.2143 - my_iou_metric_2: 0.7956 - val_loss: 0.3548 - val_my_iou_metric_2: 0.7469\n",
      "\n",
      "Epoch 00059: val_my_iou_metric_2 did not improve from 0.75350\n",
      "Epoch 00059: early stopping\n"
     ]
    }
   ],
   "source": [
    "early_stopping = EarlyStopping(monitor='val_my_iou_metric_2', mode = 'max',patience=20, verbose=1)\n",
    "model_checkpoint = ModelCheckpoint(save_model_name,monitor='val_my_iou_metric_2', \n",
    "                                   mode = 'max', save_best_only=True, verbose=1)\n",
    "reduce_lr = ReduceLROnPlateau(monitor='val_my_iou_metric_2', mode = 'max',factor=0.5, patience=5, min_lr=0.0001, verbose=1)\n",
    "epochs = 100\n",
    "batch_size = 32\n",
    "\n",
    "history = model.fit(x_train, y_train,\n",
    "                    validation_data=[x_valid, y_valid], \n",
    "                    epochs=epochs,\n",
    "                    batch_size=batch_size,\n",
    "                    callbacks=[ model_checkpoint,reduce_lr,early_stopping], \n",
    "                    verbose=2)"
   ]
  },
  {
   "cell_type": "code",
   "execution_count": 22,
   "metadata": {
    "_uuid": "347c6567c95430f28ec51b94f42603e37a4056db"
   },
   "outputs": [
    {
     "data": {
      "text/plain": [
       "<matplotlib.legend.Legend at 0x7fa8067d10f0>"
      ]
     },
     "execution_count": 22,
     "metadata": {},
     "output_type": "execute_result"
    },
    {
     "data": {
      "image/png": "[encoded data removed]",
      "text/plain": [
       "<Figure size 1080x360 with 2 Axes>"
      ]
     },
     "metadata": {},
     "output_type": "display_data"
    }
   ],
   "source": [
    "fig, (ax_loss, ax_score) = plt.subplots(1, 2, figsize=(15,5))\n",
    "ax_loss.plot(history.epoch, history.history[\"loss\"], label=\"Train loss\")\n",
    "ax_loss.plot(history.epoch, history.history[\"val_loss\"], label=\"Validation loss\")\n",
    "ax_loss.legend()\n",
    "ax_score.plot(history.epoch, history.history[\"my_iou_metric_2\"], label=\"Train score\")\n",
    "ax_score.plot(history.epoch, history.history[\"val_my_iou_metric_2\"], label=\"Validation score\")\n",
    "ax_score.legend()"
   ]
  },
  {
   "cell_type": "code",
   "execution_count": 23,
   "metadata": {
    "_uuid": "a081f8f61a713457c8c8f3979a78f75541875456"
   },
   "outputs": [],
   "source": [
    "model = load_model(save_model_name,custom_objects={'my_iou_metric_2': my_iou_metric_2,\n",
    "                                                   'lovasz_loss': lovasz_loss})\n",
    "\n"
   ]
  },
  {
   "cell_type": "code",
   "execution_count": 24,
   "metadata": {
    "_uuid": "f68651e1ce6ad9a461c8f1a25a1250fd489adfed"
   },
   "outputs": [],
   "source": [
    "def predict_result(model,x_test,img_size_target): # predict both orginal and reflect x\n",
    "    x_test_reflect =  np.array([np.fliplr(x) for x in x_test])\n",
    "    preds_test = model.predict(x_test).reshape(-1, img_size_target, img_size_target)\n",
    "    preds_test2_refect = model.predict(x_test_reflect).reshape(-1, img_size_target, img_size_target)\n",
    "    preds_test += np.array([ np.fliplr(x) for x in preds_test2_refect] )\n",
    "    return preds_test/2"
   ]
  },
  {
   "cell_type": "code",
   "execution_count": 28,
   "metadata": {
    "_uuid": "b7a061700364ea17735f953d6bd3c835bc3dc630"
   },
   "outputs": [],
   "source": [
    "preds_valid = predict_result(model,x_valid,128)"
   ]
  },
  {
   "cell_type": "code",
   "execution_count": 29,
   "metadata": {
    "_uuid": "5a9b1a900a8a4d031978c3b5ef2e739b5661de73"
   },
   "outputs": [],
   "source": [
    "#Score the model and do a threshold optimization by the best IoU.\n",
    "\n",
    "# src: https://www.kaggle.com/aglotero/another-iou-metric\n",
    "def iou_metric(y_true_in, y_pred_in, print_table=False):\n",
    "    labels = y_true_in\n",
    "    y_pred = y_pred_in\n",
    "\n",
    "\n",
    "    true_objects = 2\n",
    "    pred_objects = 2\n",
    "\n",
    "    #  if all zeros, original code  generate wrong  bins [-0.5 0 0.5],\n",
    "    temp1 = np.histogram2d(labels.flatten(), y_pred.flatten(), bins=([0,0.5,1], [0,0.5, 1]))\n",
    "#     temp1 = np.histogram2d(labels.flatten(), y_pred.flatten(), bins=(true_objects, pred_objects))\n",
    "    #print(temp1)\n",
    "    intersection = temp1[0]\n",
    "    #print(\"temp2 = \",temp1[1])\n",
    "    #print(intersection.shape)\n",
    "   # print(intersection)\n",
    "    # Compute areas (needed for finding the union between all objects)\n",
    "    #print(np.histogram(labels, bins = true_objects))\n",
    "    area_true = np.histogram(labels,bins=[0,0.5,1])[0]\n",
    "    #print(\"area_true = \",area_true)\n",
    "    area_pred = np.histogram(y_pred, bins=[0,0.5,1])[0]\n",
    "    area_true = np.expand_dims(area_true, -1)\n",
    "    area_pred = np.expand_dims(area_pred, 0)\n",
    "\n",
    "    # Compute union\n",
    "    union = area_true + area_pred - intersection\n",
    "  \n",
    "    # Exclude background from the analysis\n",
    "    intersection = intersection[1:,1:]\n",
    "    intersection[intersection == 0] = 1e-9\n",
    "    \n",
    "    union = union[1:,1:]\n",
    "    union[union == 0] = 1e-9\n",
    "\n",
    "    # Compute the intersection over union\n",
    "    iou = intersection / union\n",
    "\n",
    "    # Precision helper function\n",
    "    def precision_at(threshold, iou):\n",
    "        matches = iou > threshold\n",
    "        true_positives = np.sum(matches, axis=1) == 1   # Correct objects\n",
    "        false_positives = np.sum(matches, axis=0) == 0  # Missed objects\n",
    "        false_negatives = np.sum(matches, axis=1) == 0  # Extra objects\n",
    "        tp, fp, fn = np.sum(true_positives), np.sum(false_positives), np.sum(false_negatives)\n",
    "        return tp, fp, fn\n",
    "\n",
    "    # Loop over IoU thresholds\n",
    "    prec = []\n",
    "    if print_table:\n",
    "        print(\"Thresh\\tTP\\tFP\\tFN\\tPrec.\")\n",
    "    for t in np.arange(0.5, 1.0, 0.05):\n",
    "        tp, fp, fn = precision_at(t, iou)\n",
    "        if (tp + fp + fn) > 0:\n",
    "            p = tp / (tp + fp + fn)\n",
    "        else:\n",
    "            p = 0\n",
    "        if print_table:\n",
    "            print(\"{:1.3f}\\t{}\\t{}\\t{}\\t{:1.3f}\".format(t, tp, fp, fn, p))\n",
    "        prec.append(p)\n",
    "    \n",
    "    if print_table:\n",
    "        print(\"AP\\t-\\t-\\t-\\t{:1.3f}\".format(np.mean(prec)))\n",
    "    return np.mean(prec)\n",
    "\n",
    "def iou_metric_batch(y_true_in, y_pred_in):\n",
    "    batch_size = y_true_in.shape[0]\n",
    "    metric = []\n",
    "    for batch in range(batch_size):\n",
    "        value = iou_metric(y_true_in[batch], y_pred_in[batch])\n",
    "        metric.append(value)\n",
    "    return np.mean(metric)\n",
    "\n"
   ]
  },
  {
   "cell_type": "code",
   "execution_count": 30,
   "metadata": {
    "_uuid": "91b1be75d7e8ff74db956c8c846c47ed7576ecb2"
   },
   "outputs": [
    {
     "data": {
      "application/vnd.jupyter.widget-view+json": {
       "model_id": "a456cd934f96422eb4dc6d693017c2aa",
       "version_major": 2,
       "version_minor": 0
      },
      "text/plain": [
       "HBox(children=(IntProgress(value=0, max=31), HTML(value='')))"
      ]
     },
     "metadata": {},
     "output_type": "display_data"
    },
    {
     "name": "stdout",
     "output_type": "stream",
     "text": [
      "\n",
      "[ 0.75775   0.758625  0.758875  0.75875   0.760125  0.760375  0.760125\n",
      "  0.76      0.759625  0.759125  0.759875  0.76025   0.760125  0.7625\n",
      "  0.76225   0.760375  0.75975   0.759875  0.759     0.758625  0.7585\n",
      "  0.75775   0.757125  0.756875  0.75625   0.755375  0.755     0.754     0.7525\n",
      "  0.751125  0.750375]\n"
     ]
    }
   ],
   "source": [
    "## Scoring for last model, choose threshold by validation data \n",
    "thresholds_ori = np.linspace(0.3, 0.7, 31)\n",
    "# Reverse sigmoid function: Use code below because the  sigmoid activation was removed\n",
    "thresholds = np.log(thresholds_ori/(1-thresholds_ori)) \n",
    "\n",
    "# ious = np.array([get_iou_vector(y_valid, preds_valid > threshold) for threshold in tqdm_notebook(thresholds)])\n",
    "# print(ious)\n",
    "ious = np.array([iou_metric_batch(y_valid, preds_valid > threshold) for threshold in tqdm_notebook(thresholds)])\n",
    "print(ious)"
   ]
  },
  {
   "cell_type": "code",
   "execution_count": 31,
   "metadata": {
    "_uuid": "1beb285910aa6532d7a69a70afa6a9671e6d347d"
   },
   "outputs": [
    {
     "data": {
      "text/plain": [
       "<matplotlib.legend.Legend at 0x7fa7fa9e24e0>"
      ]
     },
     "execution_count": 31,
     "metadata": {},
     "output_type": "execute_result"
    },
    {
     "data": {
      "image/png": "[encoded data removed]",
      "text/plain": [
       "<Figure size 432x288 with 1 Axes>"
      ]
     },
     "metadata": {},
     "output_type": "display_data"
    }
   ],
   "source": [
    "# instead of using default 0 as threshold, use validation data to find the best threshold.\n",
    "threshold_best_index = np.argmax(ious) \n",
    "iou_best = ious[threshold_best_index]\n",
    "threshold_best = thresholds[threshold_best_index]\n",
    "\n",
    "plt.plot(thresholds, ious)\n",
    "plt.plot(threshold_best, iou_best, \"xr\", label=\"Best threshold\")\n",
    "plt.xlabel(\"Threshold\")\n",
    "plt.ylabel(\"IoU\")\n",
    "plt.title(\"Threshold vs IoU ({}, {})\".format(threshold_best, iou_best))\n",
    "plt.legend()"
   ]
  },
  {
   "cell_type": "code",
   "execution_count": 32,
   "metadata": {
    "_uuid": "2c4852ecf2c504a4ce30e975f5e36b534c2111e6"
   },
   "outputs": [],
   "source": [
    "\"\"\"\n",
    "used for converting the decoded image to rle mask\n",
    "Fast compared to previous one\n",
    "\"\"\"\n",
    "def rle_encode(im):\n",
    "    '''\n",
    "    im: numpy array, 1 - mask, 0 - background\n",
    "    Returns run length as string formated\n",
    "    '''\n",
    "    pixels = im.flatten(order = 'F')\n",
    "    pixels = np.concatenate([[0], pixels, [0]])\n",
    "    runs = np.where(pixels[1:] != pixels[:-1])[0] + 1\n",
    "    runs[1::2] -= runs[::2]\n",
    "    return ' '.join(str(x) for x in runs)"
   ]
  },
  {
   "cell_type": "code",
   "execution_count": 33,
   "metadata": {
    "_uuid": "21bb50645b1c67d907e42c262d92f975668fccac"
   },
   "outputs": [
    {
     "data": {
      "application/vnd.jupyter.widget-view+json": {
       "model_id": "ccef76d347834014946e783e2dcaf9c7",
       "version_major": 2,
       "version_minor": 0
      },
      "text/plain": [
       "HBox(children=(IntProgress(value=0, max=18000), HTML(value='')))"
      ]
     },
     "metadata": {},
     "output_type": "display_data"
    },
    {
     "name": "stdout",
     "output_type": "stream",
     "text": [
      "\n"
     ]
    },
    {
     "ename": "NameError",
     "evalue": "name 'img_size_target' is not defined",
     "output_type": "error",
     "traceback": [
      "\u001b[0;31m---------------------------------------------------------------------------\u001b[0m",
      "\u001b[0;31mNameError\u001b[0m                                 Traceback (most recent call last)",
      "\u001b[0;32m<ipython-input-33-e724c151960c>\u001b[0m in \u001b[0;36m<module>\u001b[0;34m()\u001b[0m\n\u001b[0;32m----> 1\u001b[0;31m \u001b[0mx_test\u001b[0m \u001b[0;34m=\u001b[0m \u001b[0mnp\u001b[0m\u001b[0;34m.\u001b[0m\u001b[0marray\u001b[0m\u001b[0;34m(\u001b[0m\u001b[0;34m[\u001b[0m\u001b[0;34m(\u001b[0m\u001b[0mnp\u001b[0m\u001b[0;34m.\u001b[0m\u001b[0marray\u001b[0m\u001b[0;34m(\u001b[0m\u001b[0mload_img\u001b[0m\u001b[0;34m(\u001b[0m\u001b[0;34m\"../data/test/{}.png\"\u001b[0m\u001b[0;34m.\u001b[0m\u001b[0mformat\u001b[0m\u001b[0;34m(\u001b[0m\u001b[0midx\u001b[0m\u001b[0;34m)\u001b[0m\u001b[0;34m,\u001b[0m \u001b[0mgrayscale\u001b[0m \u001b[0;34m=\u001b[0m \u001b[0;32mTrue\u001b[0m\u001b[0;34m)\u001b[0m\u001b[0;34m)\u001b[0m\u001b[0;34m)\u001b[0m \u001b[0;34m/\u001b[0m \u001b[0;36m255\u001b[0m \u001b[0;32mfor\u001b[0m \u001b[0midx\u001b[0m \u001b[0;32min\u001b[0m \u001b[0mtqdm_notebook\u001b[0m\u001b[0;34m(\u001b[0m\u001b[0mtest_df\u001b[0m\u001b[0;34m.\u001b[0m\u001b[0mindex\u001b[0m\u001b[0;34m)\u001b[0m\u001b[0;34m]\u001b[0m\u001b[0;34m)\u001b[0m\u001b[0;34m.\u001b[0m\u001b[0mreshape\u001b[0m\u001b[0;34m(\u001b[0m\u001b[0;34m-\u001b[0m\u001b[0;36m1\u001b[0m\u001b[0;34m,\u001b[0m \u001b[0mimg_size_target\u001b[0m\u001b[0;34m,\u001b[0m \u001b[0mimg_size_target\u001b[0m\u001b[0;34m,\u001b[0m \u001b[0;36m1\u001b[0m\u001b[0;34m)\u001b[0m\u001b[0;34m\u001b[0m\u001b[0m\n\u001b[0m",
      "\u001b[0;31mNameError\u001b[0m: name 'img_size_target' is not defined"
     ]
    }
   ],
   "source": [
    "x_test = np.array([(np.array(load_img(\"../data/test/{}.png\".format(idx), grayscale = True))) / 255 for idx in tqdm_notebook(test_df.index)]).reshape(-1, img_size_target, img_size_target, 1)\n",
    "\n"
   ]
  },
  {
   "cell_type": "code",
   "execution_count": null,
   "metadata": {
    "_uuid": "ce8185fa64aafbe42ebde98aba984b4f22b0050e"
   },
   "outputs": [],
   "source": [
    "preds_test = predict_result(model,x_test,img_size_target)"
   ]
  },
  {
   "cell_type": "code",
   "execution_count": null,
   "metadata": {
    "_uuid": "7ccac81a492b9caaff4a25401165e145cf2c6f8e"
   },
   "outputs": [],
   "source": [
    "\n",
    "t1 = time.time()\n",
    "pred_dict = {idx: rle_encode(np.round(downsample(preds_test[i]) > threshold_best)) for i, idx in enumerate(tqdm_notebook(test_df.index.values))}\n",
    "t2 = time.time()\n",
    "\n",
    "print(f\"Usedtime = {t2-t1} s\")"
   ]
  },
  {
   "cell_type": "code",
   "execution_count": null,
   "metadata": {
    "_uuid": "770d7d596656f4f1ad17a6063ad662ac80e11b24"
   },
   "outputs": [],
   "source": [
    "sub = pd.DataFrame.from_dict(pred_dict,orient='index')\n",
    "sub.index.names = ['id']\n",
    "sub.columns = ['rle_mask']\n",
    "sub.to_csv(submission_file)"
   ]
  },
  {
   "cell_type": "code",
   "execution_count": null,
   "metadata": {
    "_uuid": "c89c406884ee54bee2c57aff51b116c157553ae9"
   },
   "outputs": [],
   "source": [
    "t_finish = time.time()\n",
    "print(f\"Kernel run time = {(t_finish-t_start)/3600} hours\")"
   ]
  },
  {
   "cell_type": "code",
   "execution_count": null,
   "metadata": {
    "_uuid": "a3009187c164635fbe163bd8ce406c2e309b1e5f"
   },
   "outputs": [],
   "source": []
  }
 ],
 "metadata": {
  "kernelspec": {
   "display_name": "Python 3",
   "language": "python",
   "name": "python3"
  },
  "language_info": {
   "codemirror_mode": {
    "name": "ipython",
    "version": 3
   },
   "file_extension": ".py",
   "mimetype": "text/x-python",
   "name": "python",
   "nbconvert_exporter": "python",
   "pygments_lexer": "ipython3",
   "version": "3.6.5"
  }
 },
 "nbformat": 4,
 "nbformat_minor": 1
}
